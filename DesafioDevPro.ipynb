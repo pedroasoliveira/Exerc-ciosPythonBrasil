{
  "nbformat": 4,
  "nbformat_minor": 0,
  "metadata": {
    "colab": {
      "name": "DesafioDevPro.ipynb",
      "provenance": [],
      "authorship_tag": "ABX9TyO6AQfCFasATvxHfkO6Irp8",
      "include_colab_link": true
    },
    "kernelspec": {
      "display_name": "Python 3",
      "name": "python3"
    },
    "language_info": {
      "name": "python"
    }
  },
  "cells": [
    {
      "cell_type": "markdown",
      "metadata": {
        "id": "view-in-github",
        "colab_type": "text"
      },
      "source": [
        "<a href=\"https://colab.research.google.com/github/pedroasoliveira/ExerciciosPythonBrasil/blob/main/DesafioDevPro.ipynb\" target=\"_parent\"><img src=\"https://colab.research.google.com/assets/colab-badge.svg\" alt=\"Open In Colab\"/></a>"
      ]
    },
    {
      "cell_type": "markdown",
      "metadata": {
        "id": "dA4F14R_d0Or"
      },
      "source": [
        "# **Desafio DevPro**"
      ]
    },
    {
      "cell_type": "markdown",
      "metadata": {
        "id": "gv6SuN_geE2B"
      },
      "source": [
        "Nesse notebook vamos solucionar os exercícios que estão no site da PythonPro Brasil. Abaixo, o liink de acesso:\n",
        "\n",
        "https://wiki.python.org.br/ListaDeExercicios"
      ]
    },
    {
      "cell_type": "markdown",
      "metadata": {
        "id": "oZnQPoCZY4tD"
      },
      "source": [
        "***Estrutura Sequencial***"
      ]
    },
    {
      "cell_type": "markdown",
      "metadata": {
        "id": "eqELJy4iewjF"
      },
      "source": [
        "Exercício 1: Faça um Programa que mostre a mensagem \"Alo mundo\" na tela.\n"
      ]
    },
    {
      "cell_type": "code",
      "metadata": {
        "colab": {
          "base_uri": "https://localhost:8080/"
        },
        "id": "OfQls2YPeg2Q",
        "outputId": "bb391671-c053-4b29-f263-de503a3defad"
      },
      "source": [
        "print(\"Hello World!\")"
      ],
      "execution_count": null,
      "outputs": [
        {
          "name": "stdout",
          "output_type": "stream",
          "text": [
            "Hello World!\n"
          ]
        }
      ]
    },
    {
      "cell_type": "markdown",
      "metadata": {
        "id": "qYG5afhRe36N"
      },
      "source": [
        "Exercício 2: Faça um Programa que peça um número e então mostre a mensagem O número informado foi [número].\n",
        "\n"
      ]
    },
    {
      "cell_type": "code",
      "metadata": {
        "colab": {
          "base_uri": "https://localhost:8080/"
        },
        "id": "Sm34LVRle63e",
        "outputId": "8dd2bd4e-9dd3-47d7-95d3-7e551ef8efc0"
      },
      "source": [
        "x = int(input(\"Digite um nº: \"))\n",
        "print(\"O número informado foi\", x,\"!\")"
      ],
      "execution_count": null,
      "outputs": [
        {
          "name": "stdout",
          "output_type": "stream",
          "text": [
            "Digite um nº: 5\n",
            "O número informado foi 5 !\n"
          ]
        }
      ]
    },
    {
      "cell_type": "markdown",
      "metadata": {
        "id": "f2HDDWqzfUIX"
      },
      "source": [
        "Exercício 3: Faça um Programa que peça dois números e imprima a soma.\n"
      ]
    },
    {
      "cell_type": "code",
      "metadata": {
        "colab": {
          "base_uri": "https://localhost:8080/"
        },
        "id": "ukcTz45ofN63",
        "outputId": "514855cb-0e69-4220-bb8d-a37e6c6b4c13"
      },
      "source": [
        "x = int(input(\"Digite o primeiro nº: \"))\n",
        "y = int(input(\"Digite o segundo nº: \"))\n",
        "print(\"A soma dos dois números é\", x+y,\"!\")"
      ],
      "execution_count": null,
      "outputs": [
        {
          "name": "stdout",
          "output_type": "stream",
          "text": [
            "Digite o primeiro nº: 5\n",
            "Digite o segundo nº: 2\n",
            "A soma dos dois números é 7 !\n"
          ]
        }
      ]
    },
    {
      "cell_type": "code",
      "metadata": {
        "colab": {
          "base_uri": "https://localhost:8080/"
        },
        "id": "bI9HDoJR1VbF",
        "outputId": "8715409a-0d66-47ef-c5f3-26887807a452"
      },
      "source": [
        "lista = []\n",
        "for _ in range(2):\n",
        "  numero = float(input(\"Digite um número: \"))\n",
        "  lista.append(numero)\n",
        "print(f\"A soma dos números é {sum(lista):.0f}.\")"
      ],
      "execution_count": null,
      "outputs": [
        {
          "name": "stdout",
          "output_type": "stream",
          "text": [
            "Digite um número: 10\n",
            "Digite um número: 20\n",
            "A soma dos números é 30\n"
          ]
        }
      ]
    },
    {
      "cell_type": "markdown",
      "metadata": {
        "id": "0eYnNVixgO00"
      },
      "source": [
        "4. Faça um Programa que peça as 4 notas bimestrais e mostre a média."
      ]
    },
    {
      "cell_type": "code",
      "metadata": {
        "colab": {
          "base_uri": "https://localhost:8080/"
        },
        "id": "kJR2qFiFgRQs",
        "outputId": "18c5ae30-3f53-4eea-c39b-9e93551715b9"
      },
      "source": [
        "nota1 = int(input(\"Digite a primeira nota: \"))\n",
        "nota2 = int(input(\"Digite a segunda nota: \"))\n",
        "nota3 = int(input(\"Digite a terceira nota: \"))\n",
        "nota4 = int(input(\"Digite a quarta nota: \"))\n",
        "media = (nota1+nota2+nota3+nota4)/4\n",
        "print(\"A média final do aluno é\", media,\"!\")"
      ],
      "execution_count": null,
      "outputs": [
        {
          "name": "stdout",
          "output_type": "stream",
          "text": [
            "Digite a primeira nota: 5\n",
            "Digite a segunda nota: 6\n",
            "Digite a terceira nota: 8\n",
            "Digite a quarta nota: 7\n",
            "A média final do aluno é 6.5 !\n"
          ]
        }
      ]
    },
    {
      "cell_type": "markdown",
      "metadata": {
        "id": "gWsAx8f7g8ho"
      },
      "source": [
        "5.Faça um Programa que converta metros para centímetros."
      ]
    },
    {
      "cell_type": "code",
      "metadata": {
        "colab": {
          "base_uri": "https://localhost:8080/"
        },
        "id": "dHtxnZOPg-YM",
        "outputId": "3ad18382-6914-49ca-fc28-e074f9c20af5"
      },
      "source": [
        "x = float(input(\"Digite o valor em metros: \"))\n",
        "y = x*100\n",
        "print(\"O valor inserido equivale a \",round(y,2),\"!\")"
      ],
      "execution_count": null,
      "outputs": [
        {
          "name": "stdout",
          "output_type": "stream",
          "text": [
            "Digite o valor em metros: 2\n",
            "O valor inserido equivale a  200.0 !\n"
          ]
        }
      ]
    },
    {
      "cell_type": "markdown",
      "metadata": {
        "id": "lC_mFX4WiA2p"
      },
      "source": [
        "6. Faça um Programa que peça o raio de um círculo, calcule e mostre sua área."
      ]
    },
    {
      "cell_type": "code",
      "metadata": {
        "colab": {
          "base_uri": "https://localhost:8080/"
        },
        "id": "_vlMrur1ha5r",
        "outputId": "4f3cfc6d-3a99-4867-ffa9-14bef78be459"
      },
      "source": [
        "raio = float(input(\"Digite a medida do raio em centímetros: \"))\n",
        "area = 3.14*raio**2\n",
        "print(\"A área do círculo é de \",round(area,2),\"centímetros quadrados!\")"
      ],
      "execution_count": null,
      "outputs": [
        {
          "name": "stdout",
          "output_type": "stream",
          "text": [
            "Digite a medida do raio em centímetros: 5\n",
            "A área do círculo é de  78.5 centímetros quadrados!\n"
          ]
        }
      ]
    },
    {
      "cell_type": "markdown",
      "metadata": {
        "id": "Tvlk30twi7TO"
      },
      "source": [
        "7. Faça um Programa que calcule a área de um quadrado, em seguida mostre o dobro desta área para o usuário.\n"
      ]
    },
    {
      "cell_type": "code",
      "metadata": {
        "colab": {
          "base_uri": "https://localhost:8080/"
        },
        "id": "hpshCf1qissA",
        "outputId": "311a78b6-881e-4ca7-b172-af6641879e29"
      },
      "source": [
        "l = float(input(\"Digite a medida do lado do quadrado, em centímetros: \"))\n",
        "area_quadrado = l**2\n",
        "print(f\"A área do quadrado é de {round(area_quadrado,2)} centímetros quadrados! Podemos dizer também que o dobro da área desse quadrado é {area_quadrado*2} centímetros quadrados!\")"
      ],
      "execution_count": null,
      "outputs": [
        {
          "output_type": "stream",
          "name": "stdout",
          "text": [
            "Digite a medida do lado do quadrado, em centímetros: 2\n",
            "A área do quadrado é de 4.0 centímetros quadrados! Podemos dizer também que o dobro da área desse quadrado é 8.0 centímetros quadrados!\n"
          ]
        }
      ]
    },
    {
      "cell_type": "markdown",
      "metadata": {
        "id": "HDXyMgEsj5JQ"
      },
      "source": [
        "8. Faça um Programa que pergunte quanto você ganha por hora e o número de horas trabalhadas no mês. Calcule e mostre o total do seu salário no referido mês.\n"
      ]
    },
    {
      "cell_type": "code",
      "metadata": {
        "colab": {
          "base_uri": "https://localhost:8080/"
        },
        "id": "d8TAkHtQi_s0",
        "outputId": "5cece924-2deb-43b3-98f6-b9d51ec3ed3b"
      },
      "source": [
        "salario_hora = float(input(\"Digite o valor/hora do salário: \"))\n",
        "horas_mes = float(input(\"Digite a quantidade de horas trabalhadas no mês: \"))\n",
        "salario_total = salario_hora*horas_mes\n",
        "print(\"O salario total do mês é de:\", salario_total,\"!\")\n"
      ],
      "execution_count": null,
      "outputs": [
        {
          "name": "stdout",
          "output_type": "stream",
          "text": [
            "Digite o valor/hora do salário: 19\n",
            "Digite a quantidade de horas trabalhadas no mês: 220\n",
            "O salario total do mês é de: 4180.0 !\n"
          ]
        }
      ]
    },
    {
      "cell_type": "markdown",
      "metadata": {
        "id": "Ic6cGxqP5tvm"
      },
      "source": [
        "9. Faça um Programa que peça a temperatura em graus Fahrenheit, transforme e mostre a temperatura em graus Celsius. C = 5 * ((F-32) / 9)"
      ]
    },
    {
      "cell_type": "code",
      "metadata": {
        "colab": {
          "base_uri": "https://localhost:8080/"
        },
        "id": "LR_xaNEt8LwT",
        "outputId": "88aa0f07-9dd2-4062-d2bc-e5dccae087ba"
      },
      "source": [
        "temp_faren = float(input(\"Digite a temperatura em Farenheit:\"))\n",
        "temp_celsius = round(5*((temp_faren-32)/9),1)\n",
        "\n",
        "print(\"A temperatura em Celsius é de\", temp_celsius,\".\")"
      ],
      "execution_count": null,
      "outputs": [
        {
          "name": "stdout",
          "output_type": "stream",
          "text": [
            "Digite a temperatura em Farenheit:10\n",
            "A temperatura em Celsius é de -12.2 .\n"
          ]
        }
      ]
    },
    {
      "cell_type": "markdown",
      "metadata": {
        "id": "VTwX243c51MW"
      },
      "source": [
        "10. Faça um Programa que peça a temperatura em graus Celsius, transforme e mostre em graus Fahrenheit."
      ]
    },
    {
      "cell_type": "code",
      "metadata": {
        "colab": {
          "base_uri": "https://localhost:8080/"
        },
        "id": "aLsVzLMj8W8k",
        "outputId": "35d72df0-f3d6-4027-e8ef-628a61a27b10"
      },
      "source": [
        "temp_celsius = float(input(\"Digite a temperatura em Celsius:\"))\n",
        "temp_faren = ((9/5)*temp_celsius+32)\n",
        "print(\"A temperatura em Farenheit é de\", temp_faren,\".\")"
      ],
      "execution_count": null,
      "outputs": [
        {
          "name": "stdout",
          "output_type": "stream",
          "text": [
            "Digite a temperatura em Celsius:32\n",
            "A temperatura em Farenheit é de 89.6 .\n"
          ]
        }
      ]
    },
    {
      "cell_type": "markdown",
      "metadata": {
        "id": "g4RBIcuA6JMR"
      },
      "source": [
        "11. Faça um Programa que peça 2 números inteiros e um número real. Calcule e mostre:\n",
        "- o produto do dobro do primeiro com metade do segundo .\n",
        "- a soma do triplo do primeiro com o terceiro.\n",
        "- o terceiro elevado ao cubo."
      ]
    },
    {
      "cell_type": "code",
      "metadata": {
        "colab": {
          "base_uri": "https://localhost:8080/"
        },
        "id": "6s3RIfeu8nB5",
        "outputId": "d12fc514-f86c-44b2-e7a0-ee283afcf0b7"
      },
      "source": [
        "num1 = int(input(\"Digite o primeiro número inteiro: \"))\n",
        "num2 = int(input(\"Digite o segundo número inteiro: \"))\n",
        "num3 = float(input(\"Digite o primeiro número real: \"))\n",
        "\n",
        "item_a = (2*num1)*(num2/2)\n",
        "item_b = (3*num1)+num3\n",
        "item_c = num3**3\n",
        "\n",
        "print(\"O produto do dobro do primeiro com metade do segundo é igual a:\", item_a)\n",
        "print(\"A soma do triplo do primeiro com o terceiro é igual a:\", item_b)\n",
        "print(\"O terceiro elevado ao cubo é igual a:\", item_c)"
      ],
      "execution_count": null,
      "outputs": [
        {
          "name": "stdout",
          "output_type": "stream",
          "text": [
            "Digite o primeiro número inteiro: 10\n",
            "Digite o segundo número inteiro: 10\n",
            "Digite o primeiro número real: 2.5\n",
            "O produto do dobro do primeiro com metade do segundo é igual a: 100.0\n",
            "A soma do triplo do primeiro com o terceiro é igual a: 32.5\n",
            "O terceiro elevado ao cubo é igual a: 15.625\n"
          ]
        }
      ]
    },
    {
      "cell_type": "markdown",
      "metadata": {
        "id": "PPl0xE0X6l3q"
      },
      "source": [
        "12. Tendo como dados de entrada a altura de uma pessoa, construa um algoritmo que calcule seu peso ideal, usando a seguinte fórmula: (72.7*altura) - 58"
      ]
    },
    {
      "cell_type": "code",
      "metadata": {
        "colab": {
          "base_uri": "https://localhost:8080/"
        },
        "id": "Flrhk3qK8x4V",
        "outputId": "ffb71e76-8056-4d27-c54f-1543b489429f"
      },
      "source": [
        "peso = float(input(\"Digite o seu peso: \"))\n",
        "altura = float(input(\"Digite a sua altura: \"))\n",
        "\n",
        "peso_ideal = round((72.7*altura)-58,1)\n",
        "\n",
        "print(\"O seu peso ideal é\", peso_ideal,\"quilos!\")"
      ],
      "execution_count": null,
      "outputs": [
        {
          "name": "stdout",
          "output_type": "stream",
          "text": [
            "Digite o seu peso: 109\n",
            "Digite a sua altura: 1.81\n",
            "O seu peso ideal é 73.6 quilos!\n"
          ]
        }
      ]
    },
    {
      "cell_type": "markdown",
      "metadata": {
        "id": "Pv4WsQ7C6t9A"
      },
      "source": [
        "13. Tendo como dado de entrada a altura (h) de uma pessoa, construa um algoritmo que calcule seu peso ideal, utilizando as seguintes fórmulas:\n",
        "- Para homens: (72.7*h) - 58\n",
        "- Para mulheres: (62.1*h) - 44.7"
      ]
    },
    {
      "cell_type": "code",
      "metadata": {
        "colab": {
          "base_uri": "https://localhost:8080/"
        },
        "id": "VmtznLlj85ro",
        "outputId": "b207c1cb-f764-4bc4-cb83-b950053bab8f"
      },
      "source": [
        "altura = float(input(\"Digite sua altura em metros: \"))\n",
        "sexo = str(input(\"Digite o sexo: \"))\n",
        "\n",
        "peso_ideal_masc = (72.7*altura)-58\n",
        "peso_ideal_fem = (62.1*altura)-44.7\n",
        "\n",
        "if sexo == 'masculino':\n",
        "    print(\"Seu peso ideal é de\", round(peso_ideal_masc,2))\n",
        "else:\n",
        "    print(\"Seu peso ideal é de\", round(peso_ideal_fem,2))"
      ],
      "execution_count": null,
      "outputs": [
        {
          "name": "stdout",
          "output_type": "stream",
          "text": [
            "Digite sua altura em metros: 1.81\n",
            "Digite o sexo: masculino\n",
            "Seu peso ideal é de 73.59\n"
          ]
        }
      ]
    },
    {
      "cell_type": "markdown",
      "metadata": {
        "id": "ojRah8vn1aPT"
      },
      "source": [
        "14. João Papo-de-Pescador, homem de bem, comprou um microcomputador para controlar o rendimento diário de seu trabalho. Toda vez que ele traz um peso de peixes maior que o estabelecido pelo regulamento de pesca do estado de São Paulo (50 quilos) deve pagar uma multa de R$ 4,00 por quilo excedente. João precisa que você faça um programa que leia a variável peso (peso de peixes) e calcule o excesso. Gravar na variável excesso a quantidade de quilos além do limite e na variável multa o valor da multa que João deverá pagar. Imprima os dados do programa com as mensagens adequadas.\n",
        "\n"
      ]
    },
    {
      "cell_type": "code",
      "metadata": {
        "colab": {
          "base_uri": "https://localhost:8080/"
        },
        "id": "z1lbASVBk7H_",
        "outputId": "38f74e8e-20e1-4b15-8457-2cfe7695bdf8"
      },
      "source": [
        "peso_peixes = float(input(\"Digite o peso total dos peixes (em kg): \"))\n",
        "excesso_peso = peso_peixes - 50\n",
        "multa = round(excesso_peso*4,2)\n",
        "\n",
        "if peso_peixes <= 50:\n",
        "  print(\"Sem excesso de peso. Parabéns!!\")\n",
        "else:\n",
        "  print(\"Excesso de peso: \",excesso_peso, \"kg\")\n",
        "  print(\"Multa a pagar: R$ \",multa)"
      ],
      "execution_count": null,
      "outputs": [
        {
          "name": "stdout",
          "output_type": "stream",
          "text": [
            "Digite o peso total dos peixes (em kg): 62\n",
            "Excesso de peso:  12.0 kg\n",
            "Multa a pagar: R$  48.0\n"
          ]
        }
      ]
    },
    {
      "cell_type": "markdown",
      "metadata": {
        "id": "4T-5NTa-yaoh"
      },
      "source": [
        "15. Faça um Programa que pergunte quanto você ganha por hora e o número de horas trabalhadas no mês. Calcule e mostre o total do seu salário no referido mês, sabendo-se que são descontados 11% para o Imposto de Renda, 8% para o INSS e 5% para o sindicato, faça um programa que nos dê:\n",
        "salário bruto.\n",
        "quanto pagou ao INSS.\n",
        "quanto pagou ao sindicato.\n",
        "o salário líquido.\n",
        "calcule os descontos e o salário líquido, conforme a tabela abaixo:\n",
        "+ Salário Bruto :\n",
        "- IR (11%) :\n",
        "- INSS (8%) :\n",
        "- Sindicato ( 5%) :\n",
        "\n",
        "= Salário Liquido :\n",
        "\n",
        "Obs.: Salário Bruto - Descontos = Salário Líquido."
      ]
    },
    {
      "cell_type": "code",
      "metadata": {
        "colab": {
          "base_uri": "https://localhost:8080/"
        },
        "id": "FqUjW0HEy40S",
        "outputId": "2f379701-0ddb-4f8c-b96c-ae1b0372b7ea"
      },
      "source": [
        "salario_hora = float(input(\"Digite o valor/hora do salário: \"))\n",
        "horas_mes = float(input(\"Digite a quantidade de horas trabalhadas no mês: \"))\n",
        "salario_total = salario_hora*horas_mes\n",
        "salario_liquido = round((salario_total-(salario_total*0.11)-(salario_total*0.08)-(salario_total*0.05)),2)\n",
        "\n",
        "print(\"Salário Bruto: R$\", salario_total)\n",
        "print(\"IR (11%): R$\", salario_total*0.11)\n",
        "print(\"INSS (8%): R$\", round(salario_total*0.08,0))\n",
        "print(\"Sindicato (5%): R$\", round(salario_total*0.05,2))\n",
        "print(\"Salário Líquido: R$\", salario_liquido)\n"
      ],
      "execution_count": null,
      "outputs": [
        {
          "name": "stdout",
          "output_type": "stream",
          "text": [
            "Digite o valor/hora do salário: 19\n",
            "Digite a quantidade de horas trabalhadas no mês: 220\n",
            "Salário Bruto: R$ 4180.0\n",
            "IR (11%): R$ 459.8\n",
            "INSS (8%): R$ 334.0\n",
            "Sindicato (5%): R$ 209.0\n",
            "Salário Líquido: R$ 3176.8\n"
          ]
        }
      ]
    },
    {
      "cell_type": "markdown",
      "metadata": {
        "id": "-FFllFkKxglA"
      },
      "source": [
        "16. Faça um programa para uma loja de tintas. O programa deverá pedir o tamanho em metros quadrados da área a ser pintada. Considere que a cobertura da tinta é de 1 litro para cada 3 metros quadrados e que a tinta é vendida em latas de 18 litros, que custam R$ 80,00. Informe ao usuário a quantidades de latas de tinta a serem compradas e o preço total.\n",
        "\n"
      ]
    },
    {
      "cell_type": "code",
      "metadata": {
        "colab": {
          "base_uri": "https://localhost:8080/"
        },
        "id": "1Hw3RoLzxvGP",
        "outputId": "55749681-9d7d-4476-9e0f-aafe42834d0b"
      },
      "source": [
        "area_pintada = float(input(\"Digite a medida da área a ser pintada, em metros quadrados: \"))\n",
        "qtde_tinta_necessária = area_pintada/3\n",
        "qtde_lt_18litros = round(qtde_tinta_necessária/18,0)\n",
        "preço_lt_18litros = 80.0\n",
        "\n",
        "print(\"Qtde de latas necessárias:\", qtde_lt_18litros,\"; Valor Total em R$:\", preço_lt_18litros*qtde_lt_18litros,\".\" )"
      ],
      "execution_count": null,
      "outputs": [
        {
          "name": "stdout",
          "output_type": "stream",
          "text": [
            "Digite a medida da área a ser pintada, em metros quadrados: 250\n",
            "Qtde de latas necessárias: 5.0 ; Valor Total em R$: 400.0 .\n"
          ]
        }
      ]
    },
    {
      "cell_type": "markdown",
      "metadata": {
        "id": "lUYFQcdflZRn"
      },
      "source": [
        "17. Faça um Programa para uma loja de tintas. O programa deverá pedir o tamanho em metros quadrados da área a ser pintada. Considere que a cobertura da tinta é de 1 litro para cada 6 metros quadrados e que a tinta é vendida em latas de 18 litros, que custam 80,00 ou em galões de 3,6 litros, que custam R$ 25,00.\n",
        "Informe ao usuário as quantidades de tinta a serem compradas e os respectivos preços em 3 situações:\n",
        "\n",
        "- comprar apenas latas de 18 litros;\n",
        "- comprar apenas galões de 3,6 litros;\n",
        "- misturar latas e galões, de forma que o desperdício de tinta seja menor. Acrescente 10% de folga e sempre arredonde os valores para cima, isto é, considere latas cheias.\n"
      ]
    },
    {
      "cell_type": "code",
      "metadata": {
        "colab": {
          "base_uri": "https://localhost:8080/"
        },
        "id": "1pCAyXNEng-2",
        "outputId": "d9eb6c67-9966-4ded-901a-84b212172c7d"
      },
      "source": [
        "area_pintada = float(input(\"Digite a medida da área a ser pintada, em metros quadrados: \"))\n",
        "qtde_tinta_necessária = area_pintada/6\n",
        "qtde_lt_18litros = qtde_tinta_necessária/18\n",
        "qtde_gl_4litros = qtde_tinta_necessária/3.6\n",
        "preço_lt_18litros = 80.0\n",
        "preço_gl_4litros = 25.0\n",
        "\n",
        "print(f\"Em latas de 18 litros -> Qtde de latas necessárias: {qtde_lt_18litros:.1f}; Valor Total em R$: {preço_lt_18litros*qtde_lt_18litros:.2f}.\")\n",
        "print(f\"Em galões de 3,6 litros -> Qtde de galões necessários: {qtde_gl_4litros:.1f}; Valor Total em R$: {preço_gl_4litros*qtde_gl_4litros:.2f}.\")"
      ],
      "execution_count": null,
      "outputs": [
        {
          "name": "stdout",
          "output_type": "stream",
          "text": [
            "Digite a medida da área a ser pintada, em metros quadrados: 160\n",
            "Em latas de 18 litros -> Qtde de latas necessárias: 1.0; Valor Total em R$: 80.00.\n",
            "Em galões de 3,6 litros -> Qtde de galões necessários: 7.4; Valor Total em R$: 185.19.\n"
          ]
        }
      ]
    },
    {
      "cell_type": "code",
      "metadata": {
        "colab": {
          "base_uri": "https://localhost:8080/"
        },
        "id": "0KtrY0pCVWck",
        "outputId": "7194757c-0212-4bde-fcfe-c1e5aecee857"
      },
      "source": [
        "tamanho = float(input(\"Quantos metros quadrados devem ser pintados: \"))\n",
        "\n",
        "litros = (tamanho / 6.0) * 1.1  # 10% de folga\n",
        "latas = int(litros / 18.0)\n",
        "galoes = int(litros / 3.6)\n",
        "\n",
        "# Calculo de latas\n",
        "if litros % 18 != 0:\n",
        "    latas += 1\n",
        "\n",
        "# Calculo de galoes\n",
        "if litros % 3.6 != 0:\n",
        "    galoes += 1\n",
        "\n",
        "# Calculo misturando latas e galoes\n",
        "mixLatas = int(litros / 18.0)\n",
        "mixGaloes = int((litros - (mixLatas * 18.0)) / 3.6)\n",
        "if (litros - (mixLatas * 18.0) % 3.6 != 0):\n",
        "    mixGaloes += 1\n",
        "\n",
        "print(\"Latas: \", latas, \"Valor: \", latas * 80,\".\")\n",
        "print(\"Galoes: \", galoes,\".Valor: \", galoes * 25,\".\")\n",
        "print(\"Latas: \", mixLatas, \"e\", mixGaloes,\". Valor: \", (mixLatas * 80)+(mixGaloes*25),\".\")"
      ],
      "execution_count": null,
      "outputs": [
        {
          "name": "stdout",
          "output_type": "stream",
          "text": [
            "Quantos metros quadrados devem ser pintados: 120\n",
            "Latas:  2 Valor:  160 .\n",
            "Galoes:  7 .Valor:  175 .\n",
            "Latas:  1 e 2 . Valor:  130 .\n"
          ]
        }
      ]
    },
    {
      "cell_type": "markdown",
      "metadata": {
        "id": "bprDBL0-62hy"
      },
      "source": [
        "18. Faça um programa que peça o tamanho de um arquivo para download (em MB) e a velocidade de um link de Internet (em Mbps), calcule e informe o tempo aproximado de download do arquivo usando este link (em minutos)."
      ]
    },
    {
      "cell_type": "code",
      "metadata": {
        "colab": {
          "base_uri": "https://localhost:8080/"
        },
        "id": "_X_6YRfm66Cx",
        "outputId": "1fc7d577-b3a8-43f9-87fa-714d70645485"
      },
      "source": [
        "tamanho = float(input(\"Digite o tamanho do arquivo (em MB): \"))\n",
        "velocidade_link = int(input(\"Digite a velocidade da internet (em Mbps): \"))\n",
        "\n",
        "tempo_download = (tamanho/velocidade_link)/60\n",
        "\n",
        "print(\"O tempo de download do referido arquivo é de\", round(tempo_download,2), \"minutos!\")"
      ],
      "execution_count": null,
      "outputs": [
        {
          "name": "stdout",
          "output_type": "stream",
          "text": [
            "Digite o tamanho do arquivo (em MB): 250\n",
            "Digite a velocidade da internet (em Mbps): 20\n",
            "O tempo de download do referido arquivo é de 0.21 minutos!\n"
          ]
        }
      ]
    },
    {
      "cell_type": "markdown",
      "metadata": {
        "id": "aGXhf9sZSj-9"
      },
      "source": [
        "***Estrutura de decisão***"
      ]
    },
    {
      "cell_type": "markdown",
      "metadata": {
        "id": "sJftzC4RSrDO"
      },
      "source": [
        "1. Faça um Programa que peça dois números e imprima o maior deles"
      ]
    },
    {
      "cell_type": "code",
      "metadata": {
        "colab": {
          "base_uri": "https://localhost:8080/"
        },
        "id": "lJo9H2YNTEWW",
        "outputId": "3db5458e-9dd7-43c4-d35f-e732fa5f81c2"
      },
      "source": [
        "n1 = float(input(\"Digite o primeiro número: \"))\n",
        "n2 = float(input(\"Digite o segundo número: \"))\n",
        "if n1>n2:\n",
        "  print(\"O maior número digitado foi: \", n1)\n",
        "else:\n",
        "  print(\"O maior número digitado foi: \", n2)"
      ],
      "execution_count": null,
      "outputs": [
        {
          "name": "stdout",
          "output_type": "stream",
          "text": [
            "Digite o primeiro número: 5\n",
            "Digite o segundo número: 7\n",
            "O maior número digitado foi:  7.0\n"
          ]
        }
      ]
    },
    {
      "cell_type": "markdown",
      "metadata": {
        "id": "9qcDa-UHVQtn"
      },
      "source": [
        "2. Faça um Programa que peça um valor e mostre na tela se o valor é positivo ou negativo."
      ]
    },
    {
      "cell_type": "code",
      "metadata": {
        "colab": {
          "base_uri": "https://localhost:8080/"
        },
        "id": "78GocMrjVcVk",
        "outputId": "01efc758-dadc-4ae7-82b3-897cfe691dfe"
      },
      "source": [
        "n1 = float(input(\"Digite o primeiro número: \"))\n",
        "if n1>0:\n",
        "  print(\"O número digitado é positivo!\")\n",
        "elif n1==0:\n",
        "   print(\"O número é nulo!\")\n",
        "else:\n",
        "  print(\"O número digitado é negativo!\")"
      ],
      "execution_count": null,
      "outputs": [
        {
          "name": "stdout",
          "output_type": "stream",
          "text": [
            "Digite o primeiro número: -7\n",
            "O número digitado é negativo!\n"
          ]
        }
      ]
    },
    {
      "cell_type": "markdown",
      "metadata": {
        "id": "9D84_LkUWvR7"
      },
      "source": [
        "3. Faça um Programa que verifique se uma letra digitada é \"F\" ou \"M\". Conforme a letra escrever: F - Feminino, M - Masculino, Sexo Inválido."
      ]
    },
    {
      "cell_type": "code",
      "metadata": {
        "colab": {
          "base_uri": "https://localhost:8080/"
        },
        "id": "JU-Q4iWG70xo",
        "outputId": "3ebbfdf7-84aa-4673-e969-67cf678e20fe"
      },
      "source": [
        "x = str(input(\"Digite o seu sexo (M para Masculino e F para Feminino): \"))\n",
        "if x==\"M\":\n",
        "  print(\"Sexo Masculino!\")\n",
        "elif x==\"F\":\n",
        "  print(\"Sexo Feminino!\")\n",
        "else:\n",
        "  print(\"Sexo inválido!\")"
      ],
      "execution_count": null,
      "outputs": [
        {
          "name": "stdout",
          "output_type": "stream",
          "text": [
            "Digite o seu sexo (M para Masculino e F para Feminino): dsad\n",
            "Sexo inválido!\n"
          ]
        }
      ]
    },
    {
      "cell_type": "markdown",
      "metadata": {
        "id": "lUqvk6wU9r5F"
      },
      "source": [
        "4. Faça um Programa que verifique se uma letra digitada é vogal ou consoante."
      ]
    },
    {
      "cell_type": "code",
      "metadata": {
        "colab": {
          "base_uri": "https://localhost:8080/"
        },
        "id": "OOWztRZW9wTG",
        "outputId": "24ca82cc-e6b2-4eee-d3ff-26fb79ad1e9a"
      },
      "source": [
        "x = str(input(\"Digite uma letra: \"))\n",
        "if (x==\"a\") or (x==\"e\") or (x==\"i\") or (x==\"o\") or (x==\"u\"):\n",
        "  print(\"Vogal!\")\n",
        "else:\n",
        "  print(\"Consoante!\")"
      ],
      "execution_count": null,
      "outputs": [
        {
          "name": "stdout",
          "output_type": "stream",
          "text": [
            "Digite uma letra: b\n",
            "Consoante!\n"
          ]
        }
      ]
    },
    {
      "cell_type": "markdown",
      "metadata": {
        "id": "ncQBPcTw_-DD"
      },
      "source": [
        "5. Faça um programa para a leitura de duas notas parciais de um aluno. O programa deve calcular a média alcançada por aluno e apresentar:\n",
        "- A mensagem \"Aprovado\", se a média alcançada for maior ou igual a sete;\n",
        "- A mensagem \"Reprovado\", se a média for menor do que sete;\n",
        "- A mensagem \"Aprovado com Distinção\", se a média for igual a dez."
      ]
    },
    {
      "cell_type": "code",
      "metadata": {
        "colab": {
          "base_uri": "https://localhost:8080/"
        },
        "id": "hgf6c23e8rej",
        "outputId": "0bf95c09-5836-4fb5-e6db-0a05995887c2"
      },
      "source": [
        "nota1= float(input(\"Digite a primeira nota: \"))\n",
        "nota2= float(input(\"Digite a segunda nota: \"))\n",
        "media = (nota1+nota2)/2\n",
        "if media >= 7 and media < 10:\n",
        "  print(\"Média final: \", media,\". Aluno Aprovado!\")\n",
        "elif media < 7:\n",
        "  print(\"Média final: \", media,\". Aluno Reprovado!\")\n",
        "elif media == 10:\n",
        "  print(\"Média final: \", media,\". Aluno Aprovado com Distinção!\")\n",
        "else:\n",
        "  print(\"Nota inválida. Digite novamente!\")"
      ],
      "execution_count": null,
      "outputs": [
        {
          "name": "stdout",
          "output_type": "stream",
          "text": [
            "Digite a primeira nota: 7\n",
            "Digite a segunda nota: 11\n",
            "Média final:  9.0 . Aluno Aprovado!\n"
          ]
        }
      ]
    },
    {
      "cell_type": "markdown",
      "metadata": {
        "id": "jidq71RjHBpg"
      },
      "source": [
        "6. Faça um Programa que leia três números e mostre o maior deles."
      ]
    },
    {
      "cell_type": "code",
      "metadata": {
        "colab": {
          "base_uri": "https://localhost:8080/"
        },
        "id": "8iivnaCxGFsQ",
        "outputId": "04368df9-716a-492e-d1e9-af7d5693ab7d"
      },
      "source": [
        "num1 = int(input(\"Digite o primeiro número: \"))\n",
        "num2 = int(input(\"Digite o segundo número: \"))\n",
        "num3 = int(input(\"Digite o terceiro número: \"))\n",
        "if num1 > num2 and num1 > num3:\n",
        "  print(\"O maior número digitado é num1: \", num1,\"!\")\n",
        "elif num2 > num1 and num2 > num3:\n",
        "  print(\"O maior número digitado é num2: \", num2,\"!\")\n",
        "elif num2 == num1 and num2 == num3:\n",
        "  print(\"Todos os números digitados são iguais!\")  \n",
        "else:\n",
        "  print(\"O maior número digitado é num3: \", num3,\"!\")"
      ],
      "execution_count": null,
      "outputs": [
        {
          "name": "stdout",
          "output_type": "stream",
          "text": [
            "Digite o primeiro número: 1\n",
            "Digite o segundo número: 2\n",
            "Digite o terceiro número: 3\n",
            "O maior número digitado é num3:  3 !\n"
          ]
        }
      ]
    },
    {
      "cell_type": "code",
      "metadata": {
        "colab": {
          "base_uri": "https://localhost:8080/"
        },
        "id": "UmMn8lkvNuz9",
        "outputId": "3097ea5b-6d72-4cb6-fa58-18d2aaaeecf7"
      },
      "source": [
        "lista = []\n",
        "for _ in range(3):\n",
        "  numero = float(input(\"Digite um número: \"))\n",
        "  lista.append(numero)\n",
        "print(max(lista))"
      ],
      "execution_count": null,
      "outputs": [
        {
          "name": "stdout",
          "output_type": "stream",
          "text": [
            "Digite um número: 1\n",
            "Digite um número: 1\n",
            "Digite um número: 1\n",
            "1.0\n"
          ]
        }
      ]
    },
    {
      "cell_type": "markdown",
      "metadata": {
        "id": "UvAMlUqrJXdk"
      },
      "source": [
        "7. Faça um Programa que leia três números e mostre o maior e o menor deles."
      ]
    },
    {
      "cell_type": "code",
      "metadata": {
        "colab": {
          "base_uri": "https://localhost:8080/"
        },
        "id": "0UdylBtKJap7",
        "outputId": "b98ec98d-5178-4486-9408-b9e1e040cf30"
      },
      "source": [
        "num1 = int(input(\"Digite o primeiro número: \"))\n",
        "num2 = int(input(\"Digite o segundo número: \"))\n",
        "num3 = int(input(\"Digite o terceiro número: \"))\n",
        "if num1 > num2 and num1 > num3:\n",
        "  print(\"O maior número digitado é num1: \", num1,\"!\")\n",
        "elif num2 > num1 and num2 > num3:\n",
        "  print(\"O maior número digitado é num2: \", num2,\"!\")\n",
        "elif num2 == num1 and num2 == num3:\n",
        "  print(\"Todos os números digitados são iguais!\")  \n",
        "else:\n",
        "  print(\"O maior número digitado é num3: \", num3,\"!\")\n",
        "\n",
        "if num1 < num2 and num1 < num3:\n",
        "  print(\"O menor número digitado é num1: \", num1,\"!\")\n",
        "elif num2 < num1 and num2 < num3:\n",
        "  print(\"O maior número digitado é num2: \", num2,\"!\")\n",
        "elif num2 == num1 and num2 == num3:\n",
        "  print(\"Todos os números digitados são iguais!\")  \n",
        "else:\n",
        "  print(\"O menor número digitado é num3: \", num3,\"!\")"
      ],
      "execution_count": null,
      "outputs": [
        {
          "name": "stdout",
          "output_type": "stream",
          "text": [
            "Digite o primeiro número: 1\n",
            "Digite o segundo número: 1\n",
            "Digite o terceiro número: 1\n",
            "Todos os números digitados são iguais!\n",
            "Todos os números digitados são iguais!\n"
          ]
        }
      ]
    },
    {
      "cell_type": "markdown",
      "metadata": {
        "id": "g74xJDuKLCML"
      },
      "source": [
        "8. Faça um programa que pergunte o preço de três produtos e informe qual produto você deve comprar, sabendo que a decisão é sempre pelo mais barato.\n"
      ]
    },
    {
      "cell_type": "code",
      "metadata": {
        "colab": {
          "base_uri": "https://localhost:8080/"
        },
        "id": "C-0AWomWKc11",
        "outputId": "038993d6-a1d6-4c60-8cbc-09489c17daa2"
      },
      "source": [
        "preco_prod1 = float(input(\"Digite o preço do produto 1: \"))\n",
        "preco_prod2 = float(input(\"Digite o preço do produto 2: \"))\n",
        "preco_prod3 = float(input(\"Digite o preço do produto 3: \"))\n",
        "\n",
        "if preco_prod1 == preco_prod2 and preco_prod1 == preco_prod3 and preco_prod2 == preco_prod3:\n",
        "  print(\"Todos os produtos possuem preços iguais.\")\n",
        "else:\n",
        "  if preco_prod1 < preco_prod2 and preco_prod1 < preco_prod3:\n",
        "    print(\"Compre o produto 1, pois o mesmo é o mais barato!\")\n",
        "  elif preco_prod2 < preco_prod1 and preco_prod2 < preco_prod3:\n",
        "    print(\"Compre o produto 2, pois o mesmo é o mais barato!\")\n",
        "  else:\n",
        "    print(\"Compre o produto 3, pois o mesmo é o mais barato!\")"
      ],
      "execution_count": null,
      "outputs": [
        {
          "name": "stdout",
          "output_type": "stream",
          "text": [
            "Digite o preço do produto 1: 1\n",
            "Digite o preço do produto 2: 0.50\n",
            "Digite o preço do produto 3: 2\n",
            "Compre o produto 2, pois o mesmo é o mais barato!\n"
          ]
        }
      ]
    },
    {
      "cell_type": "markdown",
      "metadata": {
        "id": "kYCIR2rxNmmR"
      },
      "source": [
        "9. Faça um Programa que leia três números e mostre-os em ordem decrescente."
      ]
    },
    {
      "cell_type": "code",
      "metadata": {
        "colab": {
          "base_uri": "https://localhost:8080/"
        },
        "id": "6N2rGJjyNmXb",
        "outputId": "d1dcf3d1-4aca-44c6-a0bc-0e069e1933a4"
      },
      "source": [
        "num1 = int(input(\"Digite o primeiro número: \"))\n",
        "num2 = int(input(\"Digite o segundo número: \"))\n",
        "num3 = int(input(\"Digite o terceiro número: \"))\n",
        "\n",
        "if num2 == num1 and num2 == num3:\n",
        "  print(\"Todos os números são iguais!\")\n",
        "else:\n",
        "  if num1 > num2 and num2 > num3:\n",
        "    print(num1,\",\", num2,\",\", num3,\".\")\n",
        "  elif num2 > num1 and num1 > num3:\n",
        "    print(num2,\",\", num1,\",\", num3,\".\")\n",
        "  elif num3 > num1 and num1 > num2:\n",
        "    print(num3,\",\", num1,\",\", num2,\".\")\n",
        "  elif num3 > num2 and num2 > num1:\n",
        "    print(num3,\",\", num2,\",\", num1,\".\")\n",
        "  else:\n",
        "    print(num1,\",\", num3,\",\", num2,\".\")\n"
      ],
      "execution_count": null,
      "outputs": [
        {
          "name": "stdout",
          "output_type": "stream",
          "text": [
            "Digite o primeiro número: 3\n",
            "Digite o segundo número: 5\n",
            "Digite o terceiro número: 6\n",
            "6 , 5 , 3 .\n"
          ]
        }
      ]
    },
    {
      "cell_type": "code",
      "metadata": {
        "colab": {
          "base_uri": "https://localhost:8080/"
        },
        "id": "ZdiPS5CxMxL8",
        "outputId": "3cbd468a-971a-44de-caca-2620bf7ba403"
      },
      "source": [
        "num1 = int(input('Informe um numero: '))\n",
        "num2 = int(input('Informe outro numero: '))\n",
        "num3 = int(input('Informe mais um numero: '))\n",
        "\n",
        "if (num1 >= num2) and (num1 >= num3):\n",
        "    print(num1)\n",
        "    if (num2 >= num3):\n",
        "        print(num2)\n",
        "        print(num3)\n",
        "    else:\n",
        "        print(num3)\n",
        "        print(num2)\n",
        "elif (num2 >= num3):\n",
        "    print(num2)\n",
        "    if (num1 >= num3):\n",
        "        print(num1)\n",
        "        print(num3)\n",
        "    else:\n",
        "        print(num3)\n",
        "        print(num1)\n",
        "else:\n",
        "    print(num3)\n",
        "    if (num1 >= num2):\n",
        "        print(num1)\n",
        "        print(num2)\n",
        "    else:\n",
        "        print(num2)\n",
        "        print(num1)"
      ],
      "execution_count": null,
      "outputs": [
        {
          "name": "stdout",
          "output_type": "stream",
          "text": [
            "Informe um numero: 4\n",
            "Informe outro numero: 2\n",
            "Informe mais um numero: 8\n",
            "8\n",
            "4\n",
            "2\n"
          ]
        }
      ]
    },
    {
      "cell_type": "markdown",
      "metadata": {
        "id": "v0O0RXxFSdR8"
      },
      "source": [
        "10. Faça um Programa que pergunte em que turno você estuda. Peça para digitar M-matutino ou V-Vespertino ou N- Noturno. Imprima a mensagem \"Bom Dia!\", \"Boa Tarde!\" ou \"Boa Noite!\" ou \"Valor Inválido!\", conforme o caso.\n"
      ]
    },
    {
      "cell_type": "code",
      "metadata": {
        "colab": {
          "base_uri": "https://localhost:8080/"
        },
        "id": "ZX7cc-7KSc8b",
        "outputId": "8dc4361c-8c5e-4a75-c8a8-1025808cc43e"
      },
      "source": [
        "turno = str(input(\"Digite o seu turno (M-matutino ou V-Vespertino ou N- Noturno): \"))\n",
        "if turno==\"M\":\n",
        "  print(\"Bom Dia!!\")\n",
        "elif turno==\"V\":\n",
        "  print(\"Boa Tarde!\")\n",
        "elif turno==\"N\":\n",
        "  print(\"Boa Noite!\")\n",
        "else:\n",
        "  print(\"Turno inválido!\")"
      ],
      "execution_count": null,
      "outputs": [
        {
          "name": "stdout",
          "output_type": "stream",
          "text": [
            "Digite o seu turno (M-matutino ou V-Vespertino ou N- Noturno): a\n",
            "Turno inválido!\n"
          ]
        }
      ]
    },
    {
      "cell_type": "markdown",
      "metadata": {
        "id": "jfiEKuJKTlTq"
      },
      "source": [
        "11. As Organizações Tabajara resolveram dar um aumento de salário aos seus colaboradores e lhe contraram para desenvolver o programa que calculará os reajustes.\n",
        "Faça um programa que recebe o salário de um colaborador e o reajuste segundo o seguinte critério, baseado no salário atual:\n",
        "- salários até R$ 280,00 (incluindo) : aumento de 20%\n",
        "- salários entre 280,00 e 700,00 : aumento de 15%\n",
        "- salários entre 700,00 e 1500,00 : aumento de 10%\n",
        "- salários de 1500,00 em diante : aumento de 5%. \n",
        "\n",
        "Após o aumento ser realizado, informe na tela:\n",
        "- o salário antes do reajuste;\n",
        "- o percentual de aumento aplicado;\n",
        "- o valor do aumento;\n",
        "- o novo salário, após o aumento."
      ]
    },
    {
      "cell_type": "code",
      "metadata": {
        "colab": {
          "base_uri": "https://localhost:8080/"
        },
        "id": "ZBetZl8ITMYN",
        "outputId": "afa02b5b-1dd2-4dce-afba-2d77223e6032"
      },
      "source": [
        "salario = float(input(\"Digite o seu salário: \"))\n",
        "\n",
        "if salario <= 280:\n",
        "  print(f\"\\nSalário antes do reajuste: R$ {salario:.2f}.\")\n",
        "  print(\"Percentual de reajuste: 20%.\")\n",
        "  print(f\"O valor do aumento foi de: R$ {salario*0.20:.2f}.\")\n",
        "  print(f\"O novo salário, após aumento, é de: R$ {salario+salario*0.20:.2f}.\")\n",
        "\n",
        "elif salario > 280 and salario <= 700:\n",
        "  print(f\"\\nSalário antes do reajuste: R$ {salario:.2f}.\")\n",
        "  print(\"Percentual de reajuste: 15%.\")\n",
        "  print(f\"O valor do aumento foi de: R$ {salario*0.15:.2f}.\")\n",
        "  print(f\"O novo salário, após aumento, é de: R$ {salario+salario*0.15:.2f}.\")\n",
        "\n",
        "elif salario > 700 and salario <= 1500:\n",
        "  print(f\"\\nSalário antes do reajuste: R$ {salario:.2f}.\")\n",
        "  print(\"Percentual de reajuste: 10%.\")\n",
        "  print(f\"O valor do aumento foi de: R$ {salario*0.10:.2f}.\")\n",
        "  print(f\"O novo salário, após aumento, é de: R$ {salario+salario*0.10:.2f}.\")\n",
        "\n",
        "else: \n",
        "  print(f\"\\nSalário antes do reajuste: R$ {salario:.2f}.\")\n",
        "  print(\"Percentual de reajuste: 5%.\")\n",
        "  print(f\"O valor do aumento foi de: R$ {salario*0.05:.2f}.\")\n",
        "  print(f\"O novo salário, após aumento, é de: R$ {salario+salario*0.05:.2f}.\")\n"
      ],
      "execution_count": null,
      "outputs": [
        {
          "name": "stdout",
          "output_type": "stream",
          "text": [
            "Digite o seu salário: 1600\n",
            "\n",
            "Salário antes do reajuste: R$ 1600.00.\n",
            "Percentual de reajuste: 5%.\n",
            "O valor do aumento foi de: R$ 80.00.\n",
            "O novo salário, após aumento, é de: R$ 1680.00.\n"
          ]
        }
      ]
    },
    {
      "cell_type": "markdown",
      "metadata": {
        "id": "ecMbxL44fjkg"
      },
      "source": [
        "![python.JPG](data:image/jpeg;base64,/9j/4AAQSkZJRgABAQEAYABgAAD/4REuRXhpZgAATU0AKgAAAAgABAE7AAIAAAAhAAAISodpAAQAAAABAAAIbJydAAEAAABCAAAQ5OocAAcAAAgMAAAAPgAAAAAc6gAAAAgAAAAAAAAAAAAAAAAAAAAAAAAAAAAAAAAAAAAAAAAAAAAAAAAAAAAAAAAAAAAAAAAAAAAAAAAAAAAAAAAAAAAAAAAAAAAAAAAAAAAAAAAAAAAAAAAAAAAAAAAAAAAAAAAAAAAAAAAAAAAAAAAAAAAAAAAAAAAAAAAAAAAAAAAAAAAAAAAAAAAAAAAAAAAAAAAAAAAAAAAAAAAAAAAAAAAAAAAAAAAAAAAAAAAAAAAAAAAAAAAAAAAAAAAAAAAAAAAAAAAAAAAAAAAAAAAAAAAAAAAAAAAAAAAAAAAAAAAAAAAAAAAAAAAAAAAAAAAAAAAAAAAAAAAAAAAAAAAAAAAAAAAAAAAAAAAAAAAAAAAAAAAAAAAAAAAAAAAAAAAAAAAAAAAAAAAAAAAAAAAAAAAAAAAAAAAAAAAAAAAAAAAAAAAAAAAAAAAAAAAAAAAAAAAAAAAAAAAAAAAAAAAAAAAAAAAAAAAAAAAAAAAAAAAAAAAAAAAAAAAAAAAAAAAAAAAAAAAAAAAAAAAAAAAAAAAAAAAAAAAAAAAAAAAAAAAAAAAAAAAAAAAAAAAAAAAAAAAAAAAAAAAAAAAAAAAAAAAAAAAAAAAAAAAAAAAAAAAAAAAAAAAAAAAAAAAAAAAAAAAAAAAAAAAAAAAAAAAAAAAAAAAAAAAAAAAAAAAAAAAAAAAAAAAAAAAAAAAAAAAAAAAAAAAAAAAAAAAAAAAAAAAAAAAAAAAAAAAAAAAAAAAAAAAAAAAAAAAAAAAAAAAAAAAAAAAAAAAAAAAAAAAAAAAAAAAAAAAAAAAAAAAAAAAAAAAAAAAAAAAAAAAAAAAAAAAAAAAAAAAAAAAAAAAAAAAAAAAAAAAAAAAAAAAAAAAAAAAAAAAAAAAAAAAAAAAAAAAAAAAAAAAAAAAAAAAAAAAAAAAAAAAAAAAAAAAAAAAAAAAAAAAAAAAAAAAAAAAAAAAAAAAAAAAAAAAAAAAAAAAAAAAAAAAAAAAAAAAAAAAAAAAAAAAAAAAAAAAAAAAAAAAAAAAAAAAAAAAAAAAAAAAAAAAAAAAAAAAAAAAAAAAAAAAAAAAAAAAAAAAAAAAAAAAAAAAAAAAAAAAAAAAAAAAAAAAAAAAAAAAAAAAAAAAAAAAAAAAAAAAAAAAAAAAAAAAAAAAAAAAAAAAAAAAAAAAAAAAAAAAAAAAAAAAAAAAAAAAAAAAAAAAAAAAAAAAAAAAAAAAAAAAAAAAAAAAAAAAAAAAAAAAAAAAAAAAAAAAAAAAAAAAAAAAAAAAAAAAAAAAAAAAAAAAAAAAAAAAAAAAAAAAAAAAAAAAAAAAAAAAAAAAAAAAAAAAAAAAAAAAAAAAAAAAAAAAAAAAAAAAAAAAAAAAAAAAAAAAAAAAAAAAAAAAAAAAAAAAAAAAAAAAAAAAAAAAAAAAAAAAAAAAAAAAAAAAAAAAAAAAAAAAAAAAAAAAAAAAAAAAAAAAAAAAAAAAAAAAAAAAAAAAAAAAAAAAAAAAAAAAAAAAAAAAAAAAAAAAAAAAAAAAAAAAAAAAAAAAAAAAAAAAAAAAAAAAAAAAAAAAAAAAAAAAAAAAAAAAAAAAAAAAAAAAAAAAAAAAAAAAAAAAAAAAAAAAAAAAAAAAAAAAAAAAAAAAAAAAAAAAAAAAAAAAAAAAAAAAAAAAAAAAAAAAAAAAAAAAAAAAAAAAAAAAAAAAAAAAAAAAAAAAAAAAAAAAAAAAAAAAAAAAAAAAAAAAAAAAAAAAAAAAAAAAAAAAAAAAAAAAAAAAAAAAAAAAAAAAAAAAAAAAAAAAAAAAAAAAAAAAAAAAAAAAAAAAAAAAAAAAAAAAAAAAAAAAAAAAAAAAAAAAAAAAAAAAAAAAAAAAAAAAAAAAAAAAAAAAAAAAAAAAAAAAAAAAAAAAAAAAAAAAAAAAAAAAAAAAAAAAAAAAAAAAAAAAAAAAAAAAAAAAAAAAAAAAAAAAAAAAAAAAAAAAAAAAAAAAAAAAAAAAAAAAAAAAAAAAAAAAAAAAAAAAAAAAAAAAAAAAAAAAAAAAAAAAAAAAAAAAAAAAAAAAAAAAAAAAAAAAAAAAAAAAAAAAAAAAAAAAAAAAAAAAAAAAAAAAAAAAAAAAAAAAAAAAAAAAAAAAAAAAAAAAAAAAAAAAAAAAAAAAAAAAAAAAAAAAAAAAAAAAAAAAAAAAAAAAAAAAAAAAAAAAAAAAAAAAAAAAAAAAAAAAAAAAAAAAAAAAAAAAAAAAAAAAAAAAAAAAAAAAAAAAAAAAAAAAAAAAAAAAAAAAAAAAAAAAAAAAAAAAAAAAAAAAAAAAAAAAAAAAAAAAAAAAAAAAAAAAAAAAAAAAAAAAAAAAAAAAAAAAAAAAAAAAAAAAAAAAAAAAAAAAAAAAAAAAAAAAAAAAAAAAAAAAAAAAAAAAAAAAAAAAAAAAAAAAAAAAAAAAAAAAAAAAAAAAAAAAAAAAAAAAAAAAAAAAAAAAAAAAAAAAAAAAAAAAAAAAAAAAAAAAAAAAAAAAAAAAAAAAAAAAAAAAAAAAAAAAAAAAAAAAAAAAAAAAAAAAAAAAAAAAAAAAAAAAAAAAAAAAAAAAAAAAAAAAAAAAAAAAAAAAAAAAAAAAAAAAAAAAAAAAAAAAAAAAAAAAAAAAAAAAAAAAAAAAAAAAAAAAAAAAAAAAAAAAAAAAAAAAAAAAAAAAAAAAAAAAAAAAAAAAAAAAAAAAAAAAAAAAAAAAAAAAAAAAAAAAAAAAAAAAAAAAAAAAAAFBlZHJvIEF1Z3VzdG8gU2FudG9zIGRlIE9saXZlaXJhAAAABZADAAIAAAAUAAAQupAEAAIAAAAUAAAQzpKRAAIAAAADNzMAAJKSAAIAAAADNzMAAOocAAcAAAgMAAAIrgAAAAAc6gAAAAgAAAAAAAAAAAAAAAAAAAAAAAAAAAAAAAAAAAAAAAAAAAAAAAAAAAAAAAAAAAAAAAAAAAAAAAAAAAAAAAAAAAAAAAAAAAAAAAAAAAAAAAAAAAAAAAAAAAAAAAAAAAAAAAAAAAAAAAAAAAAAAAAAAAAAAAAAAAAAAAAAAAAAAAAAAAAAAAAAAAAAAAAAAAAAAAAAAAAAAAAAAAAAAAAAAAAAAAAAAAAAAAAAAAAAAAAAAAAAAAAAAAAAAAAAAAAAAAAAAAAAAAAAAAAAAAAAAAAAAAAAAAAAAAAAAAAAAAAAAAAAAAAAAAAAAAAAAAAAAAAAAAAAAAAAAAAAAAAAAAAAAAAAAAAAAAAAAAAAAAAAAAAAAAAAAAAAAAAAAAAAAAAAAAAAAAAAAAAAAAAAAAAAAAAAAAAAAAAAAAAAAAAAAAAAAAAAAAAAAAAAAAAAAAAAAAAAAAAAAAAAAAAAAAAAAAAAAAAAAAAAAAAAAAAAAAAAAAAAAAAAAAAAAAAAAAAAAAAAAAAAAAAAAAAAAAAAAAAAAAAAAAAAAAAAAAAAAAAAAAAAAAAAAAAAAAAAAAAAAAAAAAAAAAAAAAAAAAAAAAAAAAAAAAAAAAAAAAAAAAAAAAAAAAAAAAAAAAAAAAAAAAAAAAAAAAAAAAAAAAAAAAAAAAAAAAAAAAAAAAAAAAAAAAAAAAAAAAAAAAAAAAAAAAAAAAAAAAAAAAAAAAAAAAAAAAAAAAAAAAAAAAAAAAAAAAAAAAAAAAAAAAAAAAAAAAAAAAAAAAAAAAAAAAAAAAAAAAAAAAAAAAAAAAAAAAAAAAAAAAAAAAAAAAAAAAAAAAAAAAAAAAAAAAAAAAAAAAAAAAAAAAAAAAAAAAAAAAAAAAAAAAAAAAAAAAAAAAAAAAAAAAAAAAAAAAAAAAAAAAAAAAAAAAAAAAAAAAAAAAAAAAAAAAAAAAAAAAAAAAAAAAAAAAAAAAAAAAAAAAAAAAAAAAAAAAAAAAAAAAAAAAAAAAAAAAAAAAAAAAAAAAAAAAAAAAAAAAAAAAAAAAAAAAAAAAAAAAAAAAAAAAAAAAAAAAAAAAAAAAAAAAAAAAAAAAAAAAAAAAAAAAAAAAAAAAAAAAAAAAAAAAAAAAAAAAAAAAAAAAAAAAAAAAAAAAAAAAAAAAAAAAAAAAAAAAAAAAAAAAAAAAAAAAAAAAAAAAAAAAAAAAAAAAAAAAAAAAAAAAAAAAAAAAAAAAAAAAAAAAAAAAAAAAAAAAAAAAAAAAAAAAAAAAAAAAAAAAAAAAAAAAAAAAAAAAAAAAAAAAAAAAAAAAAAAAAAAAAAAAAAAAAAAAAAAAAAAAAAAAAAAAAAAAAAAAAAAAAAAAAAAAAAAAAAAAAAAAAAAAAAAAAAAAAAAAAAAAAAAAAAAAAAAAAAAAAAAAAAAAAAAAAAAAAAAAAAAAAAAAAAAAAAAAAAAAAAAAAAAAAAAAAAAAAAAAAAAAAAAAAAAAAAAAAAAAAAAAAAAAAAAAAAAAAAAAAAAAAAAAAAAAAAAAAAAAAAAAAAAAAAAAAAAAAAAAAAAAAAAAAAAAAAAAAAAAAAAAAAAAAAAAAAAAAAAAAAAAAAAAAAAAAAAAAAAAAAAAAAAAAAAAAAAAAAAAAAAAAAAAAAAAAAAAAAAAAAAAAAAAAAAAAAAAAAAAAAAAAAAAAAAAAAAAAAAAAAAAAAAAAAAAAAAAAAAAAAAAAAAAAAAAAAAAAAAAAAAAAAAAAAAAAAAAAAAAAAAAAAAAAAAAAAAAAAAAAAAAAAAAAAAAAAAAAAAAAAAAAAAAAAAAAAAAAAAAAAAAAAAAAAAAAAAAAAAAAAAAAAAAAAAAAAAAAAAAAAAAAAAAAAAAAAAAAAAAAAAAAAAAAAAAAAAAAAAAAAAAAAAAAAAAAAAAAAAAAAAAAAAAAAAAAAAAAAAAAAAAAAAAAAAAAAAAAAAAAAAAAAAAAAAAAAAAAAAAAAAAAAAAAAAAAAAAAAAAAAAAAAAAAAAAAAAAAAAAAAAAAAAAAAAAAAAAAAAAAAAAAAAAAAAAAAAAAAAAAAAAAAAAAAAAAAAAAAAAAAAAAAAAAAAAAAAAAAAAAAAAAAAAAAAAAAAAAAAAAAAAAAAAAAAAAAAAAAAAAAAAAAAAAAAAAAAAAAAAAAAAAAAAAAAAAAAAAAAAAAAAAAAAAAAAAAAAAAAAAAAAAAAAAAAAAAAAAAAAAAAAAAAAAAAAAAAAAAAAAAAAAAAAAAAAAAAAAAAAAAAAAAAAAAAAAAAAAAAAAAAAAAAAAAAAAAAAAAAAAAAAAAAAAAAAAAAAAAAAAAAAAAAAAAAAAAAAAAAAAAAAAAAAAAAAAAAAAAAAAAAAAAAAAAAAAAAAAAAAAAAAAAAAAAAAAAAAAAAAAAAAAAAAAAAAAAAAAAAAAAAAAAAAAAAAAAAAAAAAAAAAAAAAAAAAAAAAAAAAAAAAAAAAAAAAAAAAAAAAAAAAAAAAAAAAAAAAAAAAAAAAAAAAAAAAAAAAAAAAAAAAAAAAAAAAAAAAAAAAAAAAAAAAAAAAAAAAAAAAAAAAAAAAAAAAAAAAAAAAAAAAAAAAAAAAAAAAAAAAAAAAAAAAAAAAAAAAAAAAAAAAAAAAAAAAAAAAAAAAAAAAAAAAAAAAAAAAAAAAAAAAAAAAAAAAAAAAAAAAAAAAAAAAAAAAAAAAAAAAAAAAAAAAAAAAAAAAAAAAAAAAAAAAAAAAAAAAAAAAAAAAAAADIwMjE6MDk6MjYgMTY6MDU6MzkAMjAyMTowOToyNiAxNjowNTozOQAAAFAAZQBkAHIAbwAgAEEAdQBnAHUAcwB0AG8AIABTAGEAbgB0AG8AcwAgAGQAZQAgAE8AbABpAHYAZQBpAHIAYQAAAP/hCzNodHRwOi8vbnMuYWRvYmUuY29tL3hhcC8xLjAvADw/eHBhY2tldCBiZWdpbj0n77u/JyBpZD0nVzVNME1wQ2VoaUh6cmVTek5UY3prYzlkJz8+DQo8eDp4bXBtZXRhIHhtbG5zOng9ImFkb2JlOm5zOm1ldGEvIj48cmRmOlJERiB4bWxuczpyZGY9Imh0dHA6Ly93d3cudzMub3JnLzE5OTkvMDIvMjItcmRmLXN5bnRheC1ucyMiPjxyZGY6RGVzY3JpcHRpb24gcmRmOmFib3V0PSJ1dWlkOmZhZjViZGQ1LWJhM2QtMTFkYS1hZDMxLWQzM2Q3NTE4MmYxYiIgeG1sbnM6ZGM9Imh0dHA6Ly9wdXJsLm9yZy9kYy9lbGVtZW50cy8xLjEvIi8+PHJkZjpEZXNjcmlwdGlvbiByZGY6YWJvdXQ9InV1aWQ6ZmFmNWJkZDUtYmEzZC0xMWRhLWFkMzEtZDMzZDc1MTgyZjFiIiB4bWxuczp4bXA9Imh0dHA6Ly9ucy5hZG9iZS5jb20veGFwLzEuMC8iPjx4bXA6Q3JlYXRlRGF0ZT4yMDIxLTA5LTI2VDE2OjA1OjM5LjczNDwveG1wOkNyZWF0ZURhdGU+PC9yZGY6RGVzY3JpcHRpb24+PHJkZjpEZXNjcmlwdGlvbiByZGY6YWJvdXQ9InV1aWQ6ZmFmNWJkZDUtYmEzZC0xMWRhLWFkMzEtZDMzZDc1MTgyZjFiIiB4bWxuczpkYz0iaHR0cDovL3B1cmwub3JnL2RjL2VsZW1lbnRzLzEuMS8iPjxkYzpjcmVhdG9yPjxyZGY6U2VxIHhtbG5zOnJkZj0iaHR0cDovL3d3dy53My5vcmcvMTk5OS8wMi8yMi1yZGYtc3ludGF4LW5zIyI+PHJkZjpsaT5QZWRybyBBdWd1c3RvIFNhbnRvcyBkZSBPbGl2ZWlyYTwvcmRmOmxpPjwvcmRmOlNlcT4NCgkJCTwvZGM6Y3JlYXRvcj48L3JkZjpEZXNjcmlwdGlvbj48L3JkZjpSREY+PC94OnhtcG1ldGE+DQogICAgICAgICAgICAgICAgICAgICAgICAgICAgICAgICAgICAgICAgICAgICAgICAgICAgICAgICAgICAgICAgICAgICAgICAgICAgICAgICAgICAgICAgICAgICAgICAgICAgCiAgICAgICAgICAgICAgICAgICAgICAgICAgICAgICAgICAgICAgICAgICAgICAgICAgICAgICAgICAgICAgICAgICAgICAgICAgICAgICAgICAgICAgICAgICAgICAgICAgICAKICAgICAgICAgICAgICAgICAgICAgICAgICAgICAgICAgICAgICAgICAgICAgICAgICAgICAgICAgICAgICAgICAgICAgICAgICAgICAgICAgICAgICAgICAgICAgICAgICAgIAogICAgICAgICAgICAgICAgICAgICAgICAgICAgICAgICAgICAgICAgICAgICAgICAgICAgICAgICAgICAgICAgICAgICAgICAgICAgICAgICAgICAgICAgICAgICAgICAgICAgCiAgICAgICAgICAgICAgICAgICAgICAgICAgICAgICAgICAgICAgICAgICAgICAgICAgICAgICAgICAgICAgICAgICAgICAgICAgICAgICAgICAgICAgICAgICAgICAgICAgICAKICAgICAgICAgICAgICAgICAgICAgICAgICAgICAgICAgICAgICAgICAgICAgICAgICAgICAgICAgICAgICAgICAgICAgICAgICAgICAgICAgICAgICAgICAgICAgICAgICAgIAogICAgICAgICAgICAgICAgICAgICAgICAgICAgICAgICAgICAgICAgICAgICAgICAgICAgICAgICAgICAgICAgICAgICAgICAgICAgICAgICAgICAgICAgICAgICAgICAgICAgCiAgICAgICAgICAgICAgICAgICAgICAgICAgICAgICAgICAgICAgICAgICAgICAgICAgICAgICAgICAgICAgICAgICAgICAgICAgICAgICAgICAgICAgICAgICAgICAgICAgICAKICAgICAgICAgICAgICAgICAgICAgICAgICAgICAgICAgICAgICAgICAgICAgICAgICAgICAgICAgICAgICAgICAgICAgICAgICAgICAgICAgICAgICAgICAgICAgICAgICAgIAogICAgICAgICAgICAgICAgICAgICAgICAgICAgICAgICAgICAgICAgICAgICAgICAgICAgICAgICAgICAgICAgICAgICAgICAgICAgICAgICAgICAgICAgICAgICAgICAgICAgCiAgICAgICAgICAgICAgICAgICAgICAgICAgICAgICAgICAgICAgICAgICAgICAgICAgICAgICAgICAgICAgICAgICAgICAgICAgICAgICAgICAgICAgICAgICAgICAgICAgICAKICAgICAgICAgICAgICAgICAgICAgICAgICAgICAgICAgICAgICAgICAgICAgICAgICAgICAgICAgICAgICAgICAgICAgICAgICAgICAgICAgICAgICAgICAgICAgICAgICAgIAogICAgICAgICAgICAgICAgICAgICAgICAgICAgICAgICAgICAgICAgICAgICAgICAgICAgICAgICAgICAgICAgICAgICAgICAgICAgICAgICAgICAgICAgICAgICAgICAgICAgCiAgICAgICAgICAgICAgICAgICAgICAgICAgICAgICAgICAgICAgICAgICAgICAgICAgICAgICAgICAgICAgICAgICAgICAgICAgICAgICAgICAgICAgICAgICAgICAgICAgICAKICAgICAgICAgICAgICAgICAgICAgICAgICAgICAgICAgICAgICAgICAgICAgICAgICAgICAgICAgICAgICAgICAgICAgICAgICAgICAgICAgICAgICAgICAgICAgICAgICAgIAogICAgICAgICAgICAgICAgICAgICAgICAgICAgICAgICAgICAgICAgICAgICAgICAgICAgICAgICAgICAgICAgICAgICAgICAgICAgICAgICAgICAgICAgICAgICAgICAgICAgCiAgICAgICAgICAgICAgICAgICAgICAgICAgICAgICAgICAgICAgICAgICAgICAgICAgICAgICAgICAgICAgICAgICAgICAgICAgICAgICAgICAgICAgICAgICAgICAgICAgICAKICAgICAgICAgICAgICAgICAgICAgICAgICAgICAgICAgICAgICAgICAgICAgICAgICAgICAgICAgICAgICAgICAgICAgICAgICAgICAgICAgICAgICAgICAgICAgICAgICAgIAogICAgICAgICAgICAgICAgICAgICAgICAgICAgICAgICAgICAgICAgICAgICAgICAgICAgICAgICAgICAgICAgICAgICAgICAgICAgICAgICAgICAgICAgICAgICAgICAgICAgCiAgICAgICAgICAgICAgICAgICAgICAgICAgICAgICAgICAgICAgICAgICAgICAgICAgICAgICAgICAgICAgICAgICAgICAgICAgICAgICAgICAgICAgICAgICAgICAgICAgICAKICAgICAgICAgICAgICAgICAgICAgICAgICAgIDw/eHBhY2tldCBlbmQ9J3cnPz7/2wBDAAcFBQYFBAcGBQYIBwcIChELCgkJChUPEAwRGBUaGRgVGBcbHichGx0lHRcYIi4iJSgpKywrGiAvMy8qMicqKyr/2wBDAQcICAoJChQLCxQqHBgcKioqKioqKioqKioqKioqKioqKioqKioqKioqKioqKioqKioqKioqKioqKioqKioqKir/wAARCAE2A0sDASIAAhEBAxEB/8QAHwAAAQUBAQEBAQEAAAAAAAAAAAECAwQFBgcICQoL/8QAtRAAAgEDAwIEAwUFBAQAAAF9AQIDAAQRBRIhMUEGE1FhByJxFDKBkaEII0KxwRVS0fAkM2JyggkKFhcYGRolJicoKSo0NTY3ODk6Q0RFRkdISUpTVFVWV1hZWmNkZWZnaGlqc3R1dnd4eXqDhIWGh4iJipKTlJWWl5iZmqKjpKWmp6ipqrKztLW2t7i5usLDxMXGx8jJytLT1NXW19jZ2uHi4+Tl5ufo6erx8vP09fb3+Pn6/8QAHwEAAwEBAQEBAQEBAQAAAAAAAAECAwQFBgcICQoL/8QAtREAAgECBAQDBAcFBAQAAQJ3AAECAxEEBSExBhJBUQdhcRMiMoEIFEKRobHBCSMzUvAVYnLRChYkNOEl8RcYGRomJygpKjU2Nzg5OkNERUZHSElKU1RVVldYWVpjZGVmZ2hpanN0dXZ3eHl6goOEhYaHiImKkpOUlZaXmJmaoqOkpaanqKmqsrO0tba3uLm6wsPExcbHyMnK0tPU1dbX2Nna4uPk5ebn6Onq8vP09fb3+Pn6/9oADAMBAAIRAxEAPwD36fxBYQeILbRt7SXtwGO2NciIBS3zn+HIBwOp+gJqODxCkmsR2Fxp19Z+eXFtPcKgS4KckKAxYHGSNyrkA07UrK4uNe0a4hj3RW0srStuA2homUcd+SOlZGnNqt14jkv9b0G/R4fNjssS25ghj9RiXc0jgDkqAM7RgbmYFqbut6vFoWkyX88E06o6IIoAu92dwigbiB1YdSKhh11Usp7vWrKbQ7eDG6XUZoFU5OM7kkYDnA5x1FVvF2m3Ot+FXs7aGQyyzW7GMShGVVmRm+YEYIUHkHtx2qrrejXVlo9vDoCXtwy3izSM9ytzcou0gmJrpmUNnb1OMFscmj+vyK0aNiXxBo0GmRajPq1jHYzHbFdPcoInPPAcnB6Hoexp8us6XDqcWmzalaR30w3R2rzqJXHPITOT0Pbsa4e1sNV8NW1tqepWE18kLXyTQmaAN+/mV0lYkpGBgENjGN3TGakutF8QTa0qpYNbWiX9pcCKzNqtqY08sNuJUTNIpDAfdXaox/dLSu1/X9dxPRO3md7JPDDJEksqI8zbI1ZgC7YJwPU4BOPQGqd14g0ayhEt7q1jbxsWAeW5RAdrbTyT2bg+/FU/ElvetPpF9YWb3xsLwzSQROiuymKSP5d5C5BcHBI4Brn7Lw1qZjSS9sEWYafqURHmKwV5pw6qOe69/wA8VLdlf1/K/wDwB9V/XW3/AATs7TUrHUGmWwvbe6a3fy5hDKrmN/7rYPB9jUbazpa6iuntqVoL12KrbGdfMYhQxAXOc4IP0INZPh7Rp9N1eSR7ZYIP7Ks7ZdpXAeMy7lwPTcvtzxWEbK81DxHrtpZ6dkSazaSvqG5AsIijgcggtvzgELtBHznJFXZc3L/W6Qltf+tv6R1r+JdCjtZrl9a09YIHEcspukCxseisc4BPoalvNb0rTlhbUNTs7VbgFoTPcIgkAGSVyecAg8VzEGi6hpem6BOmlNevp8lwZrOOSMODLu+dS7BSeefmHDHr0rmdZgPhnRJNP1BLSe61DQ3s4bNbmPdA++RgiIxDup3qo2BjmMcdMRG7/ryGlr/Xc9MfXdIimnhk1WySW3jMsyNcIGiQAEswzwMMDk8cj1po8RaIdOW/GsWBs3JC3P2pPLYjOQGzjjBz9K5u40XVodN1xrSyV7i61C2mjGIndo0jgDMgk+QONj7d/GQD6VDo/h3VRqVpc6nbTvs1iS9Ml1JCZAjWmxWYRYXduO3CjrzyPmNW/r7v8/wJvomdba63pV9JJHZanZ3DxxrK6xXCOURhlWIB4BByD0Ip+natp2sQNNpOoWt9EjbGktZllUN1wSpPPNcV/wAIvqltpNtHZ6ZbGWLSb6AxSCNkMsksbqpUnB3BWPPGeta/hHT9VttU1W71VLwLdLB5T3zW5lO0MCGEACDHGOvBHOcgJaq/9bjehuLrOmPqQ09NRtGvSCRbCdTIcdflznjBpieINGkmu4Y9WsWlslZrpFuULQAcEuM/KB3zXIafY3l7rF3Db6aEjj8QtePqG9Nu1FAK4zv3n7vTbtJ57Vmv4a8TXtpOt1ZzBv7KvbRYC1rHAkkmwqIRGAwjO08yHPTIHJKjqk+6/S//AACre9bz/Vo75vEuhItsz61pyi7Yrbk3aDzmB2kJz8xB4478VfnnhtbeSe5lSGGJS8kkjBVRR1JJ4ArhvF+i67fTXdtpVrN9mm05IY2tfsqiRlLkpM0oL7cFduzHLNkjqOj8Vafc6l4fMNnCJ5Y54Lj7OzAecI5Vcpk8ZIUgZ4zjJA5qiVvqadlfWmpWiXWnXUN3byZ2TQSB0bBwcMODyCKjXVtOfUpdPS/tWvYU8yW2EymRF4+YrnIHI5PqKzfDNndwyare3lo1j/aF4Z0tHdWaMBETLFCV3MULcE9euc1itp2sxaXqWlx6FBd3G+9ngv7x4mhcyl2RQpyxYhwhDKq4B5IwCn+g0vzNqz8WWF6pktpra6ge9Wzhks7pJ8krkM+04XvxknGD3wL663pT3FxAup2bTWpVZ4xcLuhLHADDOVyeBmuN07QdcfWTeXkF6yNcWbhr57USqsfmhgRBheNykYycEc9QJP7I1j/hGf7L/sJXurCP5b2SeIG6ImWQiPGSN+zJL7Pmx16hf1+C/W/6C/r8WdbcazaW9/bWe/zZri4NtiMg+U/lNL8/OR8q5/EdjmpLHVdP1Tzf7Mv7a88l9kv2eZZPLb+6cE4Psa42XQta1TUri6ksXsRcai0y+ZLGWijNgYQx2sRneQMDPr05rR8L6ZfxapDdXelDSo7XTI7Dy/MRvOZTnK7CRsXkLnB+Y/KKrr/Xb+l8/IcrJK39a/193mbGs+I9M0JFF/cxid8GO2WRfNkBYLlVJBIBPNWRquntqjaat/am/VN7WomXzQvrsznHI5xXK+ItG1KbUdUS10n7cmpi1ZLnzI1EHlNkqwYhu25cA8sc7etQWfhrVIfFitcC/ltU1SbUEm822W3UOGx/AZy+G2FchcDO7GBUrV6ieiO5aeJJkheVFlkBKIWAZgOpA74yPzqi/iHRY3gWTV7BWuNvkhrlAZd33dvPOcHGOuKpa7DfprWl6hp9i18sCzRSxxyIjJvC4f5yAVBXnBzzwDXL2Xg/UR4duLe806Np5dKsLUozowZo3cyJ1xgZHsfen0YHa/8ACQ6L/ZZ1P+17D7AG2G7+0p5QbOMb84znjGatC/tG0/7et1C1n5fm/aBIDHsxndu6YxznpXHajpGswaheXNhZzFJdW+0LJZi2a4WP7Ike+Pz/AJF+YFTn5sZx1rd8I6feaZ4VtrPUU2XMZl3jcrZzIxByoA5BB4A69B0ofw3X9aBs7DNL8Z6NqWk2moPdw2MN7IY7UXVzCDOc4+Xa55ycbfvA8ECnT+L9KtLyWC+l+yLFO8D3FwyJErKiPksW4BEige9csPDusWmh21udHF/JPoK6Y8ZmiAtpOclyTyh3DJTcfkHBrR0zwzfW/iKC4vIBLFBdyyCZmU5zaxRBsZzyVcetD62/rW35a/PyCWj/AK7f0vl5nS3evaRp6W73+q2Vst1zbtNcIgm6fdyfm6jp6irssscMLyzOscaKWd3OAoHUk9hXmmoeGvEZ8Ow6XZ2csQbR2tCbU2o/eZb93M0gLeXgrjy+5bOOCOy8QaZcal4RlsoIw0+yNvJcgCQoysYyTkfNt256c0fZuPZpf10/r5BbeMNDuYb64Go28dnYyJHJeSToIGLqrAq+7BHzAdueK2I54prdZ4pUeF1DrIrAqykZBB6Yx3rz+90LW7vUpdZg06808/2gtytvbS2puWX7P5Rb590W4HsT93oc8V0vh/TpdK8FpaTxyxSLHK7RyyI7IWZmwSiqvG7oowOgJxkpu0W+wLVpGhba5pN6tw1nqllcC2UPOYrhG8pSMgtg/KCATk0yPxDosulyanFq9g9hE22S7W5QxIeOC+cA8jv3FcDpGk6ve+E9OlsdIjt/sugraoknkuLtnMT7kBYjgIxHmAfM/Ixk1JPbX2ixza3rrSCNdVgugmpXVpFLcKITHtJUpEHU/MBnnYOc9KkrO39b2/4JMXdX/ra53M/iPQ7ayjvLnWdPhtZXKRzyXSKjsOoDE4J4PFST65pNrdR211qllDPIcJFJcIrOcZ4BOTwQa88s7HWNQ0eKfR7KWK3u31DZLZi13KJbglAzzKf3LDkmMEnAIzxnSTwpfPo9xHNpyGaZdLRldkO5YWQyA84wuH+vbNFvzX9fIfW3qdcfEOirpS6m2r2A09m2rdm5Tyic4xvzjORjrTrvXtH08xC/1WxtjMFMfnXKJvDZxjJ5zg49cVyWpeHdXXUGv7RLxRHqU8ypYNb+a6SRIodRMDH1VgQcHBOPQxp4QvU0G7thY5kfw61lCsk0bkSMzt5e4BV7ryFC8D0qV0/rpf8APQa1dv63t+Wp1Fv4r0a4k1VTf28Q0mYQ3byzIqxkqDknPAySvOPmVh2rTtrmC8tY7mzmjnglUNHLE4ZXB7gjgiuLl0bVY7q7lXTJLhYdWt7+OMSxD7Sgt0jZVy3DKy7vm2g4GDWv4ZSfTkNpeWbWst9Nc3qwqyssCmQHYxB+8d4J25XO7npmv6/Bf8H7hPy/r+v1Ne81bTtOnt4dQ1C1tZbltsEc8yo0p4GFBPzHkdPUU06zpg1X+yzqNp/aBXcLTz183GM52Zz056Vg+J9P1KfVo5dKsrh2lgELyo9u0DjeTsuI5Ru8sZzmL5jlhxhc58mj69P4uhle2mSzg1U3OI/sqW7RmNlDjA84ycjduIHXGeBUrp/XX+n/AFcHpf8Ar+v69Dp9I8R6XrcO6yu4TKIxLJbmVfNhU9C6gnbT4/EWiTacb+LWLB7JWKG5W6QxhgMkbs4zjnFcKnhPWb3w7BpP9mrpj2thdQtOZYys7zEEKu0scHGWLDGcYDdauWPhvUbm6F5fWl+Wa/tJHGoy2pcrCGO/bAoUAFgByzHHQYGWv8vzsD0/H8jsG17SE02LUG1SyFlMwWO5NwnluScABs4JyDVax8U6Re2Om3L3kNo2qIHtYLqVEllz2C55PI6Z61hLouoafewX8elm8WG/vW+yxPEGKzNlZRuIHbBGQcOeD0rIXwrrUGgy6aNISSTUNKgsRKk0eyxdGfJbJDFRvDDYCcr0HFKOtv66A9L/ANdT0e5uYLK1kubyeO3giXdJLK4VUHqSeAKhtdW06+CGyv7W4En3PKmV93yhuMHngg/Qg96oeJ7C6vdGiFlCLqW2uYLnyCwXzxHIGKgk4yccZOM4yR1rl9MTUTrVzqdrosrGHVp/Ps0miEkYkt4sMSWCHkDdhj97jdR3/rt/n+An0/rv/kdpPrmk20ds9zqdnCl2223aS4RRMfRMn5jz2q5LLHDC8szrHGilndzgKB1JPYV5lP4S17+zLNJYLx2m0cafc21jNahVfcxYO0yt8h3D5kyw29DxjtPEGlXF94QlsLVRNOqRkRyOMS7GVihJGPmCkZxjntR0uV1sWT4j0RdLXU21nTxYM2xbs3SeUW9A+cZ4PGa0FkR4xIjqyMNwYHII9c1ws2larJd3WsJo+oWc1xeCSKKyuLX7TCBCIy7CQtC27GCNxIG09c437nSLy++H8ujyfZ7a8m0425EC7Yo3Me3CjsuePpT6NgtWrj7Pxbot/c3yWt/BJBYwJcTXizIYArFx98HHHltnOMcVZl8RaLBpsWozaxYR2MzbYrp7pBFIeeA+cE8Hp6GuNvtB1nVnv7yLSJtKLR2BjhSa3MshgldmA5aPIBXbu4Py5xzhU0LVraw+1RWOs/bZrueUyJc2JuUDqq/OhQQbW2ZO0lgccnc2H/X9f106i6/12O3m1XT7a8t7S4v7aK5uv+PeGSZVeb/dUnLfhTU1rS5Li6t49Ss3ms13XMazqWgHq4zlR9a5+DT9TsdSdZ9Eg1BLyO0BeJ40t7UxD5htb5gqn5k2q3P93rWSvhvV5LNLH+yxA1hbX0f2rzY8XjTBtoXByNxIZt4XDAdetTJtJ28wjra/kdNfeNfD1jYtdtq9lNClzHayNDcxt5bu20Bvm4xyT3AVj2rSXVtOfU201b+1a+VPMNqJl80L/e2Zzjkc4rkNS8O6hHN51hpvmJFa6YqxRPGrOYLgu6DcwGQuMZIHvSvoOpyal9kbSlaJdVl1H7e8yKjo6MBH8p3h/mCH5cbRnJ4FVLTbz/T/AIL/AADpf+tr/wDAOusNW07VVlbS7+1vRC2yQ28yybG9DtJwfag6tpw1QaYdQtft5XeLTzl80rjOdmc498VieEbLUbV5/t1rcW8CwxQwLe/Z2mULu+QPDw0Sgjbu+bJYnrUTadqSeLZJLWymS1knM8jTNBJaufK27x/y2STgLgfJgH1pPR/1/X9fMP6/r+v8i5oXiddZvr21dLOJ7MAy+RqEVwVJJG1lXlSAOcgDOQCwGa1dP1Sw1a2NxpV9bX0AYqZbaZZFBHbKkjPNeeWvhjxHfWk0N9BNAz6LNZBJzapDHKxjOyNYRkRHBALZbA5A/i6rw7aXra3qWq3emtpUd1DbwpaySIzkxh8ufLZl53hRznCc44FNLT+u7E9/68i9qXiTTNKvYLK4uo2vJ5I0W1SRTKA77A5QkHbk9atW+q6fd309la39tPdW3+vgjmVni/3lByPxrlL7RdSOs3MUWlfaIrjV7bURf+ZGFRE8tWUgnduARsYGCp654pdB0TUrfVNLiudNFrHpRut975iEXfmscbQp3c53NuC/MBjPWktv67L/AIPqN7/13Z09xrFpaaj9juX8oi2a5aVyFjVFYKcknj7wqOHxJodxNHDb6zp8sssrQxol0jM7rgsgAPLDIyOoyKxfFuh3urPfi1t/OSfRp7VfnVd0jMpC8kdQDz0qPUfDlzLf381tYx/vr3TZEYFAWjhkQt3/AIQG4/KhfZv1/wA/8g6tf1sv1Ojt9Z0y7vmsrXUrSe6RSzQRzq0iqDtJKg5wDx9aZHr+jTWtzdRatYvb2h23Eq3KFIT6Oc4X8a4bRtJv9Vs4oLay+xRW9/qUrX+9NsvmNNGFABL5y4JyAPkGM8VOmhapPFHPJoMtmbKwt7RIbe5gEskkcgYSRcmMhMZUSbc5IIHddf68/wCvn0Dpp/X9bnVL4q0aTVtP0+C/t55NRhkmtnimRlkVCAcEHnOTjGfut6VdsdV0/VPN/sy/trzyX2S/Z5lk8tv7pwTg+xrlF0bWZ5NPea2dWe1voJJT5KyQmUoUeUIQpY7DuMYIyemOateF9Mv4tUhurvShpUdrpkdh5fmI3nMpzldhI2LyFzg/MflFV1/rz/4H3g9rr+v63+Rsaz4j0zQkUX9zGJ3wY7ZZF82QFguVUkEgE81Zj1bTptTl02K/tXvoV3yWqzKZUXjkpnIHI5x3Fcr4i0bUptR1RLXSftyamLVkufMjUQeU2SrBiG7blwDyxzt61X0fwzqlp4ogN2t/Jb2t/dXaTtNbC3xKXI2gIZmY+ZgqxAGCQxwoKWr1BnTavr/9l6hZ2MWm3mo3N4kjxx2piGFTbuJMjoP4x3pbfxJp76TLf38g0qO3lMNwt/IkfkuDjazBivORjBIORVHX/D76z4o0ieQXK2dtBcrLLbXb27qzeXtGUZWIO1vbjntWHJ4b1m10mwhgS8Muk6hJJ59rLA096jowE2Zyyl/nw2/HRivYULb+u430t/W519z4h0WzWFrvV7CAXAVoTLcovmBvulcnnODjHXFRat4m0vRriG2u7mNrueWKNLVJF80iSQRh9hIO0M3JrkoPB98mhahCbFjLPocttEs80TuJZJJX8slQqj7y9AFHQE4zVi90HVBfXEEWlfalutTsb8XnmRBYVi8pWQgnduAjYjAIIY854LjZtX7/AK2/LUX9fgv8zrotZ0yfU5dNg1G0kvoRmS1SdTKg45KA5HUdu4q4SFUliAAMkntXB6dpeuxeJ7S7vbSeO0s7m7kZFNoluA4fa0QQeYc8bjIQctnB5K9LrNtL4i8F3lvZ/uZdQsWWMTfLtLpwGx064OKXS4L4rMsWuv6PfReZZatY3MZKjdDco4yzFVGQe7AgepBFPu9a0uwt5Li/1KztoY5PKeSadUVXxnaSTgHHbrXCyQ6jqOu6nLDoT2t1BFpc5smmi3yLFPKThlYpnCkLlh0GcdnXGheIJbwasLW+tn+23Mn2WyltWm2SxxhW/fbosjYVYZyNxwSOo+v9dv8Agh1t6fk3/keiKyuoZCGVhkEHIIrHtvFmjXd/dW9tfQSx2duLia6SZGhRdzKQXB4I2HOegxUVjoc0PgFNEDNbTfYDbgtIJDEShA+YKoOM9lA46Vy154c1nVLeV49IfS2hs7KJUSaAvK0E3mFV+8mMfd38E9QoofxW6f8ADh9m/wDXT/gnbnxBow06PUDq9iLKTOy5+0p5b4znDZwcYOfoadNrmk28VpLcapZRR3uPsrvcIonzjGwk/NnI6etcH/Z99pt5pF3cabe3dxPrUt19muprYzv/AKK67sRhIlb5c43Hpndk4EVz4P1xYCfKvHS+s5reS0sZbVVh8yeSTY5mVgE2yKpMeSCnRuKH/X3f0v6sH9fiegtrelJqS6c+p2a3zNtW1NwglJwDgLnOcEH6GoJfEmmR67Bo6XUc97LIY2ihkVmhIQv+8GcrkKccc1gf8I1eqb1vsoeSTWbK5Ry6ktFEkIZs8dNsnYE88c1TPhzVpZYdPXTvIFvdX0n9pmWPDidJdrKAd+cuobIHIGMjkD0X9dl/nYOv9eZ2tjqun6p5v9mX9teeS+yX7PMsnlt/dOCcH2NVdZ8S6ZoWxL65j+0SMgjtVkXzXDOE3BSQSAW5PoDWF4M0TULDUXuNShv4zFYxWim7ltSG2knCLAgOwdmcg/MflFM13RdSl1LUkttK+2pqM9pOlyZI1WARMu5SGO7I2llwDyx5FD0sJM6qPVtOm1OXTYr+1e+hXfJarMplReOSmcgcjnHcUX+radpQiOqaha2QmbZGbiZY97eg3EZPtXKafoepxa1ZW8un+VFY6pd37al5iFZ0l8zagAO/d+8AO5QP3fU8Vf8AFdhf3F1BNpdndSzeRJD5tu8BXDFTslSbgxkgElPn4wOtHb+v6/r0Ke7S/r+tzal1nTINUj02fUbSO/lG6O1edRK455CE5PQ9uxrNufF+nQabDcme2ge4uHt4Yr26jt95SXy3IJJyBgnAyTxxzWBqGjeILnxCdtrItquo2twPswtkt5I08vczZHnGQEN3A2qACehoan4c8SyabdWNrazRrc213GHtja5ZnnlYLM8gLeWVZSBHyCWzjgg6J/1tf/gC3dv6/rqd5c6/plvdm0+220l2ror2y3EYkTcyqCVZhx86+5yMAkgGaLVdOuNSm0+C/tZb2AbpbZJlMkY45ZQcjqOvqK5dvD+oGDUSLTElxrFjcr865aKMW+49e2x+OpxxnIpml6HqcWtafDNp3kRabf3d2+oeYhW5WXzMKoB3ZPmAtuUD93xniqsv69ED2udFqXiLTNHv4rbVbqKzEsLSie4kWOMBWVcFmI5JcYH1qeXWtKhvDaTalZx3KgEwvOocA4wduc/xL+Y9aw/ENjfHxPaala6P/acUen3NsVWSNWV5Gjxw7AYwrZ9vXocu28K6rY+G9SthClzeeXYiNhIB9pMCR5AJPGSrAbsdfSo+zf8Ard/8AOtv66HUaj4m0rS720tLu8hWa6uhaqnmoCkhTeAwJBHG33y6+tWrbVdPvLy4tLO/tbi5tjieGKZWeI/7Sg5X8a5JNN1mbWP7Tl0mWJX1uK6EJmiMiw/ZPJLHD7chjyATwDjPGX+HNE1K11LSo7vTRappEFxE94ZEIuzIwwUCnODjc24LzjAPWn2/roOVun9as7WiiigQUUUUAIzKiFnYKqjJJOABQjrJGrxsHRgCrKcgj1BrH8VE/wBhhD/qpLq3jn942mQOD7EEg+xNYrX9ufGd3FqWqXNrqMV0iabZRXDgTwmJTnyR8rqWMgZyp27fvLt4P6/r7/zHbQ6y7sbS/jRL61huUjcSIs0YcK46MM9COxpL6/s9MtGutSu4LS3QgNNcSCNBk4GSeOteWxatdtoF0+na1ezXzaHNLq264dzZXYK7cKT+5bJlGxQowo44zWpqOneXq0lg19qUsEOo6fLGJL+YsrSFlfDbs4O3OM4BzgCnbVLu/wBbEydr+V/yueighlBUggjII70teW3GrXSzXJttVvG1fdqA1G0+0ORbQIkhicR5xFgiHawALbicnOasaxb3Npp96YdW1RTZaAL2M/bpcm4y58wktz0+6crjjGAMStXb+ur/AEKs9v63S/U9KorzfWZ7/SUv7W1vp3slvrY3Mt5qMsflRvES2ZwGaJS4TlRgbjjaDkdR4JnuLjwzG9zdJdjzpBDMkzzAxhztHmuimTA434+bGcnOaa1v5C7PubsU8UxkEMqSGN9jhGB2t1wfQ8jj3o8+L7R5Hmp523f5e4btucZx1xnvXml5d2elf2vALyWNrjXSs3m6zJaxxgw718yX5miU4ONuNxCrnHFZ8GoRSxW82taveWci6ZcpC8V5IrvKly6xp5h2tI4AwFYZfBypIpX0T7//ACNw7/11sevVHDPDcxl7eVJUDMhZGDAMpII47gggjsRXmd7quuHxJEl9eRWV5mz+zQvqE0TOGVTKFtkjZZgWMikn7uM/LjNUdV1V7XSZraG4lgnDalNAP7Vksw7i6kx5axoWnkGPuH5cEcc03ov66DWqv6fievUyaeK2hMtxKkUa4y7sFA5x1NQW9wz6PFcMWkZoA5MYBZjtzwOma8jXWZb3SdRMF9LLBNpazkpqcmoOJRNHyVZAkcoD8xpwMjgDbQ7ptdv+D/kTf3eb+v61PZqYZ4hcLAZUEzKXWMsNxUEAnHXAJHPuK84u9YgtdPv0sdTubrR2voIobyXV3jiDFC0itd/M6x5VfunO9tuQCQItI1W6ltYUvNRu4tsN8IRHdSSsZEu41hAZ9plPIUbx8wODwTQtX/Xa43or/wBb2PT6YJozOYRIhlVQ5TcNwUkgHHpwfyrgrzUf9H09PEeqT6fE11MNWeO7eBYZhHmOPzFbMcZGCuGXd8ucliDoaPPdz2/ha5u2le7l85HeVNskkGxiGYds7Yifc+9AHYUVyfj68urS007y5o4LKS6K3cst+9kgXYxUNOilowW28jGThc84Oj4OmubjwnYy3tyt1IyttmVncOm47DudELfLt+baN3XnOaFqgejNCHVtOuL+ext7+1lu7cZmt0mVpIh6soOR1HWi11XTr21S6sr+1uLeR/LSWKZXRmzjaCDgnPGK5DUJrHVfF9jp1hdW0qBbqCexto/LuLQujb5pMnO0nAAKrkuG3NwKoXU13okzXZvrCQQXZU3c9uy2/wBoEG07UEmQdqLGPmPzyPx0WlfuOx6TRVZpXk0ozMjQyNDuKE8oducfUV5jpWumLw8l1a6tqN/u0NZNUc3pY29xmMJktuEBw0hbA+6u7BIBp9Wu3/B/yF0T7/8AA/zPV6K8v0u6uNRU2K6jOto+sworWmrz3IMTW5Zglw212UkHocA5weKnh1iR/iFbR21zMAupyWs8UurSSSBBE4Aa12+WiEqCrk7m4OSSaFq7f10/zB6K/wDXX/I9Jorn/GVw1to8DPcy2lo13El5cRSGNo4S3zHeOUGcAsCMAk5HWjwbcvc6POy3Mt3ZrdypZXEzl2lgB+U7zy4zuAY5yADk9aFrf+u3+f5g9Lf13/y/I0rjW9Ks9Ri0+71OzgvZseVbS3CLJJk4G1ScnJGOKtxzxTNIsMqSNE2yQKwJRsA4PocEHHuK878Sz2Wn3WvRx6jbeZfENcaHqMX7y+YIqr9mZHVxvChQQHww4AIIqxtuNW8WyafcahqENr9quMxwXkkRwsFuVXcrAgBmJ4PXPqcrpfyv+X+f/DA9H/X9f11O7uLiG0t5Li6mjghiUtJLIwVUA6kk8AURXEM7SCGVJDE2yQIwOxsA4PocEHHuK8j1fUGvvBhHiDVbqMy+G0eyUXDJ9rnKv5uVH+tbAjyDnAJOBya3rvUgurXMGt6pNZaN/aEqSXH2x7cRsLeExx+YpBUEs5wCMkd84qmrX/rrYGmrf10uehVHDPDcKzW8qSqrsjFGDAMpwRx3BBBHavMdY11hrdutjf3bSW8liqtdalJBLJGzpucWixhZFIYhnfGDuHG0CltpbCwj+zX2r3NhpZ1bURezDUpYykocmJGk3bkypLYyNxwec8p6K/8AXT/MdtP67P8AyPUaKyfC095c+FdOm1EyNcvApdpU2O3oWHYkYJHqa4/whqWp3PiuNLy+iNwyzm/tBqM07qQ3y7oDHst8cAYYbgf4utH2uUm+lz0aiua8Y3KW/wDZYv72Ww0qS6K3tzHO0G0eW2wNKpBRS+0ZyMnA74PJw+JmsdFuJbvV7k+fpl99jeaVg88iTyBdmcZkC7eByBjgAVLlZf12uVa7t/W9j1GivMNQ1TVh4ojja/jtpQ1n9hSXUZo2mjKqZMW6Rss+SXBY8rjPy4zXbeLp7m28K3stnJJE6hd8kWd8cZcCRlwDyE3Hp2qnohLWxs1mah4m0HSbr7Nqut6dZT7Q3lXN2kbYPQ4Yg4rM8HXMdxJqi6dfzahpMdwos7iWdpwcoC6rKxJdQ2eSTgkjPGBXii1ST4iawdMvLO3iW2tPOW4tGmZx+8+6RIm3v1BoFfQ39Q17R9JWFtV1WxslnBMRublI/MAx93cRnqOnrUd/4m0HSrhYNU1vTrKZkDiO4u442KnocMRxwea5y61C20XX9ffVNQsdKvLwxGyu9STMUkCooMa/Mm7DeYSobI3g9+Y/n/4QzwmJLYWpXUbVRCI3jCKGIACuSyjGOCSRR282vxf6Deib8n+B1EviTQ4FtWn1nT4xeANbF7pB549Uyfm6jpWlXB+JprLT9b1OY6xZ6dNd2iwz2erQB4r9Ap2+Vh1cn5mUgFuv3ckE9hpH/IDscW0lr/o8f+jyMWaL5R8pJ5JHTJ5o6N/1/X9aBs7FyivNl1YN4evLiDWL466YSdStY53kFoPNUSNsIIhZU3bQAu4ZOGxkLaS/2jrFpZabrF/c6G2qFYp476VjKotXdkE4bc6iQA53HByvbAFqD0PSKK8xu57218P213JqExgu9WuUvZrvVprWNI0klESeau4wrkKPlA3EAE80xtVuE0/RpdQ1nz5GgJhih1Oe2kmHmkI8OY1F25XaNrgA8HpJktK7sJ6K56jRXnVtqJbxVKkOrXkuqLrbQrYG5YoLTb8x8rOCgyTvxwwCg9qyptWu/wCyLp7HWb1tVbTrt9Vi+0O4spQRsO08QkHIUKF3DnBxmpi7pPv/AJXG9G1/W9j1qo4biG4Dm3ljlEblH2MG2sOqnHQj0rgdQMukz6lZnVNQj0xbmye5nlvJGeCN9wkIkJLIpKrkggKCxBXrWPJetbWEQsr9Ros2o3jSXdzqstkrn5TFm5RWYggsR2fA5Pcvq/67f5gtUv67/wCR61RWX4ZlupvC+nSahN9ouWt1MkoVh5hx97DKp568qPpXGeF9ZkvfG8HlXUjRTpdCeOTVZLhwyuu1ZIdgjgcDOFU5xnrjNN6SsK+lz0SaaK3gkmuJEiijUu8jsFVVAySSegFI9zBGYhJNGhmbZFuYDzGwThfU4BPHYGsLx5YW9/4G1cXaGRYbOaVV3kKWWNiCQDhsHkA5GQD1ANVNasLc614Uvyha5F4IldnJCqbeYkKM4GSBkgZOBnOBTSuVbS/r+B0K6tpztdhNQtWNj/x9ATKfs/Gfn5+XgE84q3nPSvPtYsZtLurxYruGeKJPtEoeIqtvE05cCUh/nG8sx+6NkbA/ezXX+H9Qm1TRIbu4MTu7OBLCMRzKrlRIgyflYAMOTwRyetJaq4mXpbiCBolnmjjaZ/LjDsAXbBO0Z6nAJx7GpK83uZ0n8WWou7+d9Xh1xttibhikcAikEbeV91VKkHfjksRk9KseCdRkutWslh1O6vp5dOaTWoZp2kFrdblwu0nELZMo2AKMKOOM0R95X/ra/wDXmN6P+u9jt7/UrHSrU3OqXlvZW4IUy3EqxqCegyxAqS2uYLy1jubOaOeCVQ0csThlcHuCOCK53xe1tBdaZeT6mukT2zu0F/cxq9qhIAMcu4jG5ScEMp4Pzdjy8+qwrpVpGpjiS8vrlxcwanNp1peMMfOjqHfLFsrGpKsQxyeKV9/6/r+vULbHpYuITNJCJYzLGoZ0DDcoOcEjsDg/kaZZ3kN/Zx3VqxeGUbkYoV3D1wQDj0Pcc15db6zKmii71C5lEtzp+mJPO96bRQSZsmWcKWjUkYLABskDjNaXh2a61SbR7e6vrsQpc35KRX8z71R1MYMp2vIoyMFuo9QeW9G12/r9Sb7f1/Wx6HDPFcwrNbypLE4yrxsGVh7EdaJporaCSe4kSKKNS7yOwVUUDJJJ6AeteVTaxdf2Ukl1q97DqK6ZDJo8S3Lj7ZcF33DZkCY5EYKtuwDnjOa77xjn/hA9c3df7Nnz/wB+2pN2hzFxV5qJb03XdI1kyDR9Vsr8xY8wWtwkuzPTO0nHQ1fryqfWJJ9Pu7q11yw1S5t/D9yqXGj5j+xcIR5hEj5YkDacrjY2AckjQ17Ux4cXWbE6pdRPJo8TWImupHkkl3zeY0ZYkkjKE4PAx0AFW4/19/8AkR9nm/rp/megxzwzPKkUqSNC2yRVYEo2AcH0OCDj0IqSvMrmS1sNe1eOfU7iztJtciOpSC/kQxQtaBkJbdmJWlwu4FcgBc4AA6zwdqBuNBtkubtp3dpjaNO+ZZ7ZZCI5OeW+Qp83fcCetK2l/wCtrlNW/r+v6sdDRXPeJo5LnVNBs1urm3guLuRZxbTNE0iiCQ7dykEcgHg54rkrW9utK02K7k1PVbjztFvJZibou2YpI1Rl3gqpVWOW289W3Hml1t/WiuCVz06ivJ7bVWa01CNtZhgsUuLd1Y6/cyQShkkBX7cV3xgsoOR8u5NmcsRXovhyb7R4cspB5xDRDBnl81iOgO/q4I5DHkjBPJp2JvsaTMFUsxwAMkntVDSte07WxJ/Zs5lMQUyK0ToybskAhgCCQM4POCD0IJ4q1murSa11RtQ1OaSfUNShkiW4aRTGnnlFSNiU3AxjBxnt04rL03W717DV30+/keFtPt5TJBq0uoFMykSuHZBscISSqDAwOBxU31t/XX/Ip6P52/Q9ZqCS9givYbR3PnzqzIgUnIXGSSBgDkcnHJArA8HXMdxJqi6dfzahpMdwos7iWdpwcoC6rKxJdQ2eSTgkjPGBz/ifUtTh8ZSQrfRWjK9sNPSTUZoTKCRv226RsJ8nKnP3Rz8vWn1S7k9Gz0ao1uIXuJIEmjaaIAyRhgWQHOCR1GcHH0qh4lmvIPC+pS6Xv+2JbO0JRdzBgp5Awcn0GK83uL2G3uL6bw1qjXmmyNYrdXs+pyqojxPuzdAM6DeEBYZwSRlewM9boryyXUpl0HT5b7W1kjzc+Qker3EBnUONhjuDGv2h1HyqrDD5DZPWt5NRgk8XXKapqd3aajHcRpp1itw6+fCYVJJhHyuCxkDPtO3b95dvAB2tMlnigCmeVIw7hFLsBuY8ADPc+leURatdtoF0+na1ezXzaHNLq264dzZXYK7cKT+5bJlGxQowo44zWjrFpDaX09reajfGyttR06cPcahL+6LsVb5y2QpwDjOAegFO2qXd/rYUny3+f5XPSaj+0Q/aTb+bH54TeYtw3bc43Y64zxmvM7TXLyfxaf7LuZJJ5HvYmhl1R5nDormNJLfYIoOU+XB3EA5z8xqol9AFku9J1i9ud2nWq6jdNcPJJbg3C+edxyY2CMxKjGzqAtJatLv/AMH/AC1H3/rt/met1G08KSiN5UWQoXCFgCVGMnHoMjn3Fc/4MuRcW+pC0vJb7S47wpYXMsxm8yPYpbEjEl1EhcAknpjPFZ3iC4v4IPE9xYfLeRfZo42DkFLY7SzZAJXG6Y7gCRtzg4xQ9BrV2Ovs7uG/s4rq1ZmhmUOjMhXcD0OCAamrlPAd1Nc2eoH7bDd2i3IFuYb+W+VBsG5RPIimQbsnq2MkZ4wMPxhrMkHilora6khuLaS0Ko2qyQna0g3MlsiFZUwSGZzgc9MUPdInoej0VleKJr628K6lNpIb7als7Q7V3ENjqBg5P4H6GuE0y6ur6H7Pa6zvsJNRtYg1jq894Vyrean2h0U/MNvyhiVJz8uRR1t6fi7Deiv6/geoUV5pA13ZRrNHqmoyMZ9TtMTXkkgEcQl8sYJ+8Cg+f73qSOKqRag9zp8Eek65qN1FcRWAv5zeOzQ3D3MasoOcxMVZ90YwAAOBnkWsuVeX43/y+8Nvx/C3+f3Hq1FeZ3V5qNr45+xLqCwPDe28VlDPqlwZJbbYm/8A0cIwmBzJmVmypGSRtp8WtC0k1111K6vZYbS5klks9RaRosOMeZBIhW2dc4XbkEK5IOBR0v8A1tcdtbHpNFcV4Av3ur3V4VuVnto/IeHy9Ul1CP5gwYrNIoJGVwQMgEEdciqHj3Uvsd5q/wBs1a705otJ8zSlguXhE037zzMBTiRgBHwQdoORjOadtbCj7x6JRXA3HiAw6xPpj6hKL1tdtvLt/MO8W7JFk4/55k7hn7uTjqareCNS1S78RRC+vomuWglOo2g1Ga4dJAwxuhMYS3IOQFDDcDxuxmktf68k/wBRX/r5tfoej0UUUDCiiigCO4t4rq2kt7hBJFKpR0bowPBFORBHGqLnCgAbmJP5nk1m+I9Tn0nRzPZpG9zJNDbw+aCUV5JFjDNjkgFskcZxjI61yA8RazpFxqNrc3C3F5PrHkJMllPcxwILWOQlYEYvgnPyhsAsSScci1v/AF2/zHbS56HRXCp4r8RXUJaG1s7J7fTmvbhb23mVnKSOm1VYqyKwTcCwJXIyGzxYfxbqUlzJe28VqulW15bWksMiN58hmWM71fcFAUzJ8u052tyMihauy/rW35i/r9TsqK4a+8S6rHZ60t8IIXgtZ5IrU29xBIuxsKVm3bZgQQS0ZUqSo78JFrer6fZ3vnajbPLLq8sMJaxuLh0QAttWGNi0nTsVCjJ56FX/ACv+KX6gd1RXK6PrV1qEehajMdp1DzbWeFVZE3IHYOEblT+7bg84bBztFdVTEncKK4lo577QNV8QSapeW9/bSXXkBbp0gtxC7qqtEDsYfJli6knceRhcdfaztPp0NxKoiaSJXYH+AkZP5UdB9f66E9FcBo/9oafqOmyarcagk88rLLf/AG37VY6gGRmARC/7nOAwIjUDaVyQea1x4x1K90vVYvtERV9Klu7ee0sri28sqVA2SyYEww4IdAo4zjkU0ruwPTX+ux6RRXCTeIZW8c2g/wBFuYxcS2UeyyuD5P7ssx+0HERfMeCgXI5GeDUcPizVYNMsdW1OO2mkn0W41BYbcSRKuPI2oQXYHlz8xGQOmOcpaq/9dX+g7anf0VhaHqepSatfaTrRtJbm1ihnE9pG0aMkm8YKMzEEGNuc8gjpQbib/hYSW3nSeR/ZbSeVuO3d5oG7HTOOM0faS7/5N/oTfS/9a2/zN2ofskJvftZTM4j8oOSThc5IA6DJxnHXAz0FczfalNaatffYILVL+4vrewjuJlZwqmMPlhuGQMvhVK5J9yaTTfE2py6s9jqCWeYkvC7wqwBMLRBTyxwCJCSOe3PGSr/r+C/yZVnt/X9aHW0Vw0HirUp/Ja3jt1u7+20/Y0nmNFG83mFmKbugCnAG0ngFumI9O1fxF9ql0m3ubNr97m9ma4uo5JIlSJkARV3grkyD+I7QD96m9JOL6X/C1/zJTuk11/4P+R3tFUdD1Ma1oNjqQi8oXcCTeWWzt3DOM96wW8R6smj6jr3l2cmnQLcCK12OkwaJygLPkghipJG0bQerY5bTTsxnVugkRkcZVhgj2qK0tYbGyhtLVPLggjWONMk7VUYAyeTwK5CfxF4htLx9IlOmyaj51qFuUgcRCObeOYzJuypjb+LkY6Ul34p1mztryaUWrD+0f7OthDYzSspHLSsiOWcYB+RQDx97HSb62/rp/mg/r+vuO2orhm8V68dMgne2SzCvMkt1caVdGNyhGw+Xw8KspJLtuVdpHNWJvE+rR6lfSj+zzpllqFvZsgVmllEyxfMH3YG1pc/dO4ccYyaSuwOxorim8XatEUvJY7I2N5Nd29tCqMJYnhWQhnYthg3ktkBVIyOTzUY8V6/a25W+j0+S5ubezktfKikVYXuJfL2v8x3hSQcjbnBGB1pLV2/rW/8AkB3NFeeDxFrOkXGo2tzcLcXk+seQkyWU9zHAgtY5CVgRi+Cc/KGwCxJJxz2Ph7UbnVdBt7u/tXtbh9yyRvE8fKsV3BXAYA43AEZwRTtpf0/FXB6OxpUVx1x4tvIPFkVmj281m14bVo4rG4JXEbNn7TxFuyMGMAkeuRU3h3xHqmoXmnDU0tPI1exa+tVt0ZXtwCnyOWY7ziRfmAXkHilH3ldf11/IHodXRXP+LYr+4tbOLTXZv9I3XFpDdm2muogpyscgIIYHa3VcgEFgDWLDrlzpmmS29tdzwzC/MAt9Utpb25tV8oSbAsLs0/XcG3/Krck7cUAd1RXBWviu9mt/7Ummigf+yydkqSiHzRcGPd5Qy+TjhPvEkLnPNRaNr+qGRNN01LOOWXV3hluZ9Onh3AwGdnMMkgcNn5eWxjBHHFEdf687C/r8LnoVQWdlb6fb+RaR+XHveTbuJ+ZmLMefUkmuNh8R6zLbvFpa2aPbxXd1M135sgkVLh0WNSXyuQpyxJC8YXHA7HT7tdQ021vEUotxCkoU9QGAOP1oWquv63/yYdf6/rqixRXmfhq5vA+kXsw1mHzr2WKe9u9Qaa2uFLSKqLF5rbSW2YJRANvXnB6DQfEGrXjaS2pfY9mpQzzBYYWUxKm3aMlznOSScDsO2SuZWuPrY6yivObDxTrTtd6vLLbypNpFhJDZiOQIk00joGzvPGck4GSNoyNuT1uhajf3F1qNhqxtpLmxlRTNaoUSVXQMDsLMVIyQRuPTPfApqzsxtWdjZorkdf8AEOt2Op6immR2Bt9PgtpmW4Ry0xlkdSgYMNnCg7trfQ1Uu/F2r2PmWE4t3vl1E2n2q30+edAggWbd5CMXJ+bbw2P4s9qQjuaK4OTxX4knsRLa2tpZywabLezre2swLtG5XaqFkZA4XcCwJAxwc1cvPFOqJcXN1axWi6fYNbJcQyqxllMoUko+Qq7Q64BVtxBHy0f1+LX6B/X5f5nYUVzei61qV3r89nqfkQYEhS2NpLFIoVwAVkYlJwVIJKY2kqCDni5r2o31rNp1lpRt0ur+4MSzXMbSJEFRnJKqVLHC4A3DrntijomBsUVw/wDwl+ryWtncNHa2cQaSK4me0mnheWOZo3HmRn9wvy7t8gIw3+ya7G+uhY6dcXbKXWCJpSo6naCcfpSbSXMwSbdgtbOCz877NHs86VppOScu3U81PXns/iPXNKmm1PU2guDJpcEkFtapL5aPJMEGUyxcjePmXBYDAUVbTxRr8mnyH7MyGK68tr46Hd7WjKbgwtSRL975CQxAxnvgPZf10dg/r8Lnb0VzNtrWrarfRQ6XJpu2C1t7i5Zld0uPNLZETgjaAEJDFWzkDAxVBvF2rRFLyWOyNjeTXdvbQqjCWJ4VkIZ2LYYN5LZAVSMjk80S929+gLV2R2tFee6hrniWXQ7qKe4sba4eytb2KW2hkHleZJhoz+8+bGB8wK554rVXxHqyakskq2Tad/aQ0wxrG6zF8Y80MWxjfxswfl53HpR15f63t+en/AFfS/8AW1/y1Otorm/DWtalqN5PBrHkQzKgf7J9jmgkhOSCNzkrOo4HmJgZ7fMK3b6d7bT7ieJPMeKJnVP7xAyBSk+VXZSV3YnorizFPp2iaZr8Gp3t1e3MtqJxJdO0NwszorBYslEwHyNgBG0cnnPQeJdTm0bwvqWpWqRvNaWzyosv3SVGQD04qmmt/Qla7GpRXGXPiLX7W9fSmbTXv2ntdkywP5aRzbxynmZZlMbHO4BgRwKmHiTVo9SEsy2baaNSGmtGsbrMWxjzQxbGN/GzaeOdx6VN9bf10/zQ3or/ANdf8mdbRXASeM9dh0tdSZNPa3u9KutRtYhC4eLy9hRHO/DcPyQF56epm1zxXrGibVknsZpYIUmnig025k37nPyllYrB8o4Zy245OFAwas/6/ryB6K7O5orjJvEHiJ9UEVr/AGbHby6pJpsQlhkZhtjZxKSHAONpGzAz/eGeKmoeNtUt9BguYns0u1tppZo0sLm68xo3KfdjP7lCVPzuxx0wcE1N1ZS7/wCV/wAh215f63t+Z31FRW83n2kU23b5iB8ZzjIzXn9x4p1iFrLxDcmN7FtOvbqKwt96MduwoshJIdsd9oxuIAPWm9HZiXvao9ForiLDxdq4kH9o2wa2S5t0kuzplxZqUl3JgLMc5WTZlskFW6A1BeeN9XENv9jtV82a1e+RV025ufMjLkQx4iyY2ZRku2QD0U9h6f18/wCvwA76o2gja4SdlzIisitk8AkE8f8AARXKy+JdUB1a5JsrO0sooRGlzBKZPMkRWAbackgtjYEyxIAINTeB79ru31OCSNA1tekGRbOa1MpdFkLNHMS4OXI5PIAxxin1fkHS6Ooorktf8Ravp+qaolgLEWml6fHfyidHZ5QTJuRSGAXIj4bBwexzxBa+MtQvPEogt7OR7H7YbRkXTrgsoA5lNwAYsbuNnYc7s8Uv6/r+vwB6b/1pf8jtKK811LxBrc1pDrMs0KWc+lX9xDaQtLEV2hCnmMHBZgP4hsKkkD1rr9A1DUdSu9Se7Nstpb3LW8EccTbztx8zMWIPXGNo6ZzzQtRvRXNuiuU8ZeJb3Q8jTpbcPHayXDRtY3F277egIiwIlPPzsSPbg1FeeKdUS4ubq1itF0+wa2S4hlVjLKZQpJR8hV2h1wCrbiCPlpJ3E9DsKKzfEWoy6R4Z1LUbZUaa1tZJkWQEqSqkjOCOOKyNW8Q6pBfX1rp8MbC3jtnMotZLlohIZNzGJGDSfcUALgjcScgUxnU0VyS+KrsWE8xezmMOkyXpkRHRTIjMMFWO5B8vKHlTkE8Vn654lmGsWBItZ0tp7UmAWVxKVeUhSzTKRFEwWTKq249DxuFC1dl/WrX6C/r8v8zvaK4Y+JtTUW9/fC3a2/tK7gjhgWRHCQpccsQ5Dk+WvBXA5OM4I1dA1nVbjUo7PWhZs1zYrfQtaIyiMEgNGwZjuxkYbjPPyjFG7t/Xf9GOS5d/61t+Z0lFYuuahqMWo2GmaM1rFc3iyyGe6iaREWMDI2qy5JLL/EMDJ56VZ0DU21nQLPUJIlhknjy6K24K3QgHuMg4NAjRorkV8W3eJkljtIZLGO7kvXmLJGgibbHyMlQwIbo3APHSs+18Talf30VpdTfNDfWpMsVhPY70kEmUMcpLEZTr0OenFK+3nb8XYHpf5/gd9UP2SH7b9r2Yn8vyi4JGVznBHQ4PTPTJx1NcRN401m20c6pLFYtDeWFzd2USxurwmIblWQlvnyDyQEwRjnOa7TT/ALX9hi/tGSGS5Iy7QRmNOTwACzHgYGc89eOlNdwehZorg59d1e61bS9Qa4trbSxqd3AIAXjYrDFOuZXyQVLR7sbRtwPvVo+FPEt9q+q3NpfNFKq2sVxHJHp9xaY3MwK4m5kHAw4wD6CjyHJW3/rWx1dFYHinVdT0xbY6cqRxPvM1zJYzXaxkAbVMcRDAHJO/ou3nqKq3Pii6it76WIWriC7soYmUlldZjFuOcjP+sODx24oWojpp4I7m3kgnXdHKhR1zjIIwRxRDClvbxwwrtjjUIgznAAwK5K08WXk/i+Cw8y2ns7i4mt1ENjcARmNWOftLYjkOUIKqOCSMnaSdLxhcXlto9u2nSFJ21C1jB3EAhpkBBx1GCcjuOKO3nYH18rm9RXHReINeublNIibTk1IXNxE921vIYSkSowIj35BPmKMF+MMeelRWXjDUr7zbo/2dZ2drpaXs4n3nMjGVSPMB+VAYwc7GOM8c8Hn/AF3Glf8ArzsdtUF7ZW+o2E9leR+Zb3EbRypuI3KRgjI5HHpWB4U1+91a9v7TUGSRrVIpFlXTp7LIfdx5cxLcFPvdDn2qPxX4lvtK1G2sNLj/AH0lvJcGQ6fPeA7SoCbYeVyW++eBjoc8D0dhRd9UdUBgADoKKraddPfaXa3ctvJbSTwpI0EoIaIkAlSCAcjp0FcvoPiy81LxNHZSyW89rcwTTRvBY3ESpsdAAs0nyzgh/vIAOM9CKdnzWEtro7GiiikMKKKKAK99Y2+pWMtnex+bBKu11yR+II5BB5BHIPIrNXwjoy2b2y28yiScXLSi7lE3mhQm8S7t4YqMEhuRnOcnN3V9Vg0bTXvLlZJAGWNIogC8ruwVUXJAyWIHJA55IFZ9j4rtr28S0ezvLW4N2bNo50TKSCHzjkqxBG04yCcn25oWu39f1oGyK7+BNHkvY3aNhaRWi2yWySyJkB2Zt7BgZA275lbIYjJzWhL4Z0mbV01OS1P2lGV+JXEbMowrNGDsZgOAxBIwMHgVSuvGMFvpv2+LStSurZUlkmkhjQCBI2KszFnAP3ScLubA6dKV/GVourPZCwvnjjuo7SS7VE8pJJFVkB+bdg7wMhTg9cdaF5f1r/mHS5YXwloyrdL9mkZLqN4nR7mVlRHOWWNS2IwTjITb0HoKLjwppNyztJFcI73Bud8N5NEyyFdpKlXBXIPIGAe4NY+l+N3miebWbZ7COJb6R1MStlLeZUyCsjcgNgjBywJGABusWni28mv9Qil0K/XyEtzDZiNDOxk353ESGMLhQclgByCc8UWsv67/AOY3o9TSt/DlnaSW6Wo8mztY5FgtoyR5bSE7mDZyOCQAMbcn2xrIgjjVFyQoAG5iT+JPJrnD4ygezga106/mu5zOv2RUQyQ+S22Rn+fbhWwPlYk5G0Gqtj46jOiafdX1lcSySWEF3fyWkY8qzEo4LBm3YyG4UMQBk9su1/69f+CJ6GvceFtIu757ue2ctIweWJbiRYZmHRniDBHPA5ZSeB6Ctes/V9Yj0mO3/wBGuLye6l8qC3tgpeRsFjyxVQAqkkkjp64FYNl453aRFcXen3U9yRPNNFZxDNvDHKyb2DsD/D0GWJBwOKWlg6mta+FNHs7xLiG2kJiLGGKS5lkhhyMHy4mYonBI+UDAJA4NQweCtBt4XijtJCj27WuJLqV9sLYzGu5jtX5RgDAHOMZOZNd15tM0+wu7SI3SXV1FEERcs6vnG3JABJxySAM84HNVW8aW5tYWt9L1K4u5GmDWMccfnReSdshbLhMAlRwxzuGM0J/h/X6hv8/6/QuL4U0dNR+2rbSed5xuFBuJCiSEEMypu2qSGOcAZzzmpV8O6StvbwfY0aG3tGso43YsohbblCCeQdi8nJ4+tU4/GFlc3TRWNpe3kS2SXzT28QZRG4YoAud7MdhGApPrimDxfGFljm0jUYb6OaOFbF/J8yQuCylWEhjxhW6uPun2yWtp/Xb/AIAX6/13NLSdDsNEjlXT4pFMpBkkmneaR8DABdyWIA4Azgdqj1Lw5p2q30d5dfa0uI4zEslrfTW52E5wfLdcjPPNV9a164sPBN7rVrYTC4gtnlW1uFAZWXPDDcAQMZOG5A+UnIzHB4s8972NNF1RpLIIsqokTZlZUYRjEh5xIMt9wYJLAc092CWmhen8PaZdWk1vcQM6TOjuxmffvQKEcPncGG1fmBByM5zWba+BdJitzDcJJMFuJZomE0iOFkxuRmDZkBx824kN1INQXHjR1ksVt9Lu/Olv5LKeydUM4dYWkAUh/L5wpyWxgnoasz+MYY9JTUINK1O6i8qSWcRRIDbCMkOHLOAWBDDapY8HAI5pabv+uoLsv66FtvC2jvZtbG0IiaKGH5ZnDKsJJi2sDlSpOQwIPvUMngvQpLJLU2kqoju4eO6lSQlxh8yBg53Y+YE/MeTk1mzeMrqLVvIhsxdxNqRtIo4E/eyJ9kE4wWYKG3E8kgY9+auzeMYU0aHU7fSdUuoGgeeYRRIDbqhwwcu6gsCCNqlicHAI5pvu/wCuoLsjfhhjt4I4beNYoo1CIiDCqAMAAdhWV/wimi/a57h7LzDOHDxSSu8Q3/fKxElFLc5KgE5OeprN1fxkbedIdJsprgLeWlvPdNGPJj850yv3g27Y4OQCoyMnPFXJPFlvb3zQ3un6haQbZjHdzxKI5fKBL4XdvHAJBKgEDIJyMp7NsF0S8v8AgE9l4X0iwjC29vISJkn8ya4klkLoMLl3YsQBwATgelTz6Fp1xZz2ssB8qeb7Q+2V1YSZB3qwOVOQCCpGO1Gkaq+qxO8mm3lgV2lVugnzqRkMpRmU/TOR3AyM5ln41sru8ETWV9bwM1wiXcyJ5TtASJFGGLDG1iCVAIB57UPR6/1/VkJW6f1/WpOfB2iG3ihFtMixl8sl3MrS7zucSMGzIGPJDlgaZb+ELCPXLvVLjfNLNcrcRx73WOMrGiLlA21yCpYEjIJ4xjNTaL4lg1m4MAs7yylMK3MSXaKpmhY4DrtY4HqDhhkZAzVOfxtbxX7WsWlalcEXTWSyRRx7XnVS3ljLg8qM7iAo7kc0ap/13/z/AMh9P6/rb8C6vhTRkvp7tbQ+bOJAwMzlF8wfOUTdtQt3KgE5OTyamn8P6ZcxPHNa7lktltT+8Yfu1OVAOeCCchhznvWBq3i5rjTbOfRvt0T7Dd3McdpHK8UKMVYOGcDG4EEIWYhTt9a2IvEkNzq32Ozsby5iVkWW8iVDFEzIHUMC2/lWU5CkDcMkc4Ek9v6/rVfeg8/6/rZ/cIvhHRls3tlt5lEk4uWlF3KJvNChN4l3bwxUYJDcjOc5OdKwsLbS7CKysIhDbwrhFBJ+pJPJJPJJ5JOTViigDIHhbSP7U/tD7NIZ/P8AtC5uJCiS4wXWPdtUkE5IAzk5zmn6X4a0rRrqS4062MUjrsG6Z3WNM7tkasSI1yc7VAHTjgVqUULTYCpqWl2mrW6w3qOQj743ilaKSNumVdCGU4JGQRwSOhrPPhDRjZx24guF8uc3AmS8mWcyFdpYzB/MYlTjljwAOgFbdFAGN/wiOhiyNotiEgMflBElddq+Z5nykHK4fkEYI4xjAqSz8M6VYTpPb27+ckvn+ZJPJIzSeX5e5izEsdnGTn861aKAMW68IaHeRRxz2bbYzJjZPIhYSNvdGKsCyM3JRsr7VsqqooVAFVRgADAApaKAMSy8IaPp9zFNbRXP7mQyRRS308sUbnOWWNnKA8nkDjPFSzeGNJns7O2e2dY7En7P5c8iMgIwRuVgSCOCCSD3BrWopWVrAYyeEdEjhMK2X7k2S2JiMzlDCpJVSu7BIJOG+8MnBq5pej2WjwSRWEbr5r+ZI8sryySNgDLO5LMcADk8AAdqu0U/MCjc6NYXcly9xBva6SNJjvYbghLKODxgk9KhuvDml3iz+dA4ae4Fy0kU8kcglCBNyurBkO1QvykZGfU51KKAMuHw3pNvam3htAkRtTaFRI3MRJJBOckkkkt1JOc02fwvo9zfxXk1oTLEIwAJnCPs+4XQHa5XqCwJHataigDNsPD+m6ZeyXVnFIsrhgA9xJIsYY7mEasxWMEgEhQBwPQVLqmkWesW6Q38bsI3EkbxSvFJGw/iV0IZTgkcEcEjoau0UeQGK3hDRGW2VbR40toxEqRXEkaugO4LIFYCUZJOH3feb1OdkgMpDAEEYIPeloo3Aw7bwboVpDPFDZEpPD5DrJPJJiLqEXcx2qD0C4C9sUf8Ifowt/KWK6VvNMxuFvpxOzFdvMwfzCMADBbGAPQVuUUAY9x4V0a5e3aSz2i3jWJY45XjRkU5VHRSFkUHoGBAyfU0L4U0ZL6e7W0PmziQMDM5RfMHzlE3bULdyoBOTk8mtiih67gZtx4e0y6hkimtyVktltW2yup8tTlQCDkEE5yOfeo08L6QmqjURasbkNvy00jIX27PMKFtpfbxvxux3rWooAyrHw1pmnLItnHcRiRQg/0uVvLUHISPLHy1/wBlcD2rVoooAyLbwvpFpfJdQWzho2LxRNcSNDCx6tHEWKIeTyqg8n1NWNc0sa1oN7pjSCJbuFoS5Tdt3DGcZGav0UdLAZVr4Z0qzUCK3dmEyz75Z5JH3qML8zMTgAnC5wM8Cl/4RrShrX9qi1P2rf5ufNfy/M27fM8vOzft43Y3Y4zWpRQByFh4Bhj1C6n1SeG5gmgmt1treOWJFSZgZB80r4+6MBNgGWOOeNfUfCmj6tdPcX9tJI8kaxSKtzIiSKuSu5FYKxBJIJBIOCCMCtiijZJdg3KI0XTxJHIIPmjumu1O9uJWUqW6+jEY6c9Ko3Hg7Q7pESa0fYqPGUS5lVZEdizK4DAOuSThsgZOK3KKOlgGRRJBCkUQwkahVBJOAOByayYvCWiRXctwLHe8qyIVkld0CycyKqMSqqx5IAANbNFD13BabGIng/RE029sWtHmgv4xFc/aLmWV5EAwF3uxYAZOACAMnGM1NqXhrStWjijvbd9sUZhUQzyRZjOMxtsYbkOBlTkH0rVoo3AzZ/D+l3Ntd28tqPKvChlVHZeUACFSCNpG1cFcYwD1qTTNGsdHWYWEboZ2DyvJM8jSMFC7mZySTgAZPJxV6igDBvfCVjqXiCbU9QLzLJBDCIFkdFwjO3z7WAkU7x8rAj5e+atHw3pTawNTNsxuVk80Dzn8vzNu3zPKzs3443bc+9alFAPXcw28GaC0lw7WTN9oSWN1NxIVVZf9YqLuwgY8kLjnnrWraWVvYrKLWPYJpWlf5icsep5qeigDL1Tw3petTibUbd5G8owsEnkjWSM9UdVYB19mBHJpk3hbR576G7ltGaWERgDznCP5f3C6btrleoLAkdq16KNtg3Irm2hvbSW2u4llgmQpJG4yGUjBBrGTwXoccLolvcBnKEzfbZ/OBTcFIl37wQGYZB+6cdOK3qKAMS68HaHewQw3Fm7JDC8AC3EqmSN+WWQhgZATyd+cnJ6nNOn8JaLcXZuZbWQuTGSouJAjNHjYxQNtLDauGIzgYzWzRQBnroOmqkCi1BWC4kuYwXYgSSb955POfMfg8c9OlM0jw7pehs7aZbtGzqseXmeQqi52ou8nagycKMAZ4FadFAb7lDVdEsdajiTUI5CYWLRyQzPDIhIwcOhDDIOCM896tWtrBY2kVrZxJDBCgSONBhUUDAAFS0UAZj+HdJll1OSSxjZ9WjWO9JJ/fKFKgHnjgkcYqK18K6RZzedFBK0u+NzLNdSyuzJu2Es7EnG8jntgdAMbFFAGIvg7Ql+14siVu4pIZEM8hVUkOXVFLYjDHk7NuePStsDAAHQUUUdLAY0nhLRZdRa9lsy8zO0hDTSGMMyFHIj3bQWViDgc9Tk1LpXhzTNGmM1hFKJWiEJkmuZJmKA5C5dicDJwO2TitSijYHruZ+qaHYaw0TXqTb4gyq8FxJC21sblLIwJU4GVPBwOOKrXPhPRbu+F3NZnzB5XypM6ITEwMZKKwUlSBgkZxx04rZoo2Ax7fwro9rqS30FtIs6TPPHm4kKRu+7eVQttXdvYkAAE8nkCtG7sre+jSO6j8xY5UmUbiMOjBlPHoQDU9FAbmTeeGNJvlcT28is87XBkhuJIpA7LtYh0YMMqMEAgH0p48N6QLae3FjGILi0SzkiGQphXdtTGcADe3Tnn6Vp0UdLAZ2maDp+jzTS2McolnVVllmuJJncLnblnYk43EZ9MDoBg1bQNP1tY/wC0IpS0YZVeG4khfa33l3RspKnAypODgccCtGijcNthkMMVvAkEEaxxRqEREGFVQMAAdhWXp3hbSNJu47mxtpEliV0iL3EjiJGIJRAzEKvyj5RgDHArXoo63DpYKKKKACiiigDP1zSv7Z0s2yXDW0qyRzQzKu7ZIjh1JHcZUZGRkZ5HWuctPC+tNd3d3PqEEN/Hqv2uC4NruhlU2yRMPKEm4D7wHz5+UHnv2dFC0/r0/wAgOCvfhit9YxWtxqNvcqtrLbmS8sFmdC7u/mRZYCN8vgnBztXpitz/AIRY7LgG85n1G3vifK6eUsQ29e/lde27occ9DRTTtt/Wt/zB6q39djkh4G837THeagJLeWO+iRY4NjItzKsnLFiCVZTg4AORxxzFe+B77U1ll1PVrS7uJWgLJJp2bZxF5gCvF5mWB8zdgtwyg9MAdlVDW9Xi0LSZL+eCadUdEEUAXe7O4RQNxA6sOpFL+vxHq3/XUwLLwPJpVvajSdQgtp7drld/2IbPJncOyKgYBSCF2noMcg1Ul+Glu6WK+bp8zQWcFpNLe6XHcOyxcBoixxGxBIOQ46ccc9Hp2vpeXklneWN1pl3HH5whvPLy8ecF1aN2UgHgjORxkcjMi+I9DfS31JNZ09rCNtj3QukMStxwXzgHkcZ707v+v69fmLy/ruN1rSZtR+xz2F1HaXtjN5sEssPmpypRlZAykgqx6MMHB9jzd18N47i3g3XNjc3KJNG82oaWlyMSStJuRSwCOCx55B7qeMdVNrelW8NrNPqdnFFeEC2d7hAs5PTYSfmzkYxTxq2nHU200X9qb5E8xrXzl81V/vFM5xz1xSAgu9HW4t9OhjkESWM8cqgRj5ggI24GAOvYYHpWTN4Su4rn7bpOqx2t75l1+8ltPNXy52DFdu9TkFVIbOODkHNXbvxloFrpV9fpqtndRWEPnTrbXMbsoP3Rjd1boM4ySKuR67pMt1bWseqWbXF3EJreEXCF5kIJDKucsMAnI44otrf+tf8Ahh7L+un/AA5jr4Lig0q+sLO+kijudNhsI2K5aMRhwGJyN2d/I46H14pW3gBrSyvooJtIQXzRNLbLoyCzbZuGDDvyQcqfvZ3LnOPlHU6hqljpMCzaldwWqO2xDNKqb2PRVyRknHSqlp4n0m6sdLuJL2G0bVYkltILmVElkDAEALnk/MOBmnq22LYhPhsHwTN4e+04861kg85Y8Km8H7qZ4Rc4Vc8KAM8ZqndeEJrzR9StZ9QiabULqG6kb7KfKJRYlKNGXyyN5XK7ujYz3O7e6lDY3Vjbyq5e+mMMZUDAYRs/PPTCH15xWLpvjOPUYrG4bRtStLK/ZUgu5/IKMWztBCSswzjAyvUjOKNW/UeqX9f10KVn4En02OE6bqNpaTQX730aw6eEgDNB5RTy1cfLkluue2SfmMGofDaO/tYoJby2mHkTRzNeWInIklcyPLDlsRNuY9m4Cjtmu1hnhuYy9vKkqBmQsjBgGUkEcdwQQR2IqSk9d/60sLY52z8KG01KK7N7vMd59qKiHGf9FEG373tuz+HvWTqXw4XUraK3lvLWWNYZ4T9q08TmPzJGffFlsRuN2NxDZwOBiu4ool72/wDXQFpscrL4NuDOVt9USG0luba7uIfsu5pJYTHyH3/KrCJQRgkHnPUGtZ+AGtNc/tNL+2SdZLh0uItPUXLCUN/rJWZt5XcMcAYXBU8Y7Oindh0sYXhnw4dAS53PZhrhlJj0+z+ywDA+95e9vnOeWzyAoxxUS+EozbWtvPdeZFBLdyOBHjzBP5mV68Y8zrznHauiopPXRhtqYOh+HrrTbxbrUtSF/LDarZ2+y38kJEDnLDcdznAyRgcDCilHhrFzBL9r/wBVqj6hjy+u6N02de2/OfbpW7RR1v8A1vf8w6W/ra35HFX3w6hu4YMS2Es8ccsRkv8ATEugFeRpAUVmwrqWIycg91PGNFvCZbxBa3/2i08q1CCIiwVbmNVXHlrMpGIyeSm09WGcEAdJRQtNgGQiVYVFw6PJ/EyIVB/Ak4/On0UUAFFFFABRRRQAUUUUAFFFFABRRRQAUUUUAFFFFABRRRQAUUUUAFFFFABRRRQAUUUUAFFFFABRRRQAUUUUAFFFFABRRRQAUUUUAFFFFABRRRQAUUUUAFFFFABRRRQAUUUUAFFFFABRRRQAUUUUAFFFFABRRRQAUUUUAFFFFABRRRQAUUUUAFFFFABRRRQAUUUUAFFFFABRRRQAUUUUAFFFFABWH4xsru/8Myw6fbNdXAnt5VhRlUuEmR2ALEDOFPUitymTTRW0Ek9xIkUUal3kdgqooGSST0A9aBrc43WNI1bxX9ulaxm0kDTJrKCK6liLyvKyMSfLZ1VcRgckk7jxgc0YdC1XFxqMtjrbXZnhMbPc2Auk2Ruu9ERBCeJCnzsSRk4BVQe407VdO1i3afSb+1voVbY0ltMsihsZxlSRnBHHvViSeKKSOOWVEeVisaswBcgEkAdzgE/QU9Vp/W9xX/r8Djl07V7SSGe40VNVFxp32SS2VoY0iYyFiZATtwwYbygblThSMVGuhap/aiWp0wCOPVpdR/tHzU2lGRgEABD7/mCcrjaOp6V2MF7Bc3FxDA5d7ZwkvykBWIDYzjBOCOnTNPjnhmeVIpUkaFtkiqwJRsA4PocEHHoRU2v/AF53/MOn9drfkcC/hPUl8L2tpDYqtwnhmaxdQ6D9+wjITOe5Dc9Pfmp5tG1a51C4i/sl0XUNRtNQF7JLF/oixLHujYBtxceUwG3cvz/eHNdvPPDa28k9zKkMMSl5JJGCqijqSTwBVXTdc0nWfM/sfVLK/wDKx5n2W4SXZnOM7ScZwfyq+Z3v/W9/zH0/rsl+hleILC7bXLHUbXTzqUcdtcWj24eNdhl2ESfOQNvyFTjJw3APSuYPhfWovD/9mjShNLf6JaaeZhNGFsZIwwYtkglQW3ApuOV7cGvSqZFPFPv8mVJNjFH2MDtYdQfQ+1StP69f8wb0MrWLC5utT0KWBPMS0vGkmbcBtUwSpnk8/Myjj1rmND8HXmj6d4buvKup7m02reWE188sa7hjzEVpPLVkJyNvG0sAM4rv6ZLPFAFM8qRh3CKXYDcx4AGe59KOtxdLCQyNLGWeF4TuYbXKkkAkA/KSMHqO+DyAeKkqCK9gmvZ7WJy01uFMo2HC7uQN2ME4GcA5AIJ6jMdzqun2d5b2l3f2sFzcnEEMsyq8p/2VJy34UAW6Krf2nYf2n/Z3223+3eX5n2XzV83Z/e2Zzj3xSWup2F9PcQ2N7b3Mtq+yeOGVXaJvRgD8p4PB9KALVFQzXtrbOEuLmGJmxhXkCk5YKOvqxAHuQKmoAKKZLPFDs86VI/MYIm9gNzHoB6n2p9ABRTJJ4opI45ZUR5WKxqzAFyASQB3OAT9BT6ACimGaMTrCZEErKWVCw3EDAJx6DI/MU+gAopizxPO8Cyo0sahnjDDcoOcEjsDg/kafQAUUVHDPDcxl7eVJUDMhZGDAMpII47gggjsRQBJRRRQAUUUUAFFFFABRRRQAUUUUAFFFFABRRRQAUUUUAFFFFABRRRQAUUUUAFFFFABRRRQAUUUUAFFFFABRRRQAUUUUAFFFFABRRRQAUUUUAFFFFABRRRQAUUUUAFFFFABRRRQAUUUUAFFFFABRRRQAUUUUAFFFFABRRRQAUUUUAFFFFABRRRQAUUUUAFFFFABRRRQAUUUUAFUNcurux0G8udOh8+6iiLRx7S2T/ujlsdcDk4wKv0UAYPhbUrzUYrz7TN9rghlC2959maDzgVBb5T6EkZHB6dQak8XQWlx4anTUXuIrffGzzW6qzQ7ZFYSEMCNqkBmyCMA5FbVFA0eaTa3GLfWL039pqbGG0gl1jSJWtIiDKV8uSTdIqbdxZnU7lV+i4U1XsdVmFrDO8s06WWp3Rh+zXb3rBPsLOBHLKoMmdxKlhjkYyMV6nRR0Yux5HY6ndXUN3Ba6lKLaY6btktdamveXuikmJmClSRgMq8D8cVs3t19kvLm01DVLy10aLWVgnuGvZEMUYs42RTNu3Ipkxk7hknk/Mc+h0U7/ANfd/l+I+hw01xc3XwX1SW7llmJsbsQzTD55YQXETt6koFOe+c96xbvWJbm11C4s9csNTuo9CmVbzRwYxZYKEB8SPlmJyDuXGxsDkkep0Udb/wBdf8xdEv66f5Hnmvaovh06xpw1O7ikbT7c2KTXUjySNvk8xkLEsxGQWIPAAzgCoGks7B7mGfVLizsH1+UalKNQkQwqYy0YZ92YlZtvIK54HevSqKXW/wDW6f6Ctpb+tmv1OQstUuofhfcahdzXkhihuGhnXCzPCrsIpMsCMmMK24g+pFcnDdQ3kUy3moH7Bbanp8sckOuT3UShmKswuH2kjIxjlQwOOc49bop396/p+DuDV429fxR5x4d1LU5/HCRXN/CLk3F0Ly0OozSyCIE+Xm28vZCB+7w4YbgerFqXxw0kGqapa2ctg13q9lDDFFMzLcq6s4QwrtIlGWycEbMbjxXo1FLt5D6s87lZTrf9mxOn9s/8JB9r2bcP5PlY83HXZs+Td0z8vWneDJI59U0GK0YNNp2iyW2phTzDNviwkg7NuWQ4PPU969Cooj7q/rtYHr/Xnc4zUrieGbVZlleK4/tqwgDIxB8ktB8uf7p3ycdPmYVm2D6jbyWeoW9/fXV3dXGpRGGW5d4nCGUxKIySowUUAgA9a78WsK3rXapid4xGzAn5lBJAI6HGTj6n1qaj7Nv62SHfU86t7vT7m2006brF3qNw13avdJJcPMsUpV88nPlvnrGCNuB8o7wWPiFr/S7OGPW5Y5oPD0n22Yu7+RODEGMmMkOvzZJ+ZQc16ZRR38/8rC6fd+Duec2VzLqVrZWen6hcRx3F9cQCeDVZLyI5tHIMc5w7qGwefuuGA6CoZtb1fUfDcmsGV7eJri3srlZLqS2jiWMHz2LqCY8ykoXA6KOQOR6ZRQ9fw/D/AD6gcLotxNPo2jzyXaXUg1d47SWK4knDREOCvmuimUBd3zYIO0HJxmuvlk1IanEkNpavYlf3k73TLKp54EflkEdOd46n05le1hku4rl03Swqyxkk4XdjPHTPHXr19TU1H9f1+Yf1+LOF8UX0kWr6nHNqn2O2RLM7ZryS1iOTNlTMgJhztX5h1Kqv8VYms6xejT9OYX7WVm2nyPbT3WsSw75w5AKyJGxucKFKKwy6kEhiTj1Wilb+vlYDztWv2vrjUbjUr0XNvrNlbiJLmRYQrxwCRfKOAQTIx5XIPIwc1l2k+n2Fulpf61d6fpS3eqfaJk1KVGW5Wb92jSbtwPllmCZG48kMa9Yoqull/WiX/B9Rp2/r1/zM3w7Ne3HhnTZtWVlvZLaNpwy7SHKjOR2Oe1aVFFDd3claIKKKKQwooooAKKKKACiiigAooooAKKKKACiiigAooooAKKKKACiiigAooooAKKKKACiiigAooooAKKKKACiiigAooooAKKKKACiiigAooooAKKKKACiiigAooooAKKKKACiiigAooooAKKKKACiiigAooooAKKKKACiiigAooooAKKKKACiiigAooooAKKKKACiiigAqpqupRaRpVxf3Cu8cCbiqAFm9AM8ZJ454q3Uc8EV1byQXMSTQyqUkjdcq6nggg9RQBQ0jV21J7qC5s5LK7tHVZYXdXxuUMpDLwQQfrkH8WeJ0vJfD88OmXUdrdSsiRvJN5W7LjKB8EqzDKhgCQSCOat6dpVjpFu0Gm20dvGzb2CD7zYxknqTgAc9gKkvrG21KyktL2ISwyD5lJI6HIII5BBAII5BAI5pMa0ZxVrqk+iQ6kA99p0gigaOx1qR70xu7lPMR0kkeQMcARAgll/h3ZpsHiq9uTZz3c6R/ZNQuIpXaGWyjlRbRpAXjkyyAZGc5+7uHaujHhDRvss8DwTy/aGRpJpryaSbKHcmJWcuu08jDDBJI6mnR+EtEjhMX2MujSPK4lmeTe7R+UxYsx3Epwc9ck9eab2YuxyFl4p1GFtSNtHaSXs72L/aJNNubUMZpfJIKTNuYKFBDAge3WtVdb1dNQn0y3e0+3TamLX7TLHK0ShbRJWYReZxnkBQyjnPJyTs2/hDRbb7ltK7ExZea6llc+U++PLMxJCtyBn26cVNd+G9KvVm8+3cNNcC5aSKeSORZQgQMrqwZDtUD5SOM+pp6f18v+CHT+v63MW+1u7v/AIW6tqOfst7Da3cbPbuQFliLoWQ9QMpkdxWOmqXnh+K+ure21O1caTJcRWmsXrXQuJIyvzq3mybANwBG5Sdw4+XNdv8A2Jp39gtowtlXT2hMDQqxGUIwRkHOTk85zk5zmqcXhDRo450aG5uBPAbdzdXs87CM9VVnclAcDO3GcD0FGnNf+uoP4Uv66Gdd+IdU0y21dbs2U1xp9nBOrpC0aO8jSAgqXJx8q9+ufoKlpquuxTTWcd3ay3N7rM9vBNPbyMlvGiFzlfMy3C4ADKBnPbFdBqfhXR9YujcahatJI0YifbPIiyKpJUOqsA20kkZBweRii48L6TdLOJYJR51wLotHdSoyS4xvRlYGMkcHbjOTnqaXW/8AW6/yFra39bMrWXiGafwXPq1wtrDc2wnSTe7CHzInZCcgFgpKZ6E4OOTXNv4i1zUgLaO8ihlt9Ts1M50u4tfMjkJypikcNjI65IYcYFdr/YmnDQjowtVGnmIwmEEjKnrznOe+c5zznNU08IaNHFKggnJmeKSSVryZpWaMkoxkL7sjOM56YHQAU9Oa/p+YNNxsvP8AIwNA8Q3N94ueZNObyL+WWCSQadcq0Kw7gjNcNmJ1O1vlXbgv3OSdrxGb+PUtGlgv2gtTfRxyW8aYMpO77zZ+7j+EAc9SelW7fw1pVrq51KG3YXG52UGZ2jjZ/vskZbYjN3KgE5OepzeubOC88n7THv8AIlE0fJG1x0PH1pfy+VvzH387nIOdS03xfNqGrWl09pc3wgsmj1aXCDygFzbD93tLK3JJYFskdxjLrOpabokF/Bf3Mtxqfh+fUJvOlMginXyyHRWJVAPNYbVAXgccV3ieHdMTVv7SWB/tG8yBTPIYlcjBdYi2xWIJywUE5PPJptr4Y0ezNz5NmCt0jRyJLI0iCMkkoqsSEQkn5VAHtQtFr/Wlvz1uO+v9dzP8PeZY+JNV0dbi5uLW3t7a4ja5neZ1aTzAw3uScfuwcZ43HGBVCbW7qGC21FWaRrq8vNqSO4WNYopQihQwB/1YJBB5JPBwR02l6NY6NDJHYRyL5jBneWZ5nbAwMu5LEADAGcDtVZfDlmxkW5HnQ+fJNBGSV8kyKVkGQeQd7nnpu9hhTu07ErRq5z8fivXLWErqSWDz3VtaS23kROqwvcS+XtfLHeFJByCucEYHWjWdW1zRb1Zr2e2mnt9KvZwsCukMxV4djNGWJBAYj7x74POB0s/h7S7mJo57XcrW6Wx+dgQiHcuDnIIPIYcg4OeKgj8JaJHC0ZszKJIpYZGnmeVpFl2797MxLE7FGSSQFAGBV3V7+v62Gttf67/iUNV8QanBeajbafDGwtTbZlFrJctEsgcsxiRg0n3VAC4I3ZOQKov4pvIZba6zbXCC2ie5eISou03HluwRmGwqOSGBZSCpJxWyngzRI4JI0t7gNI6O0/22bztyAhWEu/eCAxXIP3TjpxVkeG9JFq9ubQNFJataOGkZt8TElgSTkkkkljySSc1Ozuu/6f5i6W/rf/I5nUPGeqK1vFYwJG10bmWCX+zri7HlROqICkJ3Zcndv4AGBgk1t2Oo3M+paVcTRTWw1SxLy2cxbMEihWxg4wfnYHgZwvpVm68L6Td2FpZvbyRw2UflW/2e4kheNMBdgdGDbSAMjODgZ6VNb6RDbahDNFsSC1thbWtvGm1YVyN2PqFQDgYC+9HS39df+B+Y3/X9f12JbfU4LnUJ7OOO6EsH32ktJUjP+7IyhW/4CTXKajrOr3GpQzxywwabbayLUxRhxNIFU7izZwQW/g29ADu7V21ZMnhjSJdX/tN7VjdeYJs+c4TzAAofy923ftAG7GccZxSs7r+uqH0f9dDmdG8Z67qtrLPFpbTefp5u7dRp1xAsL5GImkk+WYkNkMm3Ow4HINXbfxHqdzb21pBc2T391eNbrO9hPCsKrEZCZLd2Dq2BgDfyCGz2rUh8HaHAJxHZttniMJVp5GEUZOSsQLfuhkA4TbyB6DDz4V0k2H2QxXBXzvP843kxnEmNu7zt/mZ2/Lnd93jpxVaf16/5CMXVvEmu6cL1/L07bo9lHd3yFXP2jcWysTZGz5YycsH5IHbJUeIdek1Q7f7PSxfU5NPjUwuZOI2ZZC2/H3hgrjkDO4ZrWk8HaDKbfdY4FuixqqTSKsihtwEgDYlG7J+fdySe5q7/AGNYBlbyOVujdj52/wBaQQW6+hPHT2qWm/681+lw6f12/wA/vOM0fXfEP/CMaXHBcWU9zHpH9oXE93HIfOHRY87+GIBy5J7Hbzx0moa5cf2Dpt1pcca3GpyQxwm4BZIvMG7cwUgnAzxkZOBkUSeC9Bls7e1e0kMNsjRxgXUoPlsctGSGy0ZwPkOV4AxxWlf6XZ6np5sryHdBlSFRihQqQVKspBUggEEEEYpvX7/1/wArL5XG99Dhl8TaxpimwklEt9cX95m4FjcXiRpGVwBFGd4BLrjnC88njPRXdzq+s/D55rG0ltdVu7UBYC7QtE7cH5mAZccnOM8dM1YPhHRvsKWiW80aJK0yyRXUqSh2GGbzVYPlu/PPfNXW0bT20ZdK+zKtkiKiRISuwLgqVI5BBAIIOQRnOaX2ben5C639fzOMkh1KbS7jTrO21CG5sroi5SLWpZuWhzHIs8rKxjBKlk46H5W/i1dA8R/bdXdLhbpvtRVIZflEC4j3hMbtwdkJkztxhlGcjFbNv4f0620u40+KGQwXRJnMk8jySkjBLSMxdjgAcnoAOgp66LYLq/8AaawkXWzaD5jbBxjdszt3Y+XdjdjjOOKrr/X9f18hF+iiikMKKKKACiiigAooooAKKKKACiiigAooooAKKKKACiiigAooooAKKKKACiiigAooooAKKKKACiiigAooooAKKKKACiiigAooooAKKKKACiiigAooooAKKKKACiiigAooooAKKKKACiiigAooooAKKKKACiiigAooooAKKKKACiiigAooooAKjnnitbeSe5lSGGJS8kjthUUckknoKkqpqunRavpVxYXDOkc6bSyEBl9CM8ZB554oANO1Wx1e3afTbmO4jVtjFD91sZwR1BwQeexFV/EWo3WlaDcXlhbG5nj2hUCM+0FgC5VfmYKCWKjkgYGOtGkaQ2mvdT3N5Je3d26tLM6KmdqhVAVeAAB9ck/hZ1K0mvbForW7ks5wyvHMgztZSCMj+JTjBXjIJGR1pMa3Of0bxPcXNreTmaz1+3hEZhudEUHzHbjyTGZHKsPlO5mC4bnbtJqUeLDNcWSJZT2xa8ltruC4jDyxlIGl+Xy2YEnCngtkHHWoL7wde6tDevqmqW0l5dLBHmKxKW5jik8wI8RkYuGJYMC4BBwAOcw23w/FtYtbRX8dqGuZrgfYbQW6xGS3MJEahjtwSWB5PY5PzFvZ/wBf1/XzXYlj8Y/ZDqEuqWOqRSK1u0NlJDCHCTN5abSshBy4bO5gR6DvaHiwR+ekljdzXQvFtYrGKOMS7zCspUsZChwCSW3KOMDPBbM074dJYb2S4sYGkNoXSx04W8ZME3mA7Q5JZhwSSfX2rSuvCs7X01/Y6gkF6b/7bC8tt5iJ+4WFkZdwLAqCcgrgkenL0/r5f8EOhNe+JVPgW+1/S1BaC1mlSO4UjbJGGBRwD1DKQQD2PNY+n+Nmjiv7q81LTdasbOxN3LPo8W3yCD/q2BlcFiMkcj7pyORWx/wjA/4Qm70AXjF7uGZZbpkzmSUszvtz03OSFz04zVG58Iahqkc39satbSS/YJbGBrWxaEIshUszBpXLH5FwAVHXrng05v68/wDgA/hX9dv+CXz4qt4rW9lu7G8tnsreO4mhkEZcK5YKBtcjPyE9e498VLbxfN5d19r0m7acalJZWlvAIy8+0E5BMm0YUEksVHHHPFLrvhO61a7vHtdVW0gvreOC5jNt5jHy2ZlKNuG3O4ggg5HTB5p03ha7897iz1OGG4j1B721aS0Lqm9Cjo43jeCCcEFccdccrrf+t1+lxa2/rs/1salprlre6D/a1ulw8IRy0SxFpVZSQybBklgwIwM8isS98Z3MapHBod9HdrfW9vPbXHk7lSU8OCsu05wQPmOD1GKvr4Z2eDbjQ1vpBJcRy+Zd7eTJIzM7bc9CzH5c9OM96ybLwC9hHO1pdafazTXFtcBLTTBDAjQsTxGHz8wIzls5yc4woenN5afnr+AO/Lp5/loaGneJEu/EUkJ+2G1uXaGylaGMQO8WfMCsGLlshuWCqQny9yz/ABJqWr6RGb+1exNnE0am2khd5rlmcLtRgwCscgAbWyfSqek+BbfSfEX9ow/2f5aSSyxldMjFyWkJJD3BJJA3NjAU4wCTg5t6loOq3fiSPVLbVLIRQIFgtruweYQtzudSsyDcQcZIJA4GMtldhvqUrbxVPP4wu7Ga8trazguTbxxyadMTOREHYC43iMNkt8mCcL+NVYvG9/b6eL/UYLaWG80qXU7KOEMhQJtxE7Fm3EiRPmAUdeOlbtzod9farC9/qUc2nW9wLmK2+yhZN4B2hpN2CoJJACA8DLHnOdB4GU2r2moag1xbR2EmnWYji8t4IXxksxZg7gKgDYUfL05oW2v9afncel/67/5GhoeqX8uqX2lawbaS7tI4Z/NtYmjRkk3YG1mYggow688HAqCTxM0LJcTAC0lup4olSLc7rDG5YklgFJaNscHjHrkXNF0a4sLu7vtSvI72+uljjeWKAwoEjB2qFLMerMSc8k9BWcfC8tzbrZySfZ4rS5uZIHChhKkySDpkYKmUj32j14U72fLuSt1cfa+N7K4t5ZZbDULXbBDPAk8aBrlZW2x7MOeWbAw20jIzimXPjB7S6RrvTrm0t0srm5uIJ4185TE0QAUqxRgRITkEjpyCCKfe+EBdqpF7skitbaKFvJyFkgk8xHIzyCcZXjjPPcMvPCV5qsbnV9YEs0llc2jNBaiNUEpjIKKWYgL5fRixJJ5AwKvS/wB/62Gti/f+JreyuprVbW6ubmNokSGEIDK0gYgKWYDgIxO4gcd6gk8VwwXtsl3Bc2yzxx5imhAeF3l8sbm34xuwOARyCCRVOTwjqFzFfvfapZXc98YfNjn0wPbMsYYbTEzkkHIb74IYZzj5aevgpf7Na1N9gmwNqrJFgRNvLq6DcdqqcbU7BQM8VOz+f4W/zFrb+u/+RYufGFrExjtLG+v5986rDbLHuZYSFkkG51G0MQvXJPQGrlrrK3WoWghZJLLULT7RaSqpBOMEg59Q6kcDo2axNR8AQXun6ZGHsZ7mwgeEyajpy3Ucu/Bd/L3Ltcsu7IOOSCDnjWs9Ie21HT41ULaaZZmKNwqJ5rtgHCoAFACdAAPm4HFHT+vP/gfMbNquZ1Dxc0WrW9pZWUzQ/wBoLZ3F5JGPJB2lmVTu3ZHHzFdvUZzxW3b6Tp1rqE99a6faw3dx/rriOFVkl/3mAyfxrEl8JzyaoXTUlTTmvftxtPs2X8wjDDzN33Tycbcgnrjilrdf11X6XH0f9dP8xYPHOny28txJaXtvB9lN5bSSxri7hBA3x4YkfeXh9p+ccdcWn8S+VZo82j6jFeST/Z4rBli82Vtu/Ktv8sjaCc78cEdeKx9H+H6aKk62U+nQn7KbaCSDSIkkIJHMzZJlOAAQNgOTxnBE9r4MmsbOE2N5Z2t7b3ZuYfIsClpHmPy2RYBJkKQSThx8xJ9qrT+vX/IRau/GlpZbTNp+ohI4EuLx/JVRZIxIBlBYHqrfcDcKT0wSn/CZ251N7OPTNQkVbp7MXASPy2nVC+wZfPIHDY25OCRVe/8AB97fecr638t/bJbamWtBunVSx/dlWAjJDsvIfjHcZN5fDQVoyLrhNTa/x5fqpXZ1/wBrr+lS7/16r9Lh0/rt/mZun+Oi/h3Tb2+0m9e6ubM3lxFaRoRDEMZkOX+6c5CglyP4eDW9qGt21jpcN8qS3a3DIlvHbKGeZn+6FyQOc5ySABySKwY/Bd/badaW9lrUcMsNi2nyy/Yt3mQZypA3/LIBn5sleSdvQDY1DQRcaLaWVhP9lksHie0lePzQhj4G5cjcCMg8g4PBB5pv9fwv/lb53G99P67fjf5WMuy8ZSSW7/aNMupb17yeGCxt1QS7IsZZt7heMjJDYJIxnNb1vqkd7oianp0Mt0ksPmxRKAjvkZC/OQAe3JFczd+APttvE95c2F7ex3E0+++00TQHzdu4eUXGMFRtO7Ixg5yc9RpWnppWk21jGVZbeMJlIkiBx3CIAq/QDFC2130/LUXX7/z0OctvEur3ukaeqxWVrqd/qFxafMGligWJpcnGVL8RgdV5bPHSqyeOLp300v8AY7fzHaO4ikB3Tsk5il8o7hgJtMhyG+XHTrWqfC80Wn26WWoLFeWt/PewTSW+9MytISjIGBI2ykcMOQD7VPB4bWDw7DpC3JMXmmS6cpzcbnLyDr8oZic9eCR70+t13/r5Ddr/ANdybQtai1iGZhPbNNHId0EUgZ4UJOwSDOVYqM4OMZx2zWrWNo+gPpeoXNw90syPvWBFi2GNWkaQhjuO87mODgYHbqa2aXQXUKKKKACiiigAooooAKKKKACiiigAooooAKKKKACiiigAooooAKKKKACiiigAooooAKKKKACiiigAooooAKKKKACiiigAooooAKKKKACiiigAooooAKKKKACiiigAooooAKKKKACiiigAooooAKKKKACiiigAooooAKKKKACiiigAooooAKKKoa5a3d9oN5badN5F1LEVjk3FcH/eHK56ZHIzkUAX6p6tqkGjabJe3QdkQqqpGuWkdmCqqj1LEDnA55IHNZvhbTbzTorz7TD9kgmlDW9n9pafyQFAb5j6kE4HA69Sau6/bSXeizwx2NvqIbbvtLkArMm4FlGeN2M4zxnGcDmkxrcgs/EttM15HqME2jzWUazzR37RrtiOcSb0dk25Vh97IxyBxmWPxDptw1gbG5jvYr+V4YZ7WRZI9yozHLA+ikcZ5rlDpWuLpl8ul6dfW9rm28mz1G7ju5wyyZkkiMkkiKQmNoZ8blzgdTFB4e8QeRJI1q01w1/cXK/2g8Db1ezMaeYIsL98hSFHr1HzFvZv+v6/r0XY6my8VaVeJfXC6jposrSVY/tKX0bqcgctg4T5jgAnJxU6+ItK+xXF7Nf2sNlA6qbqS5j8ptyqyncGIAIcYzgnrjBBPE2/hvXrqWWW+tryRZBpyhb17VXUQ3JeQYgwoUKcjqT+lat3o+pwa5NqkenNepFrH2tLdJIw8sZtFh3LuIXKtnhivAPtl2X9fIOh1F7qttZaHcasW8+1gt2ud0BDb0C7srzg5A45xWdY+KoLiYx6jY3Wkf6MbpHvnhCvEuNzbkkYDbuXO7HUe9UIdCv4vhjqGleQq3t1bXZjtkcYjMpdliDE4+XeFz049Kw28OancaVfQ2OkalaGTSJrWRdT1BLhp5GUbFjJlk2AENnlAcrwcDafaa/rr/wBpJpf12/4J3UOt6Vc28k9vqdnLDEnmSSJcKyouSNxIOAMqwz6qfSqkPi3RJZNUV9RtoF0qcQXUk06KqMQCDnPAySvOPmVh2rB8SaRq7TarFpeltdR6lpUVpG6TRosLRmQkMGYHkSDGM8jnA5ou9I1WLXri+j0uW7it9Yjv0jSWIfaENoITs3MMMjc4baMdCaNL/13Ql/X3HZwTw3VvHcW0qTQyqHjkjYMrqRkEEcEH1qnba/o97DczWerWNxFaAm4eK5RlhAyTvIPy9D19DWdoemX1j4Pntnt4Y7uc3E0drIQ8cRkdnWJscEDcAccdccVy1v4d8RTLLcXFteFlt7MLDdvaIzeRP5jwqIQECleF3E9eSopfasHQ7iPxDpcyxSwX1rNaywyTC6juYzFtRgrHO7JwW6gEDHJBxkh8SaHcTRw2+s6fLLLK0MaJdIzO64LIADywyMjqMiuV1zRdT16O6mj0L7F9p029tzC00W93kMO0vtO0MwRujMAAMkHgXNR8OXMt/fzW1jH++vdNkRgUBaOGRC3f+EBuPyp9vP/ADA6OLWdMn1OXTYNRtJL6EZktUnUyoOOSgOR1HbuKi1zxBpvh6we61S6ji2xu8cRkVZJtq7iqBiNzY7Vy2laRrw8WWVxe2s8Vra3V0zKPsqW6iTfteJUHmHORuLnOWzg8kXPFek39xe3stlpn9prf6U9gF8yNRAxJOW3kfK24Zxk/IOKiV0tBxtd3Ohj1rTZLyCy+3WyXs8QmjtHmUTMhGc7M5xwefY03VNUl04Ri30u+1KRwx2Wip8oGMktIyr3GBnJ7A4OOMi8LauniBFmS/e2kv4L3fFNarbx7I0HzbkabcCm3C/KQR8y5OOk8Uzax5Vva6TYXc8FwWF3PZvCJYkx0TzXQAtn73OADxkgi5baEx8xV8WQ3T2Q0nTr3Uxd2y3Qa38pRHGxwC3mOpz14GTwak/4Si0Gt/2cbe5C+f8AZftZVfJ8/Zv8r727O3vt254zniud1vw1HfW8S2PhExXjWcdvZXrTRbtMKklc/PlChO7MW8t0PQVaOiao2rLYtaMbNdXGp/bzKm0oFzs253b9/wDs7dvfPFHX+u6/QHtp/Wn+f9I2NN8UWmpakLOO3uYfMWR7aaZVCXSxsFcphieCR94KSDkZHNbVcdoOi6nBqWlQ3dmbe20WCeEXDSq4ui5UIUAJbAVSW3BTkjGeTXTR2U6apJdNqd1JC64WzZYvKQ8cghA+eO7Ecn2wlsh9SrrPiXTNC2JfXMf2iRkEdqsi+a4Zwm4KSCQC3J9AatR6tp02py6bFf2r30K75LVZlMqLxyUzkDkc47iuV13RdSl1LUkttK+2pqM9pOlyZI1WARMu5SGO7I2llwDyx5FU9P8AC2qQ68qXUV9PbwXl3dJI9xbJbMJt+ANqGck+ZghiAMEgnCgpMeh2VvrukXdrcXNpqllPBa5+0SxXCMsOBk7iDhcD1psniLRYtPgvpdYsEs7htkNw10gjlbnhWzgng8D0rkoNF1p9KlBsLkJbvZvDbXrW3nyLDJvMSvF8pQDGzeQdxbJAOatX1pqcl9FqsfhfeJLe6tnsRPB5imQoRI5JCfNsIbazHBHXkBvT+vL9dvIX9f16fidNNrmlW+oR2E+p2cV5K22O3e4QSOcA4Ck5JwR+YqlaeMdButNn1A6paW9rBdPavLPcRqodWIxndjnGR3IINc3a+D9QtNFntZIEuLnzdMAmDj94sHlb2BJzxtc88/nU0el6tYXkV6dGlvRa39+wt0lhDSpO5ZJU3MBwPlIJU/MeD3Hon/XYa1Sf9bM7cSIY/MDKUxu3Z4x65rHtPFuiXrXrW+oW7WtlGkst6J0MGHLDhwccFTnOKpJ4dvP+FYtoBMSXbWDQBVYmNWIOEzj7oztzjp2rEvtD1nVLi61GHS7nSjvspUgiltjPJ5PmBsZLR7huUjdwQo5B6D0bJ6HeQXltd2S3dpPHc27rvSWBvMVx6qVzn8Kxl8XW0S3R1OwvtNa2tjdBLlELSxA4LKI2bnOBtOD8w4o8LWF1pWgT/aLe5+0S3E1x5NxLC0rFjnkxKsaluuBkAn7xrDj03Wda0zU5NU0e6tdZubddj3E0P2ePYwZYI/LkdguerEDd1OBtUHX+v6/r0H0/r+v69TbPi6AWrltNv1vo5xbtpxEXnbyhkGDv2EbAWzv6AjrxWlYavbalJts98i+RHP5mMKA4yo9d2OcdgR61gRaLLqn9s6jq+l3MLXTRtb2S3QjnHlIQP3kb4VmLMOHxg8nkiodN0LVtP16yYCYQ7VkmeK4226ZVw8Zi3DccmMIdpwqAZGMEXmJ+R0txrFpaaj9juX8oi2a5aVyFjVFYKcknj7wqOHxJodxNHDb6zp8sssrQxol0jM7rgsgAPLDIyOoyKxfFuh3urPfi1t/OSfRp7VfnVd0jMpC8kdQDz0qPUfDlzLf381tYx/vr3TZEYFAWjhkQt3/hAbj8qF9m/X/P/IfVr+tl+p0Meu6TNdS20OqWUk8KNJJEtwhZFU4ZiM5AB4J7Go4fEWlXDMbe/tZYFXcbhLmNkB3bdvDZznjpjPGc8Vw+l6VqGp6csNppvkx217qcxu96bbgyGeMIvzbs5cE7gF+QcnitPUvDF7cWUFtHZK8S6Za2zIXXGUmRmXk9lBpa3/rs/wDJfeD20/rVHTW3iPRL2aCKz1jT7iW43eSkV0jNLt+9tAPOMHOOlS2us6ZfX09lZalaXF1bkiaCKdXkiwcHcoORzxzXPN4fu/7Xu7lLNAJdchu1fK5aJbdELdc8MGGOvtzVLwzo+vReI7C71a3miitrW4hdD9mWGJnaNh5KxDd5Z2n75LcDIHJLjrv/AFpf/gDen9ep1s+t6Va38djc6nZw3crBY7eS4VZHJ6AKTknkUo1nTDqx0salaHUANxtBOvmgYznZnPTnp0rntW8PXN1da3NFZq73ctiYmLLl1icMep4x8x5/CqS6Pr8vi62nnt5ks7bVZLkqn2ZLcxtHIquoA84v8w3bjjJOARjCjq7MHtc6l9f0+PxHHob3CLfSW5uFjLqDtBx0znPU9OgPpTF8S6VPBBNYXsN/FNdLaiSzlSVVkIzgkHjj8eRWT4q0S/1e9uYbOJvLvNHuLP7QHVVikYqV3c7sHBGQG96y9N8P6s2oLfXFtqCv9qtd/wBvmtdxSIPkhYFCgDfgEksfQYGWtl/X2rfl/mJ9f66L9TsrXWdMvr6eystStLi6tyRNBFOryRYODuUHI545ovNZ0zTrqC21DUbS1nuTiCKedUaU5xhQTk8kDj1rkfDOj69F4jsLvVreaKK2tbiF0P2ZYYmdo2HkrEN3lnafvktwMgcknjLR9e1LUL6PTbWYwXFrEqvbfZVSUqzFkmaQGTj+EJgZbkjJIa6A9L2Ovi1fTZ9Tl02DULWS+hXdLapMpljHHJQHIHI6juKbPq9laXE8d5PFbLBHG7yzTIqjeWAHLZHKnkgA9icHGHpWnajbeKJCLK4t7ETTykTvBLDlyTuhYfvgzE5YP8oywHY1Frvh+91HxBcTLaiW2kbTSCXUA+TcO8nBOeAQfftmhdAe0vI0bvxno1u2mLa3cN+dUn8m2+y3MJD4+8wLOAQDwcEnJAAJNX49e0iZLpodVspFs22XJW4QiBs4w/PynII5rnl8P341YSJAIojq1xc71ZeEe2KB8Z7uenXvWMPC+r3mmQ2suji0+w6UunMDNGReN5sZLLtbhAI2I37W+fp1pdPl+n9L5iu/69f1O2HiXQi0AGtacTcf6kC7T97xn5eeePSnN4i0RNLXU31iwWwdti3ZukETN0wHzjPB79qwNZ8N3F9c6zIlkkv2y408qWK/vI4pFZ85PQDdwevbNV77SNbgvZJbG1nVJNTmm82zFsZ0VokUMpnyqqSGDYG7pgdaXR/12/z/AAH0X9dGdXNrWl2/2T7RqVnF9uIFrvnVftBOMbMn5uo6Z6iqFn4ia58U3GitBaq8KtISl/G8ioCoUtEPmUtuz0IxjJydo5fTNP1Hw5BZRalpC34vLC30/wAt54hFDKjyEhycfK28EbVYkrjbnAqzb+HtVOoQWTWP2dLXULy9OqeahWVZhJtVQDv3fvRnKgfu+CeKfmvMen5f1+h1sWuaTOl28GqWUq2JIumS4Qi3xnO/B+XGD1x0NTWN/Z6naLdabdwXdu+ds1vIJEbBwcMOOtee6X4V1WGyZL6x1Kd7PTks4xJdWaBysit+48uPJ27NymYjkgEcsR1WgSXtnbxxarBcCa8uXKNMsAm2hM7pvKOwt8pAKA8bAec07E/1+Boaxrmn6FZm41O6ihG1jHG8iq0xUZ2oCRub2qFfE2lLYyXl7dwWFujohkuriNBlkVwD83Bw3Q4PfGME5PijTL6bUpbiz0v+00utMlsNvmRr5DMQdzbyPkP8WMn5R8p7ZiaFq1lBJMLC+88XiSQy6fPb+dGPskUbELNmNgSrKc8jgj1qVezb/rX/AC1Ka/r7jsZtc0m3uIYLjVLKKacqIY3uEVpC33doJ5zg4x1p/wDaun/2p/Zv2+2+37N/2Xzl83b/AHtmc498V59caXqc99qmlx6VbveXWiWdo81vsSKzbMuTgkHYDyNgJyo46Vrf2Hqf9s/Zv7NBjGsf2l/aZlTaU2Y24B37/wCD7uNv8Xaqe9v63/p/gT0/rt/SNu+8Y6BY2F5dtqtnMli6x3Kw3EbNEzNtAYbuDnPBx0PpV1Nc0mTUk09NTs2vXQOtsLhDIy4zkLnJGOc+lcbFomsjQ720i025SKK3SO2trmS2dgVkDeXDImCY8L1lwxO0nHNPbSdfufFME8lncRWkOqfajGDapblDGyh/lBlaT5gGycdcZGBU9bf1/XX+rjelzsbLV9N1Ke4h07ULW7ltm2TxwTK7RNkjDAH5TkHr6GnPqmnx6nHp0l9bLfSJvS1aZRK688hM5I4POO1c/wCE9P1CxuGjuLO4tbOCAQwx3bQSGPB+5DJH8xiAH/LT5j8p9aVbHUIda1G3bSftUV9eC5j1BpYwkA8pU6H596lDgBSMEfMOcNh1ZtRa7pE63LQapZSC0bZclLhD5LZxh8H5TkYwaz9R8baHYaSmoQ39tfxSzi3iFrdQnzJD/CGZ1XIBycsOK5T/AIRXVr3SobSbRltRZaSumupmjIvD5sZLLtb7gEbH59rfP061vXWh3rateTQWwEc2q2dyGDKNyRqgduvbaffij7SX9b/5a+Qruzf9bf5m9HrWlyz3MCajaGezXdcxCdC0A9XAPy/jUP8Awk+g7I3/ALb07bI+xG+1x4ZskYHPJyCMeoNcgvhvV5LNLH+yxA1hbX0f2rzY8XjTBtoXByNxIZt4XDAdetXdY8M3dzZajHb2Su0nh0WEA3L/AKz5spyeP4eenvSTbev9b/5L7yrdP66f5/gdOuvaQ9jPepqtk1pbOUnnFwhjiYYyGbOFPI4PrVq2uYLy1jubOaOeCVQ0csThlcHuCOCK4vW/DWpTXc9zp8c0KxXlrcRraNCJJFjiZCEEmUyCwIDgD5eCODWroWi3Vv4PurGUT21xdtcP/pEkTyI0hY5bylVAcnJCggE9T1ou7N9hLW3mbNjqun6p5v8AZl/bXnkvsl+zzLJ5bf3TgnB9jRJq2nQ6nFpst/apfTLvjtWmUSuvPITOSOD27Gue8L6ZfxapDdXelDSo7XTI7Dy/MRvOZTnK7CRsXkLnB+Y/KKzr7wzqkni65cLfy2d1qVvfB4prZII/LVB8+9Gm3Dy+AnykEDK5bFdUv63/AMtfwF0f9dP6R2qahZyeV5d3A/nI0ke2QHeq4yw9QMjJ9xVaLxFok2nm+h1iwkswxQ3CXSGMMBkjdnGQOcelczd+HNTu9P1qOO3W3OtW8gWPzR/ob5J2nkrh85YqCAxbO4HIr6f4b1K41KK+vbS/z9vtpJBqMtoX2xRyYfbAoUAF1A5ZjjoAOV/wPzG9PxOug8Q6LdOUttXsJmWD7QVjuUYiL/npwfu/7XSo5fE2lLbNPbXkN6qXUVrILSVJDHJI6oA2Dxywz3xXJ3mgXdloM0r2ixCIatLKysvCylyh4PORt+nfFJBoup6hBaTw6QLCOCLToFh8yP8AeLFcLIzjaxGxVztBw3J+UdyOsrPy/G/+VvxG1b8fwt/nc7eLVdOuNSm0+C/tZb2AbpbZJlMkY45ZQcjqOvqKbe6zpmm3EEGo6jaWk1wdsMc86o0pyBhQTzyR09a5bS9D1OLWtPhm07yItNv7u7fUPMQrcrL5mFUA7snzAW3KB+74zxUXjXSNe1K8v4tMtpjb3NgsSPbfZVErguWSZpQXxyu3ZjlmyR1Augu509v4j0y41abTDdxQ3scxhW3lkVXmIRXJRc5YAN1x2NEniTSAL5bfUbS5nsEZ7i3iuo/Mj29dwLALzx8xAHciuafQ9UfWb+JNLEcd3rNvfLqHmJhY4kiyCN2/cdjKMDHzHOO+Q/hrxNeWs63NnMHGlXtosJa1jhSWTYVEIjAYRnaeZDnpkDklx1tf+tP89Bxs3r3/AFPSFv7RtmLqEl5TCo8wfNIASUHPLDB468GmWeq6dqMs8en39rdSWz7J0gmVzE3PDAHg8Hg+lYS6VfnxDLqa2vlRzq1q0QkG5flAFz97bk7QuMbtu30K1R8OaVqljd2E9zo7Wq6VpRsGWOWJjePuQhkw2No2EjftPz9BzQtX/X9f8P5Mnp/X9f8ADeZ0fiDX7Tw1pf8AaGorKYPNSNjEu4ruONxGeg6n2FPbW7JL+4tpZBELa1S7kndlEQjYuAd2e2wk9sY5qHxDYzX9vZJbxCXy76CWQEgYRXBY89eO1cjceEtZiutThhgS6sYEsvsCmVQZoobhpjA27oQDsBPBG3J64Udd+/6Ir/Jfn/kd7ZX1pqVol1p11Dd28mdk0EgdGwcHDDg8gioBrmktPdQrqdmZbMbrmMXCboB6uM/L+NUPDNndwvqt7eWjWH9oXhnS0d1ZowERMsUJXcxQtwT165zXNaJ4d1fTL+I3Vpf3o0+G5VPNntFgmMjZ2oFTzCG6nzGGCP4qHv8AIR3FzqdhZxzyXd7bwJbqGmaWVVEQPQsSeAe2agn8RaLbWkV1c6xYQ28yb4ppLpFSRcgblJOCMkcj1FcndeGNYg0a3s4PPklsb6K9+0Wjx+ZcDYylFExZdyHGA/G1U5znDdP8KX0a+bLZTbnsNQTFzNC0iyTyIwB8tVQFsEnaCByNx6lN2v8A10v/AMAfb+uv9M7Bdd0l455E1SyZLeTyZmFwhET5xtY54bPY80yHX9PuprFbG4jvI77zPJntnWSM7PvfMD+HGeRXE63odzYW0b/2dG0OzR7dIQyAO8VwxaPGcDAZQM8c/Wrp8Oatfz3Vwbc2H2+S7dY3dC1r5lukS7tpYElkLHbnrTlonbW3/A/zEtWk+tvx/wAjsLDVdP1VJH0u/tr1Yn2SNbzLIEb0O0nB9qP7V0/+1P7N+3232/Zv+y+cvm7f72zOce+KwfDWn3y6u17d6V/ZUcenw2QiMkbGVkLHcNhI2DOFzg8ngd6Z0TUjrn2f+zQIv7Z/tP8AtPzE27NuNuAd+/8Ag6bdv8Xajql/W9vy1/AXRv8Arb/PT8TsGuYElaJ5o1kVPMKFwCE/vY9Peqv9u6QL6CyOq2X2u5QSQW/2hPMlUjIZVzkggHkelY/i/RL7U5bN9LTc0gexuz5uzZbS43uPUjYMD3NZOpaLrs/iRhBaTJYpqVrcILf7KkEkSeXlnyPOMow3cLtUYz0JHVpP+v6X6jezt/X9f5HUQ+JdJexs7q5vYbJb1ilul3KkbSMDjaATyc9hnrVuPVLCXUZNPivrZ72Ndz2yzKZEHHJXOQPmX8x61w0nh7V7bTjH/Y4v2u9Kk08oZogLdmkdtzlj9whgTt3H5B8prpfDOk3Ol3GrG7XJuLmNkl3A+aq28SbuuR8yt15pQu1d/wBa/wBMb0/r+v6RZ1LxJpmlXsFlcXUbXk8kaLapIplAd9gcoSDtyetWLXWdMvr6eystStLi6tyRNBFOryRYODuUHI545rlr/RdSOs3MUWlfaIrjV7bUVvvMjCoieWrKQTv3AI2MDBU9c8VF4Z0fXovEdhd6tbzRRW1rcQuh+zLDEztGw8lYhu8s7T98luBkDklx1Wv9aL9dBPf+u7O7ooooAKKKKACiiigAooooAKjmnht0D3EqRKWVAzsFBZiAo57kkADuTUlc943jM3h6KMO0ZfULJd6HBXNzHyPejqkNHQ0V53c3H2FXsdQ1a9t9Fg1poJ7qS+kV44jbiREafO9VMjAZLA8hc4OKZo15ez772+vNUmjsdKlntkilZXnQTTCKQpna7mNVxuBBJBIpNpK/9bXFq3b+t7Ho9QLewPfvZK5M8cayOoU4VSSBk4xk4PGc8VxPw/1GS61q+iS6E9obK3lTZq0uoIXLSBiJJFGDwoKrwMfhVWy1LVJPiB5NxfRRXA1GWNrU6jMztahW2f6KIyirgK3m7hk8FudtVb3khdG/62v/AF5nc6lrmk6N5f8Aa+qWVh5ufL+1XCRb8dcbiM9R+dXs56VxPjK4j0/V/wC0IvELabqENg6Wdn5CMLxy2dg3qTJkqoKR4cZHIyKt+Nb3ULfw7YyRlLZJLmJb9mu3tlijKknMyAtGN+0bgO/UZyJ6X/rcq2tv62Ororl/DF7c/wDCDy3VxcteCPz2hltpWuGaMFtoWSRFMpA4DEENgHJzmsjwBqcl7rd0iXf2i1exhmXbq0moKX3OGO91UI3QMicDjgU+tv6/rQWyud/RXnVzqePExil1a8i1Y6x5X2FbhwptdvyERZ27Dwd4HLHGe1V7PxSZNHtWTUbueWz8OSteiCbMkdwpiDbiwIEi/NncCRnJHPKj7yv/AFtf/geo2rO39b2PTailu7eCQJPcRROUaQK7gEquNzc9hkZPbIrzDTby4v5JbGDU5VtJNQswr2esT3gZGDhwlw4ViDswdvAIOCCDh7AW2rW7z6heGW2i1e3tZJr2QsdjqUXJb5yF3dckhQTnaCE3a/lf8En+qCK5mvP/AIP+R6XJeW0UEc0txEkUjKqSM4CuWICgHuSSAPXNTV5XfXS3VxCuralcDUFv9MNnaG5bbJb7oCZPL6N+8MmXIJBAGR0Mlprl5P4tP9l3Mkk8j3sTQy6o8zh0VzGklvsEUHKfLg7iAc5+Y1clZN9r/gk/1EtUn3t+J6Z9oh+0m382Pzwm8xbhu25xux1xnjNSV5C99tglu/D+q3F7MdNtlvp57uQmHM6+cDJgtCQrHcFH7sHIVa7TwNdXFzot632uG9hW6cWjxXkt2oXap2+fIimQBi3zfNj7uflwF0v2v+Dt/wAMHX+u1zpjcwLdLbNNGJ3QusRYbmUEAsB1IBI59xUleR297cEx3ml6hc3mvroF2btHmaY291vg3qFIIQg5+QDAwMLzz1XgC8lun1Ly7+C8sUMXleRqc2oCNyp3jz5EXORsO0Ftpz0yBTtp/XdoHozr4Z4riPzLeVJU3FdyMGGQcEZHcEEfUU+vN9MS909bS60+6unuLq51SPyDMxiba8roBGcqCGUfMBk5Oc5qpFqLzaVcJouuX91DJZ2pu52undre6adFIDE5jYqW3RjAXA+UZ5nrb+uv+X5Cvpf+un+f5nqdQXl7BYW/nXTlELqgwpYlmIUAAAkkkivOfEOpNYeJls7C6uY5LGeyjVbjWZhIY2dNzLBtImQhiGkkYnORn5RW14/vbq1m0xDcRW2myed9olm1KSwTeAPLBnjViOrkLwCR17Evpcq2tjr7i5gtLaS4u5o4IIlLySysFVFHUkngCqJ8R6Iulrqbazp4sGbYt2bpPKLegfOM8HjNZcOrwad8O7XVPFEsdysMEUksjJjzHBGwgSKmGLbSCwXB5461iQeJtE0mxuNZfUNIutQ1W+PlrHexmC3k8oKFabouEQFm6noAcqC3o2hLVJnaz6xplrDbTXOo2kMV2yrbvJOqrMW5AQk/MT2xVyvMpxpWladEs9/bX1pcaHc29rcxkGO4meTLxRkEgliQFQEnCY5xXfaM7DSrW2uZVe8gt4luV3Asr7B19M80dP67v/L8RX1X9dv8/wAC/RRRQMKKKKACiiigAooooAKKKKACiiigAooooAKKKKACiiigAooooAKKKKACiiigCCextLm4gnubWGaa2YtBJJGGaIkYJUnkHHHFT0UUAFFFFABRRRQAUUUUAFFFFABRRRQAUUUUAFFFFABRRRQAUUUUAFFFFABRRRQAUUUUAFFFFABRRRQAUUUUAFFFFABRRRQAUUUUAFFFFABRRRQAUUUUAFFFFABRRRQAUUUUAFFFFABRRRQAUUUUAFFFFABRRRQAUUUUAFFFFAEFzZwXnk/aY9/kSiaPkja46Hj61PRRQAUUUUAFFFFABRRRQAUUUUAFFFFABRRRQAUUUUAFFFFABRRRQAUUUUAFFFFABRRRQAUUUUAFFFFABRRRQAUUUUAFFFFABRRRQAUUUUAFFFFABRRRQAUUUUAFFFFABRRRQAUUUUAFFFFABRRRQAUUUUAFFFFABRRRQAUUUUAFFFFABRRRQAUUUUAFFFFABRRRQAUUUUAFFFFABRRRQAUUUUAFFFFABRRRQAUUUUAFFFFABRRRQAUUUUAFFFFABUVyxWMbSRz2qWobr/VD/eoAreY/99vzo8x/77fnTaKAHeY/99vzo8x/77fnTaKAHeY/99vzo8x/77fnTaKAFMzKpJdsAZPNZmn+IWv5Pmsr+1haIzR3E4Xy5E4wwKsduQc4bacZ44rQk3+U/k7fM2nbu6Z7Z9q5qx0O+ha9lTT9K0iee3dC2nyFlnlbkSOpjUAgg4+8fmPPqAbkGt29/p0l5o9ymqRpkAWU6PvYD7obcFz9SOtJ/bkEehpqt3N9jtmiWRjcyqmzOMBmLbQckDrjPesbRNL1fSVvpBaWxkmVDFFLq1xcfMuQQ0siFgMHPA9sdyv9n63N4XSxnt7OKeIooSDUZVEqLj/lqIw0Zzz8oPTrzwPyBeZrwa7bPp9ndXF7bwC8wIc3SsrsRkKrA4Y49M9D1o/4SHTytmYtSt5hfNtttlyn77HUp83zY74yawF0PVo/Cq6Y1hpt2xu/OeK5v5XQp5vm4LvGzMc/LyOev+yNHUYtZe0tV0/T9OMnmLNcLJevGquGDYUiE7s88kL9Kel/mLU0rvWbLT54Ib/Ure1luG2wpNOqNKeBhQTyeR09at+Y/wDfb86wL+y1OWWVoLDTpxfWyw3QuLlh5eN2QMRnzF+c8Hb39eNuJPKhSPcW2qF3MeTjuaQzMj8RzPqb2smmahDEk/kfa3aIxlu3CyF8HI/h7845qx/wkWl7iv8AbFnlfMyPtS8eX/rO/wDD39O9YX/CP3cniOW+fSdJhd7pZV1KO4Y3QjXaNuPKH3guCN+MMeuMG9pthfx61qFxfaZpscd1KJBcQ3DSSnaqogYGJewJ+8cZxz1o6f15f8EHuaTa5YKJC2qWwEUIuJCbhfkiPRzzwp9elRWPiXStTsZbzT9Xtbi3hXfLLHcKREMZ+fn5ePXFZuj6frVvqFudQjsFtrez+yqYJ3d2IK4cgoBzj7v8OOrZ4dDYau2ii0uobDdaiIW8azOyzGMgguxQbc4HAVsdct0p6f16/wCVg6mtBrNldac1/a6lbzWahma5jnVowF6ksDjjHPpViK5E8KSwTeZHIoZHR8qwPQgjqKxkstRm07U3urTT0vLuMotv5jTW7EIQPMJRSwOcH5egArSsIpINNtop44I5I4lV0tlxGpA5CA9F9PakBLdXos7SW5nkYRwoXcgk8AZqpdazPb3ltbQ6fe3TTLvcxPEBCMgZbe6+v8OehpNbt5LrRbmOAFpNodFU4LlSGC/jjH41m+INHm1mSBo9N0u6Xy8Rz3qlZrNj/Gh2tk9Dt+Qgr97ng6gdH5j/AN9vzrNPiXTRro0c6jF/aBXP2fzhv6Zxtznpz06c1fAwAOtVzp9sdRF8Yz9pC7BJuPC+mM4x3x64PUUdQ6FvzH/vt+dZltrzTzSxzWV/alY2lj85ATOi4yyqrEjqPlYK3PTrjROccda5vTbbxNE95cX8OmG8khYRSLdyOu/+BNvlrsQc55Zj68UAaltrzSwXD3Vpe2UtuoZrebazspztK7GZTkggDOcjkDilj13OmzXlzb3VqbdsTwSlS8Q4OTtYqRtIbgnj34rN03TtY/s+7XVYrP7TIySrJHdPL5sinPzExpsXhQFUHAz1JqWe3v20HU2vLeL7beIUWC3dpkUlQijcVUkZ5J2jGT2GaGC13N7zH/vt+dHmP/fb86iiTy4UTOdqgZ9afQJbDvMf++350eY/99vzptFAx3mP/fb86PMf++3502igB3mP/fb86QzMqktIQAMklulJTZAWiYKFJIIAbofrSew1uJbX0d7bR3FndLcQSDcksUm5WHqCODVTVNYn0026xWF7fvcOUVbZ4gQQpbnzHUdAfypNEtp7LQ7S3vILK3njjCvFYIVgU+iA8gVW8QaZc6o1hHCgMMVx5k7LfS2sirtZflaMZJ+bOMqDjGeeG99BLbUmufElva6fBdSreN57bVggt3mlBzhsogJwvc9PzGdNJ2eNXVnAYZG7IP5HkVyOqeHtYn0qztbO6gh+ySeWPL81WkjLKA5aOSJlYLuJUEqx98Y6qGMxW8cbSNIyKFLt1bA6n3p9Lh2IW1Rl1ZLAw3PzRlxPwI8jHy5zknnPAx754pI9VaTVpLHyblCibxM4AR+mQvOTjI5xjngnBxTvU1c63ayWdpZSWkYIeSW7dJPmxnCCJgcAcfMM+1EiaufEkcyWlkbBYzGZTduJcHaSdnlY6jGN3vntSW4PYswa0ZtSe18i6jQErHcvt8uZl+8q4bdkc9QM4OM0WWtG8u3g8i6gABaGSXbtnUHBZMMTgEj7wB5BGRVW2sr1dRVJ4rdLG2leaCRJmaSRm3cMhQBQN7dGbPHSk0+0voLhTeQ26W9lC0NsYJmkeVSRywKDacIOAW6nnjkA1rm8NrbPNI0hVBnC5JPsB3J6YqjHrrPpstzJaXkU0T+W1m2wy7zjavysU5yDndgZ5IwcQ2g1DUvDMMmoxRRX0iibycMiowbeitnJBGFDe+eO1MWz1GSymuJ4LVdQeZZkgW4YxDaAApk2A84Jzs4z0OOTqBp2OoNfWom2TQNkq8MpG+Nh1U4JH4gkHqCRVjzH/vt+dUdNgnit3e9WNLmaQySpE5dFPAADEAnAA5wM+lXKAHeY/wDfb86PMf8Avt+dNooAd5j/AN9vzo8x/wC+3502igB3mP8A32/OjzH/AL7fnTaKAHeY/wDfb86PMf8Avt+dNooAd5j/AN9vzo8x/wC+3502igB3mP8A32/OjzH/AL7fnTaKAHeY/wDfb86PMf8Avt+dNooAd5j/AN9vzo8x/wC+3502igB3mP8A32/OjzH/AL7fnTaKAHeY/wDfb86PMf8Avt+dNooAd5j/AN9vzo8x/wC+3502igB3mP8A32/OjzH/AL7fnTaKAHeY/wDfb86PMf8Avt+dNooAd5j/AN9vzo8x/wC+3502igB3mP8A32/OjzH/AL7fnTaKAHeY/wDfb86PMf8Avt+dNooAd5j/AN9vzo8x/wC+3502igB3mP8A32/OjzH/AL7fnTaKAHeY/wDfb86PMf8Avt+dNooAd5j/AN9vzo8x/wC+3502igB3mP8A32/OjzH/AL7fnTaKAHeY/wDfb86PMf8Avt+dNooAd5j/AN9vzo8x/wC+3502igB3mP8A32/OpIHYzKCxI9zUNSW/+vX8f5UAXaKKKACiiigAooooAKKKKACobr/VD/eqaobr/VD/AHqAKlFFFABRRRQAUUUUAFN3oZDGGXeAGK55APQ4/A/lTqyLUXDaprQV4o7ktH5DuhcLH5Q2kqCMjf5nGR35oA1ZJEhiaSZ1jRRlmY4AHqTTqzIYtQitLr+3r2yuYTGf+PezaDaMHdndK+ePpU2i+d/YNh9q3ed9mj8zd13bRnPvmgB+oapYaTAs+qX1tZRM20SXMyxqT6ZYjng1Wl8TaFALcza1p0YuVDQF7uMeaucZXn5hn0pPEd2lroc++K5lMqmNFtraSdiSPRFJA9zxWXq91eX+o2I0bfEbiznBN1pk5UglCFLHaImO0/fB/wB05GT+vwGdRTXdIwC7KoJCjJxknoKg010k0y3Mcc0SiMKEnQq644wwPfj6HqOKq6ln+1NJ3f6r7Q+f9/yn2/1/HFN7krVXJzq+mjVBpp1C1+3kbha+cvm4xnOzOenPSpLe/s7uaeK0u4J5LdtkyRSBmib0YDofY1iPJPF4qK2smqq00qmS3e0U2rJtAMnmhODheF3g5H3cGqmkWmoWPjy+SVp2tZozIDGkgh65A+cOAQWb7kq5PPlj71JajZ1kciTRrJE6ujDKspyCPrTqzNC/49bnbny/tk/l59PMOce27dWnR0DqFFFFABRRRQAUUUUAFFFFABRRRQAUUUUAFFFFABRRRQAUUUyX/Uv977p+5978Pek9ENbj6p6jrGmaQqNq2o2lishIQ3M6xhiOuNxGag8N/wDIt2P/ACEf9UP+Qp/x8/8AbT/aqt4jlukm0tdPYxztd8StYS3UaAxuuWEZG0ZYDJYAdexpvR2EtVc2BcQtAkyyoYpNpRww2tu6YPfORj61JXB67FctoOnQtov23yZmjnS7tI54llZgoIjeSIMGLna6n5RkEcnHb2yslpCskaRuqKGSP7qnHQe1PpcOxLRRRSApw6vptzqMthb6hay3sIJltknVpEHHJUHI6jr60Wmr6bqFxPb2GoWt1NbnE0cM6u0RzjDAHI5BHPpWPp8k6eI5IbeXVfKMkjT211aKsEQOSGjlCDcSxGBvbhjkAjg0GWddTliSXVTbKjtLDqFosS277gQsbhFDjluQzjgfNzyLoHc6NmVFLOQqqMkk4AFVotU0+4006jBfW0tkFLG5SZTGAOp3A4wMHP0qiL5Nb8MC9ggmWCYCQRyRhmkjDZOFBOQyjgdww+lVxKtxZ3WoJb3ItWuo5vLe0kEjhAgLeUV35yvA25O3IzkUDNy3uYLu2juLSaOeGRQySxMGVx6gjgipKz9HO+1lnSOSKKeZpY45Y2jYA9yrAEEnLYIzzzWhQIKKKKACiiigAooooAKKKKACiiigAooooAKKKKACiiigAooooAKKKKACiiigAooooAKKKKACiiigAooooAKKKKACiiigAooooAKKKKACiiigAooooAKKKKACiiigAqS3/wBev4/yqOpLf/Xr+P8AKgC7RRRQAUUUUAFFFFABRRRQAVDdf6of71TVDdf6of71AFSiiigAooooAKKKKACm7EEhkCrvIClsckDoM/ifzp1ZdvdzPqGruI5pfsjJDHAhA34jEmV3EDJ8zHJA+Uc0DNKSNJomjmRZEYYZWGQR6EU6syG7udTtLqK40y+0r92Qsk8sOTkHlTHI2CPfFWNJunvtGsruQAPPAkjAdMlQT/OgRborL8R2iXWhz75bmIxKZEa2uZIGBA9UYEj2PFZWpWrWOrQLDc3pslsXS5iN5KSY94HmBi24Ouc7gc4yOeMK/wDXyDpc6mmuiSAB1VgCGGRnBHQ1xlza3kujWEttdTzpb6eksqpq0sM8RILGTowmJwcCUhcr6E4t6nb3UuqC6iuZpLSAxI7W+pPFLb5xlTCFKSEhgSXIbDfLyFzTVnYOh1VFFZy3EkviaW3y6x29oj4/hcyOw/MeX/49SDpcvxxpDGscSKiKMKqjAA+lOprqXjZVZkJBAZcZX3GeKxbVJLbw7NDDPcNsuJIhLLM0kir5xUnexJyAc89MUDNyiuT1eG4tPDOq2uny30q2silGFw8kqrhXYF2lRyOSf9YDg4GQMVPb6jdy+D7a9mPlXMEkYcB5Bvw4VgwkRGyRngrwSOvBoFsdLRRRQAUUUUAFFFFABRRRQAUUUUAFFFFABRRRQAUUU2QlYmKlQQCQW6D60PQB1FUNEup73Q7S4vJ7K4nkjDPLYOWgY+qE8kVn+KojIunbYNSuc3BUw6dem3dx5bnkiSMEAqDyfpQ9AWpv0Vw+ta+tj4e0kT6tPaNPubdBcW6TNsI+UvckIdpIDA/MT7bq7O2k820hkBc7kVsyDDHI7jsaA7EtFFZiwmLxKZPPncT27ExvKSi7WUDavQdTzjJzyeBg62DoadIQGUhgCCMEHvWbYwm313UF8+4lEkcUuJZSwUlpBhR0UYVRgAdMnJyTW0pHivoJTPcO97bvNcRyzs6o4KY2gnCAbiMLgHHOSM0eQG1HGkMSRxIscaKFVFGAoHQAdhTqz7q8jutIebTrlJUdvL86CQHb8+1iDyMrz9CKoLA0FpdadFcXRt1uo4RI1y7SorhSy+YxL/xdc5G7gjAwdQ2N+iqGkKYraWDzJJY4JmjjklkLsVHYseWwcrk5PHOTV+gAooooAKKKKACiiigAooooAKKKKACiiigAooooAKKKKACiiigAooooAKKKKACiiigAooooAKKKKACiiigAooooAKKKKACiiigAooooAKKKKACiiigAooooAKKKKACpLf8A16/j/Ko6kt/9ev4/yoAu0UUUAFFFFABRRRQAUUUUAFQ3X+qH+9U1Q3X+qH+9QBUooooAKKKKACiiigAqFLVI7yW5XcHmVVcZ4O3OD9ecfgKlOdp2kA44JGa5HSvEGsTx3NxdT2k8dqMSRDTZrUlzkLtd5G3LkdQuMHgnFAHV3MIubWWAu8YkQoWQ4YZGMj3p0caRRLHGoVEUKqjsB0Fc5BqGsT3V1psOs+H5tQhCsRHG++EZG4PD5hPA6HcMlhwMclrqWvDwv/aF01nPLNHFJEbWzlPlK2NxMQdmk25zhSCfajpcOpt6hpdhq0CwapY217ErbhHcwrIoPrhgeeTUUOh6TbzRTQaXZRSwReTE6W6Bo05+RSBwvJ4HHNR6De3N/p5mu5IJH8wqDFDJCcAD70cnzI2c/Kc4GOTVjVLw2GnSToFMmVjiDngu7BVB9tzCgFqRXHh/RruWCS60mxnkt1CwvJbIxiA6BSRwB7U6XQ9Jn1JdRm0uzkvUIK3L26GRSOhDYzTbye9h1OwWI24tJZDHMGRjIx2MRtOQFxt77s57YyVknvU1yGImAWckTYXaTIXGOd2cAc4xg+ue1AeRfqE2qG+S6+YSLGY+DwwJB5+mOPqawrXxHLJ40vNIk2SQRgBDbxGQxtgHEjI7bM/N99Y+nBatezu3nury3mUB7eUKCoIDIyhgf1I/CjswfYtOiyxskiq6MCGVhkEHsRVGy0DR9Ninj07SbG0juF2zJBbIglHPDADkcnr6mtCigCtbadZWVj9is7O3t7TBHkRRKseD1+UDHOTUY0myjsoLO2gS2tYJFkSCBAiZVtwGAOm7B47irtFABRRRQAUUUUAFFFFABRRRQAUUUUAFFFFABRRRQAUhAZSGAIIwQe9LSO2xGbBbAzgDk0MCO2toLK2jt7OCO3gjG1IokCqo9ABwKjutNsb6WCS9s7e5kt38yFpolcxN/eUkcHgcik029/tLTYLz7NcWnnJu8i6j2Sp7MvY1m+JtUn0qKzkj1PTdMilmMUk+oxFkHyMwwfMTByuOveh6MFrsajafaPGyfZ0VXmWdgg27pAwYMcdTlR9cVYrnNR8ST2GhWV439nwyXDANLqFybWDA9GKsQWAyoI6ZyeOegicyQo525ZQTsbcPwPce9AD6oNoWkPqg1J9KsmvwQRdG3QyggYB34z0461fqgk96NdeCYwfZWhLxKineCCoJZs453dAOMdTnAOodAh0HSLbUm1C30qyivXLFrmO3RZGJ6ksBnnvUlvpdhZzXM1lZ29rNdHdPLBEqPK3PLEDk8nk+tVIbrUE142t1LZyRSI0iQwxsJIFBwGZixDbv91cHON2Cam0ue9lkvY9RNuXhn2oIEYBUKKwBJJ3EZ64GfQUboCWy0y1sdIi0yOPfbRRCHbIA29cYO71z39cmkj0jTYdMOmxafax2LAqbVYFERB5I2Yxz9KkvrhrWzeSMKZMhUDZxuYhVzjtkis5b3UY7KaCeS1fUEmWFJlhZYm34IbZuJ4BPy7udvUZ4HqBqW1tBZW0dvZwR28EY2pFEgVVHoAOBUtU9Nnnmt3S9MbXMEhjlaJSqMRgggEkjIIOMnHTJ61coAKKKKACiiigAooooAKKKKACiiigAooooAKKKKACiiigAooooAKKKKACiiigAooooAKKKKACiiigAooooAKKKKACiiigAooooAKKKKACiiigAooooAKKKKACiiigAqS3/ANev4/yqOpLf/Xr+P8qALtFFFABRRRQAUUUUAFFFFABUN1/qh/vVNUN1/qh/vUAVKKKKACiiigAooooAQjKkAkcdR2rNstG+y6TJp9zf3V9G4Kh5/LVkBHQGNF+ueue9X7ib7PayzeXJL5aF/LiXLPgZwB3JrL0vX5NSvJLeXRtRsRGG3S3PklAw25XKSNg4YHn0PpQA+20WWBZ2l1i+ubiWPy0uZVgDwj/ZCxhTzz8ymmw6C9vokGnRaxqCm3I8u5BiEgAGApAj2EfVT71J/wAJJoh0ufUk1exeytztluI7hWRD6Eg9eRx15FPj1/R5dMk1GLVrF7GM7XuluUMSHjgvnAPI/MUATafY/YLdke5mu5XcvJPOEDyHpkhFVeAAOAOlJqlmb/TpIEKiTKyRFxwHRgyk+25RUdzq8MWlpqFpG2oWz4YPaOjDYf48lgCo9iT6A1foBGZqmkTalNbyR6te2HkHcFtlhILYIyfMjY9CR2FF3pE11qsF6mr31uIRgW8SwmNvXO6MtzjBww9sU7V9dsNFiBu54/PdWaG185Flnx1CB2G4/jUravp0eoxafJf2qXsq7o7VplErjnkJnJ6H8jQgfmQXOhW114gtdYkdxPaoURQqEEHPcqWHU8KwB4yDip7O0eC6vLiZgXuJQwCkkKgUKB+hP41crN/t+wfWE023mjuLjcySiGWNjbsFLASLu3DIBxwenOKPIPM0qKqWOradqYlOm6ha3YhO2X7PMsnln0ODx+NMtNb0rULeaew1OzuoYBmWSG4R1j7/ADEHj8aAL1FUItc0mfT5L6HVLKSzjGXuEuEMajOMls4HINJL4g0aGyivJtWsY7WYExTvcoEkA6kNnB/CgDQorMvvEmiaYts+oatZWyXY3QPLcKqyDGcgk4xjv05HqKmn1nS7VrUXOpWkJvMfZhJOq+fnGNmT83UdPUUAXaKp3GsabaX0VldajaQXcw3R28k6rI49QpOT0P5VcoAKKKKACiiigAooooAKKKKACiiigApHXejLkrkYyDyKWkJCqSxAAGST2oYFbTbL+zdNgs/tNxd+Sm3z7qTfK/uzdzTL7TmvbizlW9uLb7LL5u2EIRJwRhtyk4wSOMHnr0qxbXUF7bR3FnPHcQSDcksThlYeoI4NVNU1STTTbrFpt3fvcOUVbZogQQpbnzHUdAfyoe4IpXfhS1ubeGNbu9hNvITC0N1JEY4yyloh5bKSpC4Gc47dAK24o0hiSKJQiIoVVHQAdBWbc6/aWunwXUsV03nttWCC2eaUHOGyiAnC9z0+uRnTRg8auuQGGRuUg/keRR0sAtZj6RM+uLqP9r3qqo2i0Cw+Vt4yM+Xv5IB+9n8OK06px6gJNWksfs06FE3iZ1AR+mQvOTjI5xjngnBwdQ6FHTfDn9m6lNdrq2oTiaVpXhm8razNwMssYchRwAWIAAHYVNY6RPY3tzcnV7y78/JMNwsIRWwACNkatwAB1P4nmpY9UM2qNaQWV1LEhKyXYCCFGH8PLBmPbKqQDwTkHBp2pyajJNnTrq2iRiEmmaLbNgkZUK7MOn8QFAdSPTtLmg8OxWF9dyzXHl/vbjzC7eYeSyls8Bj8oPQADFLHo5TTpbdtQupJ5X8xrxhH5u4YwwAQJwFAxtxxyDk1duZ1tbZ5pAxVBnCjJPsB3J6YqlHrIfTZbmSxuopon8trNghl3nG1flYpzkHO7AzyRg4ALVjafYrURedJcPks80u3fIx6k7QB+QAqxVexvBfWom8qSBslXhlxvjYdVOCR+IJB6gkVYoAKKKKACiiigAooooAKKKKACiiigAooooAKKKKACiiigAooooAKKKKACiiigAooooAKKKKACiiigAooooAKKKKACiiigAooooAKKKKACiiigAooooAKKKKACiiigAqS3/16/j/Ko6kt/wDXr+P8qALtFFFABRRRQAUUUUAFFFFABUN1/qh/vVNUN1/qh/vUAVKKKKACiiigAooooAKwbfTtTuLLV7bU7eyhW8dmi8q4aYMCu0hwY1wOB0znJH13qqWmradfzywWN/a3MsLFZY4ZldoyDgggHgg+tHUDOSw1G9jvpNRtrKznntfsyC2uGmDD5sFmMaHgscDBxk+tJeWut6horxzxWkVwZFIt4L2VFKDt56oHU55yqDGMd81s3FxDaW8lxdSxwwxKWkkkYKqAdSSeAKSO5gmtVuYZo5Ld0Eiyq4KspGdwPTGOc0MDnLfS9bs/CkmnQW1jJcSSy/63UZmVUdi2TI0bMzAtjnrjORnA6K0a5e1Rr6KKG4I+eOGUyKPoxVSfyFOt7iK6t457dt8Ui7kbBG4djzTnkSMAyOqBmCjccZJ6D60xeZga/pOo3sd/BYW+nzRajb+TLJdyMpiwCBhQh3jnOCVwc+vFO48M3U+sC6ls4545pYZ5h/bV1CsToEHESrskwUBBO3PAIGM11tFJaDCuWfQ9Umms7eS309LSz8yNbhJ3850eNkLbfLwrcgkbjk9xit221jTLy+msrPUbSe6gz5sEU6tJHg4O5QcjnjmrQkRpGjV1LoAWUHkZ6ZH4UrX3DY5bS/D17YreE2VuJjaNBBJNrF1dK/orJIvyKSBnaSR05pdP8OXkFpetLDBHPN5Jjik1Ca8DmNiwDSyqHCknG0AheSMkkV1VFO4GC1lqs0TXcthpcd6sySrAkzlJNqlcvN5eSQDkfJwVHXPCR6dqTXFncT2lgr/bWuZ41uGZYv3RjGwmMbic5OQvU9a3Y5EmiWSF1kjcBldTkMPUGmQXUF0rNazxzKjmNjG4YKwOCpx0IPUUAYkNjrEGj2W22sWvrW4eTyTduIirbwB5nl5GA4/h7U69sNVd5TFaabdm9tlgumnlaMLjdnaux96/OTtJHfnnjeooBabHL33h+9u9bhcwwNaxvCwnOoTBiEIPz2+3y5GyDhicjIPVRXUUUUAFFFFABRRRQAUUUUAFFFFABRRRQAU2QFomChSSCAG6H606ih6gUNEtp7LQ7S3vILK3njjCvFYIVgU+iA8gVW8QaZc6o1hHCgMMVx5k7LfS2sirtZflaMZJ+bOMqDjGeeNiqeo6xpmkKjatqNpYrISENzOsYYjrjcRmhvXUFpsc9qnh7WJ9Ks7WzuoIfsknljy/NVpIyygOWjkiZWC7iVBKsffGOqhjMVvHG0jSMihS7dWwOp96QXELQJMsqGKTaUcMNrbumD3zkY+tSU/IArJkTVz4kjmS0sjYLGYzKbtxLg7STs8rHUYxu989q1qrHUbIakNPN5bi9KeYLYyr5hX+9tznHvS63DoYlh4bew8RyXkdva7Xmlma+MjG4kD5PklduNgJyPmx8o+XPNP0jRprDV572XTtLs8o4kk05SHvGLA73XaNpGDgbnOWPzeuxHqNlLfy2MV5bvdwqGlt1lUyID0JXOQOR19aZaavpuoXE9vYaha3U1ucTRwzq7RHOMMAcjkEc+lAd7lW0Goal4Zhk1GKKK+kUTeThkVGDb0Vs5IIwob3zx2pi2eoyWU1xPBarqDzLMkC3DGIbQAFMmwHnBOdnGehxzsMyopZyFVRkknAAqtFqmn3GmnUYL62lsgpY3KTKYwB1O4HGBg5+lHmHkN02CeK3d71Y0uZpDJKkTl0U8AAMQCcADnAz6VcqO3uYLu2juLSaOeGRQySxMGVx6gjgipKACiiigAooooAKKKKACiiigAooooAKKKKACiiigAooooAKKKKACiiigAooooAKKKKACiiigAooooAKKKKACiiigAooooAKKKKACiiigAooooAKKKKACiiigAooooAKkt/9ev4/wAqjqS3/wBev4/yoAu0UUUAFFFFABRRRQAUUUUAFQ3X+qH+9U1RzRmRAFx1zzQBSoqb7K/qv50fZX9V/OgCGipvsr+q/nR9lf1X86AIaKm+yv6r+dH2V/VfzoArTMFgdirOApJVRktx0HvXJaWxjW5bT49Sult7F0jS+0828kGMbIo38tCwODn75yqnPr232V/Vfzo+yv6r+dAHFeFbybT7W/F9LqV1BEEkjeTTrwMc5DBVmaSRjkDjPuAByXS3rXfgZIraLUbd0EUUrGyuo5IsYJIRNkjjjHyHv1xmuz+yv6r+dH2V/VfzoeoLQ4EXFwfB1oLybXEuob0Is1tZ3Ql2CTqUO9mXyj/y03c9fmHGhfzWmnWelSRHXZdkgki2xXkreWWG4ShQSeDwJMn0rrvsr+q/nR9lf1X86dwOR1qVJrxZJn1tN8CtYixiuAFc5yZAi4znbxL8uO33q6aLf5KedjzNo3beme+KsfZX9V/Oj7K/qv50gOVTXI7fxBfRLZalI8s0USH+zrgRn+Fj5mzbgcnOcHHWizv0XWNTtbBNU82YFomu7a6MIlG7dteRdqr93ABCntXVfZX9V/Oj7K/qv50ugzgYYVvLyeLT5/EARtPmbZdy3MOZ8pyu/a2ee3yD+HGTm9bahDdXmqyTQ65HZS2kLfNb3aMWBdX8tQNyH7nCgE9eetdP/YVn/aX9o/Y7X7ds2favKHm7fTfjOParP2V/Vfzp9Bf1+X+Rx8d6LrwrZh11hYYSkd7i3uY7kjZ2+USt823LLk9eetU7dl/s+Vboa8un/a3JKw3K3LqUXy8lB5pXGcn72QA5zurvPsr+q/nR9lf1X86P6/IDK0UyHSYjKZyMt5ZuARJ5e47NwbDZ24+9z685q/U32V/Vfzo+yv6r+dAENFTfZX9V/Oj7K/qv50AQ0VN9lf1X86Psr+q/nQBDRU32V/Vfzo+yv6r+dAENFTfZX9V/Oj7K/qv50AQ0VN9lf1X86Psr+q/nQBDRU32V/Vfzo+yv6r+dAENMl/1L/e+6fufe/D3qz9lf1X86Psr+q/nSeqGtzG8N/wDIt2P/ACEf9UP+Qp/x8/8AbT/aqt4jlukm0tdPYxztd8StYS3UaAxuuWEZG0ZYDJYAdexrovsr+q/nR9lf1X86p6sS0R57rsVy2g6dC2i/bfJmaOdLu0jniWVmCgiN5IgwYudrqflGQRycdvbKyWkKyRpG6ooZI/uqcdB7Vb+yv6r+dH2V/VfzpdAIa5e7iuZPFK21lPIsRuY7qZW02TAKqAcXJwmCoA2gFskjOM4677K/qv50fZX9V/OjrcOljl7YrJ4nX7Lb3sSwmTzYJbTyoYy2SZFkCgOzHGQGbrkgEGm6DLOupyxJLqptlR2lh1C0WJbd9wIWNwihxy3IZxwPm556r7K/qv50G0ZlIbaQRgg96AMEXya34YF7BBMsEwEgjkjDNJGGycKCchlHA7hh9KriVbizutQS3uRatdRzeW9pIJHCBAW8orvzleBtyduRnIrpI7HyYkjiWOONFCqijAUDoAOwp32V/Vfzo66B0MnRzvtZZ0jkiinmaWOOWNo2APcqwBBJy2CM881oVN9lf1X86Psr+q/nQBDRU32V/Vfzo+yv6r+dAENFTfZX9V/Oj7K/qv50AQ0VN9lf1X86Psr+q/nQBDRU32V/Vfzo+yv6r+dAENFTfZX9V/Oj7K/qv50AQ0VN9lf1X86Psr+q/nQBDRU32V/Vfzo+yv6r+dAENFTfZX9V/Oj7K/qv50AQ0VN9lf1X86Psr+q/nQBDRU32V/Vfzo+yv6r+dAENFTfZX9V/Oj7K/qv50AQ0VN9lf1X86Psr+q/nQBDRU32V/Vfzo+yv6r+dAENFTfZX9V/Oj7K/qv50AQ0VN9lf1X86Psr+q/nQBDRU32V/Vfzo+yv6r+dAENFTfZX9V/Oj7K/qv50AQ0VN9lf1X86Psr+q/nQBDRU32V/Vfzo+yv6r+dAENFTfZX9V/Oj7K/qv50AQ0VN9lf1X86Psr+q/nQBDRU32V/Vfzo+yv6r+dAENFTfZX9V/Oj7K/qv50AQ1Jb/69fx/lTvsr+q/nT4rdkkDEjA9KALFFFFABRRRQAUUUUAFFFFABRRRQAUUUUAFFFFABRRRQAUUUUAFFFFABRRRQAUUUUAFFFFABRRRQAUUUUAFFFFABRRRQAUUUUAFFFFABRRRQAUUUUAFFFFABRRRQAUUUUAFFFFABRRRQAUUUUAFFFFABRRRQAUUUUAFFFFABRRRQAUUUUAFFFFABRRRQAUUUUAFFFFABRRRQAUUUUAFFFFABRRRQAUUUUAFFFFABRRRQAUUUUAFFFFABRRRQAUUUUAFFFFABRRRQAUUUUAFFFFABRRRQAUUUUAf/9k=)"
      ]
    },
    {
      "cell_type": "code",
      "metadata": {
        "colab": {
          "base_uri": "https://localhost:8080/"
        },
        "id": "1pzsUjPFVyuE",
        "outputId": "765efddc-8329-4339-b915-bfda1e18bc77"
      },
      "source": [
        "horastrabalhadas = float(input(\"Digite a quantidade de horas trabalhadas: \"))\n",
        "valorhora = float(input(\"Digite valor, em reais, da hora do colaborador: \"))\n",
        "salario = horastrabalhadas*valorhora\n",
        "\n",
        "if salario <= 900:\n",
        "  print(f\"\\nSalário Bruto ({horastrabalhadas:.0f}, {valorhora:.0f}): R$ {salario:.2f}.\")\n",
        "  print(f\"(-) IR (isento): R$ {salario*0.00:.2f}.\")\n",
        "  print(f\"(-) INSS (10%): R$: {salario*0.10:.2f}.\")\n",
        "  print(f\"(-) Sindicato (5%): R$ {salario*0.05:.2f}.\")\n",
        "  print(f\"FGTS (11%): R$ {salario*0.11:.2f}.\")\n",
        "  print(f\"Total de descontos: R$ {-(salario*0.00-salario*0.10-salario*0.05):.2f}.\")\n",
        "  print(f\"Salário Líquido: R$ {salario-salario*0.00-salario*0.05-salario*0.10:.2f}.\")\n",
        "\n",
        "elif salario > 900 and salario <= 1500:\n",
        "  print(f\"\\nSalário Bruto ({horastrabalhadas:.0f}*{valorhora:.0f}): R$ {salario:.2f}.\")\n",
        "  print(f\"(-) IR (5%): R$ {salario*0.05:.2f}.\")\n",
        "  print(f\"(-) INSS (10%): R$: {salario*0.10:.2f}.\")\n",
        "  print(f\"(-) Sindicato (5%): R$ {salario*0.05:.2f}.\")\n",
        "  print(f\"FGTS (11%): R$ {salario*0.11:.2f}.\")\n",
        "  print(f\"Total de descontos: R$ {salario*0.05+salario*0.10+salario*0.05:.2f}.\")\n",
        "  print(f\"Salário Líquido: R$ {salario-salario*0.05-salario*0.05-salario*0.10:.2f}.\")\n",
        "\n",
        "\n",
        "elif salario > 1500 and salario <= 2500:\n",
        "  print(f\"\\nSalário Bruto ({horastrabalhadas:.0f}*{valorhora:.0f}): R$ {salario:.2f}.\")\n",
        "  print(f\"(-) IR (10%): R$ {salario*0.10:.2f}.\")\n",
        "  print(f\"(-) INSS (10%): R$: {salario*0.10:.2f}.\")\n",
        "  print(f\"(-) Sindicato (5%): R$ {salario*0.05:.2f}.\")\n",
        "  print(f\"FGTS (11%): R$ {salario*0.11:.2f}.\")\n",
        "  print(f\"Total de descontos: R$ {salario*0.10+salario*0.10+salario*0.05:.2f}.\")\n",
        "  print(f\"Salário Líquido: R$ {salario-salario*0.10-salario*0.05-salario*0.10:.2f}.\")\n",
        "\n",
        "else:\n",
        "  print(f\"\\nSalário Bruto ({horastrabalhadas:.0f}*{valorhora:.0f}): R$ {salario:.2f}.\")\n",
        "  print(f\"(-) IR (20%): R$ {salario*0.20:.2f}.\")\n",
        "  print(f\"(-) INSS (10%): R$: {salario*0.10:.2f}.\")\n",
        "  print(f\"(-) Sindicato (5%): R$ {salario*0.05:.2f}.\")\n",
        "  print(f\"FGTS (11%): R$ {salario*0.11:.2f}.\")\n",
        "  print(f\"Total de descontos: R$ {salario*0.20+salario*0.10+salario*0.05:.2f}.\")\n",
        "  print(f\"Salário Líquido: R$ {salario-salario*0.20-salario*0.05-salario*0.10:.2f}.\")"
      ],
      "execution_count": null,
      "outputs": [
        {
          "name": "stdout",
          "output_type": "stream",
          "text": [
            "Digite a quantidade de horas trabalhadas: 1\n",
            "Digite valor, em reais, da hora do colaborador: 3000\n",
            "\n",
            "Salário Bruto (1*3000): R$ 3000.00.\n",
            "(-) IR (20%): R$ 600.00.\n",
            "(-) INSS (10%): R$: 300.00.\n",
            "(-) Sindicato (5%): R$ 150.00.\n",
            "FGTS (11%): R$ 330.00.\n",
            "Total de descontos: R$ 1050.00.\n",
            "Salário Líquido: R$ 1950.00.\n"
          ]
        }
      ]
    },
    {
      "cell_type": "markdown",
      "metadata": {
        "id": "23gfQ51a4Qfe"
      },
      "source": [
        "13. Faça um Programa que leia um número e exiba o dia correspondente da semana. (1-Domingo, 2- Segunda, etc.), se digitar outro valor deve aparecer valor inválido."
      ]
    },
    {
      "cell_type": "code",
      "metadata": {
        "colab": {
          "base_uri": "https://localhost:8080/"
        },
        "id": "e5R9h7wnvBVv",
        "outputId": "a016e4c6-df28-40c8-e090-417101767a14"
      },
      "source": [
        "dia_semana= int(input(\"Digite o dia da semana: \"))\n",
        "\n",
        "if dia_semana == 1:\n",
        "  print(\"Hoje é Domingo.\")\n",
        "elif dia_semana == 2:\n",
        "  print(\"Hoje é Segunda-feira.\")\n",
        "elif dia_semana == 3:\n",
        "  print(\"Hoje é Terça-feira.\")\n",
        "elif dia_semana == 4:\n",
        "  print(\"Hoje é Quarta-feira.\")\n",
        "elif dia_semana == 5:\n",
        "  print(\"Hoje é Quinta-feira.\")\n",
        "elif dia_semana == 6:\n",
        "  print(\"Hoje é Sexta-feira.\")\n",
        "elif dia_semana == 7:\n",
        "  print(\"Hoje é Sábado.\")\n",
        "else:\n",
        "  print(\"Dia inválido!\")"
      ],
      "execution_count": null,
      "outputs": [
        {
          "name": "stdout",
          "output_type": "stream",
          "text": [
            "Digite o dia da semana: 8\n",
            "Dia inválido!\n"
          ]
        }
      ]
    },
    {
      "cell_type": "markdown",
      "metadata": {
        "id": "N13gLt0U4UTX"
      },
      "source": [
        "14. Faça um programa que lê as duas notas parciais obtidas por um aluno numa disciplina ao longo de um semestre, e calcule a sua média. A atribuição de conceitos obedece à tabela abaixo:\n",
        "\n",
        "Média de Aproveitamento  Conceito\n",
        "- Entre 9.0 e 10.0        A\n",
        "- Entre 7.5 e 9.0         B\n",
        "- Entre 6.0 e 7.5         C\n",
        "- Entre 4.0 e 6.0         D\n",
        "- Entre 4.0 e zero        E\n",
        "\n",
        "O algoritmo deve mostrar na tela as notas, a média, o conceito correspondente e a mensagem “APROVADO” se o conceito for A, B ou C ou “REPROVADO” se o conceito for D ou E."
      ]
    },
    {
      "cell_type": "code",
      "metadata": {
        "colab": {
          "base_uri": "https://localhost:8080/"
        },
        "id": "WDSO-z2UYffo",
        "outputId": "8ce63786-da40-4fb0-bf91-b711098980ac"
      },
      "source": [
        "nota1 = float(input(\"Digite a primeira nota: \"))\n",
        "nota2 = float(input(\"Digite a segunda nota: \"))\n",
        "media = (nota1+nota2)/2\n",
        "\n",
        "\n",
        "if media >= 9 and media <= 10:\n",
        "  print(\"APROVADO: CONCEITO A.\")\n",
        "elif media >= 7.5 and media < 9:\n",
        "  print(\"APROVADO: CONCEITO B.\")\n",
        "elif media >= 6 and media < 7.5:\n",
        "  print(\"APROVADO: CONCEITO C.\")\n",
        "elif media >= 4 and media < 6:\n",
        "  print(\"REPROVADO: CONCEITO D.\")\n",
        "elif media >= 0 and media < 4:\n",
        "  print(\"REPROVADO: CONCEITO E.\")\n",
        "else:\n",
        "  print(\"Nota inválida!\")"
      ],
      "execution_count": null,
      "outputs": [
        {
          "name": "stdout",
          "output_type": "stream",
          "text": [
            "Digite a primeira nota: 2.5\n",
            "Digite a segunda nota: 3.1\n",
            "REPROVADO: CONCEITO E.\n"
          ]
        }
      ]
    },
    {
      "cell_type": "markdown",
      "metadata": {
        "id": "gFuEdE8N4UcC"
      },
      "source": [
        "15. Faça um Programa que peça os 3 lados de um triângulo. O programa deverá informar se os valores podem ser um triângulo. Indique, caso os lados formem um triângulo, se o mesmo é: equilátero, isósceles ou escaleno.\n",
        "Dicas:\n",
        "Três lados formam um triângulo quando a soma de quaisquer dois lados for maior que o terceiro;\n",
        "- Triângulo Equilátero: três lados iguais;\n",
        "- Triângulo Isósceles: quaisquer dois lados iguais;\n",
        "- Triângulo Escaleno: três lados diferentes;"
      ]
    },
    {
      "cell_type": "code",
      "metadata": {
        "colab": {
          "base_uri": "https://localhost:8080/"
        },
        "id": "ouv8fq0TagWU",
        "outputId": "54af8ee2-b10d-443d-a26c-a04ea274b283"
      },
      "source": [
        "lado1 = float(input(\"Digite o primeiro lado do triângulo: \"))\n",
        "lado2 = float(input(\"Digite o segundo lado do triângulo: \"))\n",
        "lado3 = float(input(\"Digite o terceiro lado do triângulo: \"))\n",
        "\n",
        "if (lado1 > (lado2 + lado3)) or (lado2 > (lado1 + lado3)) or (lado3 > (lado1 + lado2)):\n",
        "  print(\"Não se trata de um triângulo!\")\n",
        "else: \n",
        "  if lado1 == lado2 and lado2 == lado3:\n",
        "    print(\"Triângulo Equilátero!\")\n",
        "  elif lado1 == lado2 or lado2 == lado3 or lado3 == lado1:\n",
        "    print(\"Triângulo Isósceles!\")\n",
        "  else:\n",
        "    print(\"Triângulo Escaleno!\")"
      ],
      "execution_count": null,
      "outputs": [
        {
          "name": "stdout",
          "output_type": "stream",
          "text": [
            "Digite o primeiro lado do triângulo: 1\n",
            "Digite o segundo lado do triângulo: 1\n",
            "Digite o terceiro lado do triângulo: 2\n",
            "Triângulo Isósceles!\n"
          ]
        }
      ]
    },
    {
      "cell_type": "markdown",
      "metadata": {
        "id": "KoBSaMT_4UlJ"
      },
      "source": [
        "16. Faça um programa que calcule as raízes de uma equação do segundo grau, na forma ax2 + bx + c. O programa deverá pedir os valores de a, b e c e fazer as consistências, informando ao usuário nas seguintes situações:\n",
        "\n",
        "- a. Se o usuário informar o valor de A igual a zero, a equação não é do segundo grau e o programa não deve fazer pedir os demais valores, sendo encerrado;\n",
        "- b. Se o delta calculado for negativo, a equação não possui raizes reais. Informe ao usuário e encerre o programa;\n",
        "- c. Se o delta calculado for igual a zero a equação possui apenas uma raiz real; informe-a ao usuário;\n",
        "- d. Se o delta for positivo, a equação possui duas raiz reais; informe-as ao usuário;"
      ]
    },
    {
      "cell_type": "code",
      "metadata": {
        "colab": {
          "background_save": true
        },
        "id": "HpS5YFxEjIIh",
        "outputId": "8dc84388-f9df-4c21-edd3-0e0259a18c6c"
      },
      "source": [
        "a = float(input(\"Digite o valor de 'a': \"))\n",
        "if a == 0:\n",
        "  print(\"Não se trata de uma equação de segundo grau. Programa encerrado!\")\n",
        "else:\n",
        "  b = float(input(\"Digite o valor de 'b': \"))\n",
        "  c = float(input(\"Digite o valor de 'c': \"))\n",
        "  \n",
        "  #Cálculo do Delta:\n",
        "  d = (b**2) - (4*a*c)\n",
        "  print(f\"O delta é: {d:.2f}.\")\n",
        "  \n",
        "  #Cálculo das raízes\n",
        "  x1 = ((-b+pow(d,0.5))/(2*a))\n",
        "  x2 = ((-b-pow(d,0.5)/(2*a))\n",
        "  \n",
        "  #Solução da equação:\n",
        "    if d < 0:\n",
        "      print(\"A equação nao possui raízes reais.\")\n",
        "    elif d == 0:\n",
        "      print(f\"A equação possui uma raiz real: {x1:.2f}.\")\n",
        "    else:\n",
        "      print(f\"A equação possui duas raízes reais: {x1:.2f} e {x2:.2f}.\")"
      ],
      "execution_count": null,
      "outputs": [
        {
          "ename": "SyntaxError",
          "evalue": "ignored",
          "output_type": "error",
          "traceback": [
            "\u001b[0;36m  File \u001b[0;32m\"<ipython-input-102-795510d4c2d3>\"\u001b[0;36m, line \u001b[0;32m17\u001b[0m\n\u001b[0;31m    if d < 0:\u001b[0m\n\u001b[0m            ^\u001b[0m\n\u001b[0;31mSyntaxError\u001b[0m\u001b[0;31m:\u001b[0m invalid syntax\n"
          ]
        }
      ]
    },
    {
      "cell_type": "code",
      "metadata": {
        "id": "XtfSewuWrzzl"
      },
      "source": [
        ""
      ],
      "execution_count": null,
      "outputs": []
    },
    {
      "cell_type": "code",
      "metadata": {
        "colab": {
          "base_uri": "https://localhost:8080/"
        },
        "id": "lW1Z-grg6F66",
        "outputId": "918b0844-d04e-47ff-9e36-bf7ccc2cc278"
      },
      "source": [
        "a = 23\n",
        "b = a + 7\n",
        "c = b + a\n",
        "c = c + b - a\n",
        "\n",
        "print(\" valor de c é:\", c)"
      ],
      "execution_count": null,
      "outputs": [
        {
          "name": "stdout",
          "output_type": "stream",
          "text": [
            " valor de c é: 60\n"
          ]
        }
      ]
    },
    {
      "cell_type": "markdown",
      "metadata": {
        "id": "pfANcHsN4UtQ"
      },
      "source": [
        "17. Faça um Programa que peça um número correspondente a um determinado ano e em seguida informe se este ano é ou não bissexto."
      ]
    },
    {
      "cell_type": "markdown",
      "metadata": {
        "id": "YwjSr-td4U2C"
      },
      "source": [
        "18. Faça um Programa que peça uma data no formato dd/mm/aaaa e determine se a mesma é uma data válida."
      ]
    },
    {
      "cell_type": "markdown",
      "metadata": {
        "id": "cDPyxoDt4U9z"
      },
      "source": [
        "19. Faça um Programa que leia um número inteiro menor que 1000 e imprima a quantidade de centenas, dezenas e unidades do mesmo.\n",
        "Observando os termos no plural a colocação do \"e\", da vírgula entre outros. Exemplo:\n",
        "- 326 = 3 centenas, 2 dezenas e 6 unidades\n",
        "- 12 = 1 dezena e 2 unidades Testar com: 326, 300, 100, 320, 310,305, 301, 101, 311, 111, 25, 20, 10, 21, 11, 1, 7 e 16"
      ]
    },
    {
      "cell_type": "markdown",
      "metadata": {
        "id": "W7m-O2IIsZRF"
      },
      "source": [
        "20. Faça um Programa para leitura de três notas parciais de um aluno. O programa deve calcular a média alcançada por aluno e presentar:\n",
        "- A mensagem \"Aprovado\", se a média for maior ou igual a 7, com a respectiva média alcançada;\n",
        "- A mensagem \"Reprovado\", se a média for menor do que 7, com a respectiva média alcançada;\n",
        "- A mensagem \"Aprovado com Distinção\", se a média for igual a 10."
      ]
    },
    {
      "cell_type": "code",
      "metadata": {
        "colab": {
          "base_uri": "https://localhost:8080/"
        },
        "id": "4PuZDDRSPAPf",
        "outputId": "2ffa5926-e17f-4eb0-eb6c-973bdb8537f0"
      },
      "source": [
        "ficha = list()\n",
        "while True:\n",
        "  nome = str(input(\"Digite o nome do Aluno: \"))\n",
        "  n1 = float(input(\"Digite a primeira nota: \"))\n",
        "  n2 = float(input(\"Digite a segunda nota: \"))\n",
        "  n3 = float(input(\"Digite a terceira nota: \"))\n",
        "  media = (n1+n2+n3)/3\n",
        "  situacao = str()\n",
        "  if media >= 7 and media < 10:\n",
        "    situacao = \"Aprovado\"\n",
        "  elif media == 10:\n",
        "    situacao = \"Aprovado com Distinção\"\n",
        "  else:\n",
        "    situacao = \"Reprovado\"\n",
        "\n",
        "  ficha.append([nome, [n1,n2,n3], media, situacao])\n",
        "  \n",
        "  resp = str(input(\"Quer continuar inserido notas? [S/N] \"))\n",
        "  if resp ==\"N\" or resp == \"n\":\n",
        "    break\n",
        "print('-=' * 50)\n",
        "print(f'{\"No.\":<4}{\"NOME\":<10}{\"MÉDIA\":>15}{\"SITUAÇÃO\":>20}')\n",
        "print('-=' * 50)\n",
        "for i, a in enumerate(ficha):\n",
        "  print(f'{i:<4}{a[0]:<10}{a[2]:>15.1f}{a[3]:>35}')"
      ],
      "execution_count": null,
      "outputs": [
        {
          "name": "stdout",
          "output_type": "stream",
          "text": [
            "Digite o nome do Aluno: pedro\n",
            "Digite a primeira nota: 10\n",
            "Digite a segunda nota: 10\n",
            "Digite a terceira nota: 10\n",
            "Quer continuar inserido notas? [S/N] s\n",
            "Digite o nome do Aluno: Melissa\n",
            "Digite a primeira nota: 8\n",
            "Digite a segunda nota: 9\n",
            "Digite a terceira nota: 7\n",
            "Quer continuar inserido notas? [S/N] s\n",
            "Digite o nome do Aluno: Nara\n",
            "Digite a primeira nota: 2\n",
            "Digite a segunda nota: 3\n",
            "Digite a terceira nota: 4\n",
            "Quer continuar inserido notas? [S/N] n\n",
            "-=-=-=-=-=-=-=-=-=-=-=-=-=-=-=-=-=-=-=-=-=-=-=-=-=-=-=-=-=-=-=-=-=-=-=-=-=-=-=-=-=-=-=-=-=-=-=-=-=-=\n",
            "No. NOME                MÉDIA            SITUAÇÃO\n",
            "-=-=-=-=-=-=-=-=-=-=-=-=-=-=-=-=-=-=-=-=-=-=-=-=-=-=-=-=-=-=-=-=-=-=-=-=-=-=-=-=-=-=-=-=-=-=-=-=-=-=\n",
            "0   pedro                10.0             Aprovado com Distinção\n",
            "1   Melissa               8.0                           Aprovado\n",
            "2   Nara                  3.0                          Reprovado\n"
          ]
        }
      ]
    },
    {
      "cell_type": "markdown",
      "metadata": {
        "id": "Oc-S7mjtsZZ6"
      },
      "source": [
        "21. Faça um Programa para um caixa eletrônico. O programa deverá perguntar ao usuário a valor do saque e depois informar quantas notas de cada valor serão fornecidas. As notas disponíveis serão as de 1, 5, 10, 50 e 100 reais. O valor mínimo é de 10 reais e o máximo de 600 reais. O programa não deve se preocupar com a quantidade de notas existentes na máquina.\n",
        "- Exemplo 1: Para sacar a quantia de 256 reais, o programa fornece duas notas de 100, uma nota de 50, uma nota de 5 e uma nota de 1;\n",
        "- Exemplo 2: Para sacar a quantia de 399 reais, o programa fornece três notas de 100, uma nota de 50, quatro notas de 10, uma nota de 5 e quatro notas de 1."
      ]
    },
    {
      "cell_type": "code",
      "metadata": {
        "colab": {
          "base_uri": "https://localhost:8080/"
        },
        "id": "MBZFNzX6l2Eb",
        "outputId": "8cfe1539-dbe3-4dd5-8e30-bc3ca35aa5dd"
      },
      "source": [
        "while True:\n",
        "  saque = int(input(\"Digite o valor a ser sacado: \"))\n",
        "  if saque < 10 or saque > 600:\n",
        "    print(\"O valor sacado não pode ser menor que R$ 10,00 e maior que R$ 600,00. Por favor, digite novamente!\")\n",
        "  else:\n",
        "    nota100 = saque // 100\n",
        "    nota50 = (saque % 100) // 50\n",
        "    nota10 = (saque % 50) // 10\n",
        "    nota5 = (saque % 10) // 5\n",
        "    nota1 = (saque % 5) // 1\n",
        "    print(f\"\\nValor total sacado: R$ {saque:.2f}.\")\n",
        "    print(\"\\nDescrição do quantitativo de notas sacadas:\")\n",
        "    print(f\"\\nQuantidade de notas de R$ 100: {nota100}.\")\n",
        "    print(f\"Quantidade de notas de R$ 50: {nota50}.\")\n",
        "    print(f\"Quantidade de notas de R$ 10: {nota10}.\")\n",
        "    print(f\"Quantidade de notas de R$ 5: {nota5}.\")\n",
        "    print(f\"Quantidade de notas de R$ 1: {nota1}.\")\n",
        "    print(f\"\\nObrigado! volte sempre!\")\n",
        "    break"
      ],
      "execution_count": null,
      "outputs": [
        {
          "name": "stdout",
          "output_type": "stream",
          "text": [
            "Digite o valor a ser sacado: 605\n",
            "O valor sacado não pode ser menor que R$ 10,00 e maior que R$ 600,00. Por favor, digite novamente!\n",
            "Digite o valor a ser sacado: 500\n",
            "\n",
            "Valor total sacado: R$ 500.00.\n",
            "\n",
            "Descrição do quantitativo de notas sacadas:\n",
            "\n",
            "Quantidade de notas de R$ 100: 5.\n",
            "Quantidade de notas de R$ 50: 0.\n",
            "Quantidade de notas de R$ 10: 0.\n",
            "Quantidade de notas de R$ 5: 0.\n",
            "Quantidade de notas de R$ 1: 0.\n",
            "\n",
            "Obrigado! volte sempre!\n"
          ]
        }
      ]
    },
    {
      "cell_type": "markdown",
      "metadata": {
        "id": "1w9uXCqNsZhj"
      },
      "source": [
        "22. Faça um Programa que peça um número inteiro e determine se ele é par ou impar. Dica: utilize o operador módulo (resto da divisão)."
      ]
    },
    {
      "cell_type": "code",
      "metadata": {
        "colab": {
          "base_uri": "https://localhost:8080/"
        },
        "id": "DHfPX_fBh5Ob",
        "outputId": "b1adaa1b-c46a-4e42-ade5-dc4f734c5418"
      },
      "source": [
        "numero =int(input(\"Digite um número: \"))\n",
        "if numero % 2 != 0:\n",
        "  print(\"O número digitado é ímpar!\")\n",
        "elif numero == 0:\n",
        "  print(\"O número digitado é nulo!\")\n",
        "else:\n",
        "  print(\"O número digitado é par!\")"
      ],
      "execution_count": null,
      "outputs": [
        {
          "name": "stdout",
          "output_type": "stream",
          "text": [
            "Digite um número: -13\n",
            "O número digitado é ímpar!\n"
          ]
        }
      ]
    },
    {
      "cell_type": "markdown",
      "metadata": {
        "id": "AHgHxCO3sZkq"
      },
      "source": [
        "23. Faça um Programa que peça um número e informe se o número é inteiro ou decimal. Dica: utilize uma função de arredondamento."
      ]
    },
    {
      "cell_type": "code",
      "metadata": {
        "colab": {
          "base_uri": "https://localhost:8080/"
        },
        "id": "jzyi85QManQ-",
        "outputId": "fcb1c86a-d366-450f-fdfe-28c9da7aab06"
      },
      "source": [
        "numero =float(input(\"Digite um número: \"))\n",
        "if numero == int(numero):\n",
        "  print(\"O número digitado é inteiro!\")\n",
        "else:\n",
        "  print(\"O número digitado é decimal!\")"
      ],
      "execution_count": null,
      "outputs": [
        {
          "name": "stdout",
          "output_type": "stream",
          "text": [
            "Digite um número: 2.5\n",
            "O número digitado é decimal!\n"
          ]
        }
      ]
    },
    {
      "cell_type": "markdown",
      "metadata": {
        "id": "PZtmxZaYsZnK"
      },
      "source": [
        "24. Faça um Programa que leia 2 números e em seguida pergunte ao usuário qual operação ele deseja realizar. O resultado da operação deve ser acompanhado de uma frase que diga se o número é:\n",
        "- par ou ímpar;\n",
        "- positivo ou negativo;\n",
        "- inteiro ou decimal."
      ]
    },
    {
      "cell_type": "code",
      "metadata": {
        "colab": {
          "base_uri": "https://localhost:8080/"
        },
        "id": "MX5RcR-zjjTa",
        "outputId": "0ffafde7-2639-43b6-b84c-fc6dc2f94f75"
      },
      "source": [
        "n1 = float(input(\"Digite o primeiro número: \"))\n",
        "n2 = float(input(\"Digite o segundo número: \"))\n",
        "op = str(input(\"Qual operação deseja realizar (So-Soma; Su-Subtração; D-Divisão; M-Multiplicação)?: \"))\n",
        "soma = n1 + n2\n",
        "subtração = n1 - n2\n",
        "divisão = n1/n2\n",
        "mult = n1*n2\n",
        "\n",
        "if op == \"So\":\n",
        "  op = soma\n",
        "elif op == \"Su\":\n",
        "  op = subtração\n",
        "elif op == \"D\":\n",
        "  op = divisão\n",
        "else:\n",
        "  op = mult\n",
        "\n",
        "#Verificação: par ou ímpar\n",
        "if op % 2 != 0:\n",
        "  print(\"O número digitado é ímpar!\")\n",
        "elif numero == 0:\n",
        "  print(\"O número digitado é nulo!\")\n",
        "else:\n",
        "  print(\"O número digitado é par!\")\n",
        "\n",
        "#Verificação: positivo ou negativo\n",
        "if op > 0:\n",
        "  print(\"O número digitado é positivo!\")\n",
        "elif numero == 0:\n",
        "  print(\"O número digitado é nulo!\")\n",
        "else:\n",
        "  print(\"O número digitado é negativo!\")\n",
        "\n",
        "#Verificação: inteiro ou decimal\n",
        "if op == int(op):\n",
        "  print(\"O número digitado é inteiro!\")\n",
        "else:\n",
        "  print(\"O número digitado é decimal!\")"
      ],
      "execution_count": null,
      "outputs": [
        {
          "output_type": "stream",
          "name": "stdout",
          "text": [
            "Digite o primeiro número: 1\n",
            "Digite o segundo número: 2\n",
            "Qual operação deseja realizar (So-Soma; Su-Subtração; D-Divisão; M-Multiplicação)?: So\n",
            "O número digitado é ímpar!\n",
            "O número digitado é positivo!\n",
            "O número digitado é inteiro!\n"
          ]
        }
      ]
    },
    {
      "cell_type": "markdown",
      "metadata": {
        "id": "ioV71mGrsZp3"
      },
      "source": [
        "25. Faça um programa que faça 5 perguntas para uma pessoa sobre um crime. As perguntas são:\n",
        "- \"Telefonou para a vítima?\"\n",
        "- \"Esteve no local do crime?\"\n",
        "- \"Mora perto da vítima?\"\n",
        "- \"Devia para a vítima?\"\n",
        "- \"Já trabalhou com a vítima?\" O programa deve no final emitir uma classificação sobre a participação da pessoa no crime. Se a pessoa responder positivamente a 2 questões ela deve ser classificada como \"Suspeita\", entre 3 e 4 como \"Cúmplice\" e 5 como \"Assassino\". Caso contrário, ele será classificado como \"Inocente\""
      ]
    },
    {
      "cell_type": "code",
      "metadata": {
        "colab": {
          "base_uri": "https://localhost:8080/"
        },
        "id": "CFqN191YF2Ok",
        "outputId": "20d1c033-d9f3-4bab-dd9a-431cce79ef26"
      },
      "source": [
        "q1 = int(input(\"Telefonou para a vítima? (1-Sim; 0-Não): \"))\n",
        "q2 = int(input(\"Esteve no local do crime? (1-Sim; 0-Não): \"))\n",
        "q3 = int(input(\"Mora perto da vítima? (1-Sim; 0-Não): \"))\n",
        "q4 = int(input(\"Devia para a vítima? (1-Sim; 0-Não): \"))\n",
        "q5 = int(input(\"Já trabalhou com a vítima? (1-Sim; 0-Não):\"))\n",
        "\n",
        "if q1+q2+q3+q4+q5 == 2:\n",
        "  print(\"\\nSuspeita!\")\n",
        "elif q1+q2+q3+q4+q5 >= 3 and q1+q2+q3+q4+q5 <= 4:\n",
        "  print(\"\\nCúmplice!\")\n",
        "elif q1+q2+q3+q4+q5 == 5:\n",
        "  print(\"\\nAssassino!\")\n",
        "else:\n",
        "  print(\"\\nInocente!\")"
      ],
      "execution_count": null,
      "outputs": [
        {
          "name": "stdout",
          "output_type": "stream",
          "text": [
            "Telefonou para a vítima? (1-Sim; 0-Não): 1\n",
            "Esteve no local do crime? (1-Sim; 0-Não): 1\n",
            "Mora perto da vítima? (1-Sim; 0-Não): 1\n",
            "Devia para a vítima? (1-Sim; 0-Não): 1\n",
            "Já trabalhou com a vítima? (1-Sim; 0-Não):1\n",
            "\n",
            "Assassino!\n"
          ]
        }
      ]
    },
    {
      "cell_type": "markdown",
      "metadata": {
        "id": "FMMVMJjvsZr3"
      },
      "source": [
        "26. Um posto está vendendo combustíveis com a seguinte tabela de descontos:\n",
        "- Álcool: até 20 litros, desconto de 3% por litro; acima de 20 litros, desconto de 5% por litro\n",
        "- Gasolina: até 20 litros, desconto de 4% por litro; acima de 20 litros, desconto de 6% por litro.\n",
        "\n",
        "Escreva um algoritmo que leia o número de litros vendidos, o tipo de combustível (codificado da seguinte forma: A-álcool, G-gasolina), calcule e imprima o valor a ser pago pelo cliente sabendo-se que o preço do litro da gasolina é R$ 2,50 o preço do litro do álcool é 1,90 reais."
      ]
    },
    {
      "cell_type": "code",
      "metadata": {
        "colab": {
          "base_uri": "https://localhost:8080/"
        },
        "id": "24baKM6GJiE2",
        "outputId": "6fbc12fd-f4cb-4e11-96ff-834fc04474f1"
      },
      "source": [
        "tipo_combustivel = str(input(\"Qual o combustível deseja para abastecer o seu carro? A-Álcool; G-Gasolina: \")).upper()\n",
        "if tipo_combustivel != \"A\" and tipo_combustivel !=  \"G\":\n",
        "  print(\"Dados inválidos. Favor repetir a operação!\")\n",
        "else:\n",
        "  qtde_litros = float(input(\"Qual a qtde de litros desejada: \"))\n",
        "\n",
        "if tipo_combustivel == \"A\" and qtde_litros <= 20:\n",
        "  print(f\"\\nTotal a pagar: R$ {qtde_litros*1.90*0.97:.2f}.\")\n",
        "elif tipo_combustivel == \"A\" and qtde_litros > 20:\n",
        "  print(f\"\\nTotal a pagar: R$ {qtde_litros*1.90*0.95:.2f}.\")\n",
        "elif tipo_combustivel == \"G\" and qtde_litros <= 20:\n",
        "  print(f\"\\nTotal a pagar: R$ {qtde_litros*2.50*0.96:.2f}.\")\n",
        "elif tipo_combustivel == \"G\" and qtde_litros > 20:\n",
        "  print(f\"\\nTotal a pagar: R$ {qtde_litros*2.50*0.94:.2f}.\")\n",
        "else:\n",
        "    print(\"\")"
      ],
      "execution_count": null,
      "outputs": [
        {
          "name": "stdout",
          "output_type": "stream",
          "text": [
            "Qual o combustível deseja para abastecer o seu carro? A-Álcool; G-Gasolina: a\n",
            "Qual a qtde de litros desejada: 20\n",
            "\n",
            "Total a pagar: R$ 36.86.\n"
          ]
        }
      ]
    },
    {
      "cell_type": "markdown",
      "metadata": {
        "id": "kr2XEDWGsZvo"
      },
      "source": [
        "![image.png](data:image/png;base64,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)"
      ]
    },
    {
      "cell_type": "code",
      "metadata": {
        "colab": {
          "base_uri": "https://localhost:8080/",
          "height": 130
        },
        "id": "ptBJkpnhQDPl",
        "outputId": "fe9076e2-1706-4d75-a2ab-b76e234dfd55"
      },
      "source": [
        "qtde_maca = float(input(\"Digite a quantidade de maçã desejada (em kilos): \"))\n",
        "qtde_morango = float(input(\"Digite a quantidade de morango desejada (em kilos): \"))\n",
        "\n",
        "if qtde_maca < 5:\n",
        "  total_mac == qtde_maca*1.80\n",
        "else:\n",
        "  total_mac == qtde_maca*1.50\n",
        "\n",
        "if qtde_morango < 5:\n",
        "  pr_mor == float(2.50)\n",
        "else:\n",
        "  pr_mor == float(2.20)\n",
        "\n",
        "total_pg =  qtde_maca*pr_mac + qtde_morango*pr_mor\n",
        "\n",
        "if qtde_maca + qtde_morango > 8 or  total_pg > 25:\n",
        "  print(f\"Total a pagar: R$ {total_pg*0.90:.2f}.\")\n",
        "else:\n",
        "  print(f\"Total a pagar: R$ {total_pg:.2f}.\")\n"
      ],
      "execution_count": null,
      "outputs": [
        {
          "ename": "SyntaxError",
          "evalue": "ignored",
          "output_type": "error",
          "traceback": [
            "\u001b[0;36m  File \u001b[0;32m\"<ipython-input-37-f1f6224612da>\"\u001b[0;36m, line \u001b[0;32m3\u001b[0m\n\u001b[0;31m    total_mac =\u001b[0m\n\u001b[0m               ^\u001b[0m\n\u001b[0;31mSyntaxError\u001b[0m\u001b[0;31m:\u001b[0m invalid syntax\n"
          ]
        }
      ]
    },
    {
      "cell_type": "markdown",
      "metadata": {
        "id": "he2yGJcEsZzN"
      },
      "source": [
        "![image.png](data:image/png;base64,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)"
      ]
    },
    {
      "cell_type": "code",
      "metadata": {
        "id": "aI0BRTRYu5IK"
      },
      "source": [
        ""
      ],
      "execution_count": null,
      "outputs": []
    },
    {
      "cell_type": "markdown",
      "metadata": {
        "id": "QRwCljguo6--"
      },
      "source": [
        "***Estrutura de Repetição***"
      ]
    },
    {
      "cell_type": "markdown",
      "metadata": {
        "id": "6wvOCAXQpWlU"
      },
      "source": [
        "1. Faça um programa que peça uma nota, entre zero e dez. Mostre uma mensagem caso o valor seja inválido e continue pedindo até que o usuário informe um valor válido.\n"
      ]
    },
    {
      "cell_type": "code",
      "metadata": {
        "colab": {
          "base_uri": "https://localhost:8080/"
        },
        "id": "IuttXMzSo-IM",
        "outputId": "7f99a97f-d7b1-43f4-bed7-b888f566d7e4"
      },
      "source": [
        "while True:\n",
        "  try:\n",
        "    numero = int(input(\"Digite um número entre 0 e 10: \"))\n",
        "  except ValueError:\n",
        "    print(\"Deve ser fornecido um valor inteiro!\")\n",
        "  else:\n",
        "    if 0 <= numero <= 10:\n",
        "      print(f\"O número está entre 0 e 10. Parabens! Número inserido: {numero}.\")\n",
        "      break\n",
        "    else: \n",
        "      print(\"O número inserido nao está entre 0 e 10!\")"
      ],
      "execution_count": null,
      "outputs": [
        {
          "name": "stdout",
          "output_type": "stream",
          "text": [
            "Digite um número entre 0 e 10: 1\n",
            "O número está entre 0 e 10. Parabens! Número inserido: 1.\n"
          ]
        }
      ]
    },
    {
      "cell_type": "markdown",
      "metadata": {
        "id": "_tOghmeptGUs"
      },
      "source": [
        "2. Faça um programa que leia um nome de usuário e a sua senha e não aceite a senha igual ao nome do usuário, mostrando uma mensagem de erro e voltando a pedir as informações."
      ]
    },
    {
      "cell_type": "code",
      "metadata": {
        "colab": {
          "base_uri": "https://localhost:8080/"
        },
        "id": "rGkpUmbPtF-1",
        "outputId": "492806cd-6585-4869-a0cf-5f72c2f1fe79"
      },
      "source": [
        "while True:\n",
        "  usuario = str(input(\"Digite o seu usuário: \"))\n",
        "  senha = str(input(\"Digite sua senha: \"))\n",
        "  if usuario == senha:\n",
        "    print(\"A senha não pode ser igual ao usuário: \")\n",
        "  else:\n",
        "    print(\"Usuário logado. Parabéns!\")\n",
        "    break\n",
        "\n",
        "   "
      ],
      "execution_count": null,
      "outputs": [
        {
          "name": "stdout",
          "output_type": "stream",
          "text": [
            "Digite o seu usuário: pedro\n",
            "Digite sua senha: augusto\n",
            "Usuário logado. Parabéns!\n"
          ]
        }
      ]
    },
    {
      "cell_type": "markdown",
      "metadata": {
        "id": "eiRkt3Oy1QU1"
      },
      "source": [
        "3. Faça um programa que leia e valide as seguintes informações:\n",
        "- Nome: maior que 3 caracteres;\n",
        "- Idade: entre 0 e 150;\n",
        "- Salário: maior que zero;\n",
        "- Sexo: 'f' ou 'm';\n",
        "- Estado Civil: 's', 'c', 'v', 'd';"
      ]
    },
    {
      "cell_type": "code",
      "metadata": {
        "colab": {
          "base_uri": "https://localhost:8080/",
          "height": 629
        },
        "id": "vBA8Onk84XKP",
        "outputId": "17600fea-84d7-4992-c187-57093efbfdab"
      },
      "source": [
        "while True:\n",
        "  nome = str(input(\"Nome: \"))\n",
        "  if len(nome) <= 3:\n",
        "    print(\"Número de caracteres inválido! Favor digitar novamente.\")\n",
        "  else:\n",
        "    while True:\n",
        "      idade = int(input(\"Idade: \"))\n",
        "      if idade >= 150:\n",
        "        print(\"Idade inválida! Favor digitar novamente.\")\n",
        "      else:\n",
        "        while True:\n",
        "          salario = float(input(\"Salário: \"))\n",
        "          if salario <= 0:\n",
        "            print(\"Salario inválido! Favor digitar novamente.\")\n",
        "          else:\n",
        "            while True:\n",
        "              sexo = str(input(\"Sexo: \"))\n",
        "              if sexo != \"f\" and sexo != \"m\":\n",
        "                print(\"Sexo inválido! Favor digitar novamente.\")\n",
        "              else:\n",
        "                while True:\n",
        "                  e_civil = str(input(\"Estado Civil: \"))\n",
        "                  if e_civil != \"s\" and e_civil != \"c\" and e_civil != \"v\" and e_civil != \"d\":\n",
        "                    print(\"Estado civil inválido! Favor digitar novamente.\")\n",
        "                  else:\n",
        "                    print(\"Cadastro concluído com sucesso! Obrigado!\")\n",
        "                    break"
      ],
      "execution_count": null,
      "outputs": [
        {
          "output_type": "stream",
          "name": "stdout",
          "text": [
            "Nome: Pedro\n",
            "Idade: 12\n",
            "Salário: 1000\n",
            "Sexo: m\n",
            "Estado Civil: c\n",
            "Cadastro concluído com sucesso! Obrigado!\n"
          ]
        },
        {
          "output_type": "error",
          "ename": "KeyboardInterrupt",
          "evalue": "ignored",
          "traceback": [
            "\u001b[0;31m---------------------------------------------------------------------------\u001b[0m",
            "\u001b[0;31mKeyboardInterrupt\u001b[0m                         Traceback (most recent call last)",
            "\u001b[0;32m/usr/local/lib/python3.7/dist-packages/ipykernel/kernelbase.py\u001b[0m in \u001b[0;36m_input_request\u001b[0;34m(self, prompt, ident, parent, password)\u001b[0m\n\u001b[1;32m    728\u001b[0m             \u001b[0;32mtry\u001b[0m\u001b[0;34m:\u001b[0m\u001b[0;34m\u001b[0m\u001b[0;34m\u001b[0m\u001b[0m\n\u001b[0;32m--> 729\u001b[0;31m                 \u001b[0mident\u001b[0m\u001b[0;34m,\u001b[0m \u001b[0mreply\u001b[0m \u001b[0;34m=\u001b[0m \u001b[0mself\u001b[0m\u001b[0;34m.\u001b[0m\u001b[0msession\u001b[0m\u001b[0;34m.\u001b[0m\u001b[0mrecv\u001b[0m\u001b[0;34m(\u001b[0m\u001b[0mself\u001b[0m\u001b[0;34m.\u001b[0m\u001b[0mstdin_socket\u001b[0m\u001b[0;34m,\u001b[0m \u001b[0;36m0\u001b[0m\u001b[0;34m)\u001b[0m\u001b[0;34m\u001b[0m\u001b[0;34m\u001b[0m\u001b[0m\n\u001b[0m\u001b[1;32m    730\u001b[0m             \u001b[0;32mexcept\u001b[0m \u001b[0mException\u001b[0m\u001b[0;34m:\u001b[0m\u001b[0;34m\u001b[0m\u001b[0;34m\u001b[0m\u001b[0m\n",
            "\u001b[0;32m/usr/local/lib/python3.7/dist-packages/jupyter_client/session.py\u001b[0m in \u001b[0;36mrecv\u001b[0;34m(self, socket, mode, content, copy)\u001b[0m\n\u001b[1;32m    802\u001b[0m         \u001b[0;32mtry\u001b[0m\u001b[0;34m:\u001b[0m\u001b[0;34m\u001b[0m\u001b[0;34m\u001b[0m\u001b[0m\n\u001b[0;32m--> 803\u001b[0;31m             \u001b[0mmsg_list\u001b[0m \u001b[0;34m=\u001b[0m \u001b[0msocket\u001b[0m\u001b[0;34m.\u001b[0m\u001b[0mrecv_multipart\u001b[0m\u001b[0;34m(\u001b[0m\u001b[0mmode\u001b[0m\u001b[0;34m,\u001b[0m \u001b[0mcopy\u001b[0m\u001b[0;34m=\u001b[0m\u001b[0mcopy\u001b[0m\u001b[0;34m)\u001b[0m\u001b[0;34m\u001b[0m\u001b[0;34m\u001b[0m\u001b[0m\n\u001b[0m\u001b[1;32m    804\u001b[0m         \u001b[0;32mexcept\u001b[0m \u001b[0mzmq\u001b[0m\u001b[0;34m.\u001b[0m\u001b[0mZMQError\u001b[0m \u001b[0;32mas\u001b[0m \u001b[0me\u001b[0m\u001b[0;34m:\u001b[0m\u001b[0;34m\u001b[0m\u001b[0;34m\u001b[0m\u001b[0m\n",
            "\u001b[0;32m/usr/local/lib/python3.7/dist-packages/zmq/sugar/socket.py\u001b[0m in \u001b[0;36mrecv_multipart\u001b[0;34m(self, flags, copy, track)\u001b[0m\n\u001b[1;32m    624\u001b[0m         \"\"\"\n\u001b[0;32m--> 625\u001b[0;31m         \u001b[0mparts\u001b[0m \u001b[0;34m=\u001b[0m \u001b[0;34m[\u001b[0m\u001b[0mself\u001b[0m\u001b[0;34m.\u001b[0m\u001b[0mrecv\u001b[0m\u001b[0;34m(\u001b[0m\u001b[0mflags\u001b[0m\u001b[0;34m,\u001b[0m \u001b[0mcopy\u001b[0m\u001b[0;34m=\u001b[0m\u001b[0mcopy\u001b[0m\u001b[0;34m,\u001b[0m \u001b[0mtrack\u001b[0m\u001b[0;34m=\u001b[0m\u001b[0mtrack\u001b[0m\u001b[0;34m)\u001b[0m\u001b[0;34m]\u001b[0m\u001b[0;34m\u001b[0m\u001b[0;34m\u001b[0m\u001b[0m\n\u001b[0m\u001b[1;32m    626\u001b[0m         \u001b[0;31m# have first part already, only loop while more to receive\u001b[0m\u001b[0;34m\u001b[0m\u001b[0;34m\u001b[0m\u001b[0;34m\u001b[0m\u001b[0m\n",
            "\u001b[0;32mzmq/backend/cython/socket.pyx\u001b[0m in \u001b[0;36mzmq.backend.cython.socket.Socket.recv\u001b[0;34m()\u001b[0m\n",
            "\u001b[0;32mzmq/backend/cython/socket.pyx\u001b[0m in \u001b[0;36mzmq.backend.cython.socket.Socket.recv\u001b[0;34m()\u001b[0m\n",
            "\u001b[0;32mzmq/backend/cython/socket.pyx\u001b[0m in \u001b[0;36mzmq.backend.cython.socket._recv_copy\u001b[0;34m()\u001b[0m\n",
            "\u001b[0;32m/usr/local/lib/python3.7/dist-packages/zmq/backend/cython/checkrc.pxd\u001b[0m in \u001b[0;36mzmq.backend.cython.checkrc._check_rc\u001b[0;34m()\u001b[0m\n",
            "\u001b[0;31mKeyboardInterrupt\u001b[0m: ",
            "\nDuring handling of the above exception, another exception occurred:\n",
            "\u001b[0;31mKeyboardInterrupt\u001b[0m                         Traceback (most recent call last)",
            "\u001b[0;32m<ipython-input-11-2a2cb7866193>\u001b[0m in \u001b[0;36m<module>\u001b[0;34m()\u001b[0m\n\u001b[1;32m     15\u001b[0m           \u001b[0;32melse\u001b[0m\u001b[0;34m:\u001b[0m\u001b[0;34m\u001b[0m\u001b[0;34m\u001b[0m\u001b[0m\n\u001b[1;32m     16\u001b[0m             \u001b[0;32mwhile\u001b[0m \u001b[0;32mTrue\u001b[0m\u001b[0;34m:\u001b[0m\u001b[0;34m\u001b[0m\u001b[0;34m\u001b[0m\u001b[0m\n\u001b[0;32m---> 17\u001b[0;31m               \u001b[0msexo\u001b[0m \u001b[0;34m=\u001b[0m \u001b[0mstr\u001b[0m\u001b[0;34m(\u001b[0m\u001b[0minput\u001b[0m\u001b[0;34m(\u001b[0m\u001b[0;34m\"Sexo: \"\u001b[0m\u001b[0;34m)\u001b[0m\u001b[0;34m)\u001b[0m\u001b[0;34m\u001b[0m\u001b[0;34m\u001b[0m\u001b[0m\n\u001b[0m\u001b[1;32m     18\u001b[0m               \u001b[0;32mif\u001b[0m \u001b[0msexo\u001b[0m \u001b[0;34m!=\u001b[0m \u001b[0;34m\"f\"\u001b[0m \u001b[0;32mand\u001b[0m \u001b[0msexo\u001b[0m \u001b[0;34m!=\u001b[0m \u001b[0;34m\"m\"\u001b[0m\u001b[0;34m:\u001b[0m\u001b[0;34m\u001b[0m\u001b[0;34m\u001b[0m\u001b[0m\n\u001b[1;32m     19\u001b[0m                 \u001b[0mprint\u001b[0m\u001b[0;34m(\u001b[0m\u001b[0;34m\"Sexo inválido! Favor digitar novamente.\"\u001b[0m\u001b[0;34m)\u001b[0m\u001b[0;34m\u001b[0m\u001b[0;34m\u001b[0m\u001b[0m\n",
            "\u001b[0;32m/usr/local/lib/python3.7/dist-packages/ipykernel/kernelbase.py\u001b[0m in \u001b[0;36mraw_input\u001b[0;34m(self, prompt)\u001b[0m\n\u001b[1;32m    702\u001b[0m             \u001b[0mself\u001b[0m\u001b[0;34m.\u001b[0m\u001b[0m_parent_ident\u001b[0m\u001b[0;34m,\u001b[0m\u001b[0;34m\u001b[0m\u001b[0;34m\u001b[0m\u001b[0m\n\u001b[1;32m    703\u001b[0m             \u001b[0mself\u001b[0m\u001b[0;34m.\u001b[0m\u001b[0m_parent_header\u001b[0m\u001b[0;34m,\u001b[0m\u001b[0;34m\u001b[0m\u001b[0;34m\u001b[0m\u001b[0m\n\u001b[0;32m--> 704\u001b[0;31m             \u001b[0mpassword\u001b[0m\u001b[0;34m=\u001b[0m\u001b[0;32mFalse\u001b[0m\u001b[0;34m,\u001b[0m\u001b[0;34m\u001b[0m\u001b[0;34m\u001b[0m\u001b[0m\n\u001b[0m\u001b[1;32m    705\u001b[0m         )\n\u001b[1;32m    706\u001b[0m \u001b[0;34m\u001b[0m\u001b[0m\n",
            "\u001b[0;32m/usr/local/lib/python3.7/dist-packages/ipykernel/kernelbase.py\u001b[0m in \u001b[0;36m_input_request\u001b[0;34m(self, prompt, ident, parent, password)\u001b[0m\n\u001b[1;32m    732\u001b[0m             \u001b[0;32mexcept\u001b[0m \u001b[0mKeyboardInterrupt\u001b[0m\u001b[0;34m:\u001b[0m\u001b[0;34m\u001b[0m\u001b[0;34m\u001b[0m\u001b[0m\n\u001b[1;32m    733\u001b[0m                 \u001b[0;31m# re-raise KeyboardInterrupt, to truncate traceback\u001b[0m\u001b[0;34m\u001b[0m\u001b[0;34m\u001b[0m\u001b[0;34m\u001b[0m\u001b[0m\n\u001b[0;32m--> 734\u001b[0;31m                 \u001b[0;32mraise\u001b[0m \u001b[0mKeyboardInterrupt\u001b[0m\u001b[0;34m\u001b[0m\u001b[0;34m\u001b[0m\u001b[0m\n\u001b[0m\u001b[1;32m    735\u001b[0m             \u001b[0;32melse\u001b[0m\u001b[0;34m:\u001b[0m\u001b[0;34m\u001b[0m\u001b[0;34m\u001b[0m\u001b[0m\n\u001b[1;32m    736\u001b[0m                 \u001b[0;32mbreak\u001b[0m\u001b[0;34m\u001b[0m\u001b[0;34m\u001b[0m\u001b[0m\n",
            "\u001b[0;31mKeyboardInterrupt\u001b[0m: "
          ]
        }
      ]
    },
    {
      "cell_type": "code",
      "metadata": {
        "colab": {
          "base_uri": "https://localhost:8080/"
        },
        "id": "E-KR0f9EBf5E",
        "outputId": "ecc9ceeb-d3f7-46d5-c5f2-332f3a71dfb2"
      },
      "source": [
        "# Validacao do nome\n",
        "nome = \"\"\n",
        "while (len(nome) <= 3):\n",
        "    nome = str(input('Informe um nome: '))\n",
        "    if (len(nome) <= 3):\n",
        "        print(\"O nome deve ter mais de tres letras!\")\n",
        "\n",
        "# Validacao da idade\n",
        "idade = -1\n",
        "while (idade < 0) or (idade > 150):\n",
        "    idade = int(input(\"Informe a idade: \"))\n",
        "    if (idade < 0) or (idade > 150):\n",
        "        print(\"Idade deve estar entre 0 e 150\")\n",
        "\n",
        "# Validacao do salario\n",
        "salario = 0\n",
        "while (salario <= 0):\n",
        "    salario = int(input(\"Informe o salario: \"))\n",
        "    if (salario <= 0):\n",
        "        print(\"O salario deve ser maior que zero.\")\n",
        "\n",
        "# Valida o sexo\n",
        "sexo = ''\n",
        "while (sexo != 'F') and (sexo != 'M'):\n",
        "    sexo = str(input(\"Informe o sexo: \")).upper()\n",
        "    if (sexo != 'F') and (sexo != 'M'):\n",
        "        print(\"O sexo deve ser infomado como M (masculino) ou F (feminino.\")\n",
        "\n",
        "# Valida o estado civil\n",
        "estado_civil = 'A'\n",
        "while ('SCVD'.find(estado_civil) < 0):\n",
        "    estado_civil = str(input(\"Informe o estado civil: \")).upper()\n",
        "    if ('SCVD'.find(estado_civil) < 0):\n",
        "        print(\"Estado civil deve ser informado como S (solteiro), C (casado),V (viuvo) ou D (divorciado).\")\n",
        "print(\"Cadastro concluído com sucesso. Obrigado!\")\n"
      ],
      "execution_count": null,
      "outputs": [
        {
          "output_type": "stream",
          "name": "stdout",
          "text": [
            "Informe um nome: Pe\n",
            "O nome deve ter mais de tres letras!\n",
            "Informe um nome: Pedro\n",
            "Informe a idade: 12\n",
            "Informe o salario: 100\n",
            "Informe o sexo: m\n",
            "Informe o estado civil: c\n",
            "Cadastro concluído com sucesso. Obrigado!\n"
          ]
        }
      ]
    },
    {
      "cell_type": "markdown",
      "metadata": {
        "id": "86GmwbuR18Nh"
      },
      "source": [
        "4. Supondo que a população de um país A seja da ordem de 80.000 habitantes com uma taxa anual de crescimento de 3% e que a população de B seja 200.000 habitantes com uma taxa de crescimento de 1.5%. Faça um programa que calcule e escreva o número de anos necessários para que a população do país A ultrapasse ou iguale a população do país B, mantidas as taxas de crescimento."
      ]
    },
    {
      "cell_type": "code",
      "metadata": {
        "colab": {
          "base_uri": "https://localhost:8080/"
        },
        "id": "y-M5knJk2BoG",
        "outputId": "c051dac6-0c7d-4f6f-d9b5-7ad8de6c5469"
      },
      "source": [
        "#Variáveis do problema\n",
        "A = 80000\n",
        "tx_a = 0.03\n",
        "B = 200000\n",
        "tx_b = 0.015\n",
        "pop_A = A * pow((1+tx_a),anos)\n",
        "pop_B = B * pow((1+tx_b),anos)\n",
        "\n",
        "#Cálculos\n",
        "ano = 1\n",
        "while (pop_A <= pop_B):\n",
        "  pop_A *= tx_a\n",
        "  pop_B *= tx_b\n",
        "  ano += 1\n",
        "\n",
        "#Impressão das populações\n",
        "print(f\"A população de A: {pop_A:.0f}.\")\n",
        "print(f\"A população de B: {pop_B:.0f}.\")\n",
        "\n"
      ],
      "execution_count": null,
      "outputs": [
        {
          "name": "stdout",
          "output_type": "stream",
          "text": [
            "A população de A: 15202.\n",
            "A população de B: 7602.\n"
          ]
        }
      ]
    },
    {
      "cell_type": "code",
      "metadata": {
        "colab": {
          "base_uri": "https://localhost:8080/"
        },
        "id": "hPhpr-8FPUZK",
        "outputId": "37bd4b26-bca9-45b5-8a04-575c2c44863d"
      },
      "source": [
        "# Define os valores de populacao e crescimento\n",
        "populacaoA = 80000\n",
        "crescimentoA = 1.03\n",
        "populacaoB = 200000\n",
        "crescimentoB = 1.015\n",
        "\n",
        "# Realiza calculo de anos\n",
        "ano = 1\n",
        "while (populacaoA <= populacaoB):\n",
        "    populacaoA *= crescimentoA\n",
        "    populacaoB *= crescimentoB\n",
        "    ano += 1\n",
        "\n",
        "# Imprime o resultado\n",
        "print(f\"Serao necessarios {ano} anos para que a populacao do pais A ultrapasse a populacao do pais B.\")"
      ],
      "execution_count": null,
      "outputs": [
        {
          "name": "stdout",
          "output_type": "stream",
          "text": [
            "Serao necessarios 64 anos para que a populacao do pais A ultrapasse a populacao do pais B.\n"
          ]
        }
      ]
    },
    {
      "cell_type": "markdown",
      "metadata": {
        "id": "diG1Gc8wLE7p"
      },
      "source": [
        "5. Altere o programa anterior permitindo ao usuário informar as populações e as taxas de crescimento iniciais. Valide a entrada e permita repetir a operação"
      ]
    },
    {
      "cell_type": "code",
      "metadata": {
        "id": "_110DhK-0tCO"
      },
      "source": [
        "# Define os valores de populacao e crescimento\n",
        "populacaoA = 80000\n",
        "crescimentoA = 1.03\n",
        "populacaoB = 200000\n",
        "crescimentoB = 1.015\n",
        "\n",
        "# Realiza calculo de anos\n",
        "ano = 1\n",
        "while (populacaoA <= populacaoB):\n",
        "    populacaoA *= crescimentoA\n",
        "    populacaoB *= crescimentoB\n",
        "    ano += 1\n",
        "\n",
        "# Imprime o resultado\n",
        "print(f\"Serao necessarios {ano} anos para que a populacao do pais A ultrapasse a populacao do pais B.\")"
      ],
      "execution_count": null,
      "outputs": []
    },
    {
      "cell_type": "markdown",
      "metadata": {
        "id": "iwDAVjVLGURS"
      },
      "source": [
        "6. Faça um programa que imprima na tela os números de 1 a 20, um abaixo do outro. Depois modifique o programa para que ele mostre os números um ao lado do outro."
      ]
    },
    {
      "cell_type": "code",
      "metadata": {
        "colab": {
          "base_uri": "https://localhost:8080/"
        },
        "id": "OgVbwOzu3p5D",
        "outputId": "9f293ac2-69f2-4c13-bae9-3074ca00245d"
      },
      "source": [
        "n = int(input(\"Digite a quantidade de números desejados (de 1 a 20): \"))\n",
        "def imp_numeros (n: int):\n",
        "  for i in range (1, n + 1):\n",
        "      print(i, end=\"   \")\n",
        "\n",
        "imp_numeros(n)"
      ],
      "execution_count": null,
      "outputs": [
        {
          "name": "stdout",
          "output_type": "stream",
          "text": [
            "Digite a quantidade de números desejados (de 1 a 20): 5\n",
            "1   2   3   4   5   "
          ]
        }
      ]
    },
    {
      "cell_type": "code",
      "metadata": {
        "colab": {
          "base_uri": "https://localhost:8080/"
        },
        "id": "cUtCtqvFIh0i",
        "outputId": "0ff56619-a649-41a2-abab-03fda9cbc43e"
      },
      "source": [
        "n = int(input(\"Digite a quantidade de números desejados (de 1 a 20): \"))\n",
        "def imp_numeros (n: int):\n",
        "  for i in range (1, n + 1):\n",
        "      print(i, end=\"\\n\")\n",
        "\n",
        "imp_numeros(n)"
      ],
      "execution_count": null,
      "outputs": [
        {
          "name": "stdout",
          "output_type": "stream",
          "text": [
            "Digite a quantidade de números desejados (de 1 a 20): 5\n",
            "1\n",
            "2\n",
            "3\n",
            "4\n",
            "5\n"
          ]
        }
      ]
    },
    {
      "cell_type": "code",
      "metadata": {
        "id": "HPn1JIdX1710"
      },
      "source": [
        ""
      ],
      "execution_count": null,
      "outputs": []
    },
    {
      "cell_type": "code",
      "metadata": {
        "id": "PChXYVHF2m0n"
      },
      "source": [
        ""
      ],
      "execution_count": null,
      "outputs": []
    },
    {
      "cell_type": "markdown",
      "metadata": {
        "id": "62JS4BSXqmS6"
      },
      "source": [
        "7. Faça um programa que leia 5 números e informe o maior número."
      ]
    },
    {
      "cell_type": "code",
      "metadata": {
        "colab": {
          "base_uri": "https://localhost:8080/"
        },
        "id": "E3vk8v4EwW1j",
        "outputId": "d38b3626-f70e-4696-9e26-6a2797d59fd4"
      },
      "source": [
        "n1 = float(input(\"Digite o primeiro nº: \"))\n",
        "n2 = float(input(\"Digite o segundo nº: \"))\n",
        "n3 = float(input(\"Digite o terceiro nº: \"))\n",
        "n4 = float(input(\"Digite o quarto nº: \"))\n",
        "n5 = float(input(\"Digite o quinto nº: \"))\n",
        "\n",
        "print(f\"O maior número é o: {max(n1,n2,n3,n4,n5)}.\")"
      ],
      "execution_count": null,
      "outputs": [
        {
          "name": "stdout",
          "output_type": "stream",
          "text": [
            "Digite o primeiro nº: 1\n",
            "Digite o segundo nº: 3\n",
            "Digite o terceiro nº: 5\n",
            "Digite o quarto nº: 2\n",
            "Digite o quinto nº: 4\n",
            "O maior número é o: 5.0.\n"
          ]
        }
      ]
    },
    {
      "cell_type": "markdown",
      "metadata": {
        "id": "aGyc1g37tAT4"
      },
      "source": [
        "8. Faça um programa que leia 5 números e informe a soma e a média dos números."
      ]
    },
    {
      "cell_type": "code",
      "metadata": {
        "colab": {
          "base_uri": "https://localhost:8080/"
        },
        "id": "gSRY6cDnrMrE",
        "outputId": "3892fd52-3038-4fd6-cb35-6eafec90d1eb"
      },
      "source": [
        "n1 = float(input(\"Digite o primeiro nº: \"))\n",
        "n2 = float(input(\"Digite o segundo nº: \"))\n",
        "n3 = float(input(\"Digite o terceiro nº: \"))\n",
        "n4 = float(input(\"Digite o quarto nº: \"))\n",
        "n5 = float(input(\"Digite o quinto nº: \"))\n",
        "\n",
        "soma = n1+n2+n3+n4+n5\n",
        "média = (n1+n2+n3+n4+n5)/5\n",
        "\n",
        "print(f\"A soma dos números digitados é: {soma}.\")\n",
        "print(f\"A média dos números digitados é: {média}.\")"
      ],
      "execution_count": null,
      "outputs": [
        {
          "name": "stdout",
          "output_type": "stream",
          "text": [
            "Digite o primeiro nº: 1\n",
            "Digite o segundo nº: 2\n",
            "Digite o terceiro nº: 3\n",
            "Digite o quarto nº: 4\n",
            "Digite o quinto nº: 5\n",
            "A soma dos números digitados é: 15.0.\n",
            "A média dos números digitados é: 3.0.\n"
          ]
        }
      ]
    },
    {
      "cell_type": "markdown",
      "metadata": {
        "id": "W3RU2iJOvh6Q"
      },
      "source": [
        "***Listas***"
      ]
    },
    {
      "cell_type": "markdown",
      "metadata": {
        "id": "KxVFeTo5wmWp"
      },
      "source": [
        "1. Faça um Programa que leia um vetor de 5 números inteiros e mostre-os."
      ]
    },
    {
      "cell_type": "code",
      "metadata": {
        "colab": {
          "base_uri": "https://localhost:8080/"
        },
        "id": "ifbOjnmptAHi",
        "outputId": "21b77558-79f2-4dff-a675-8261d41168ed"
      },
      "source": [
        "n1 = float(input(\"Digite o primeiro nº: \"))\n",
        "n2 = float(input(\"Digite o segundo nº: \"))\n",
        "n3 = float(input(\"Digite o terceiro nº: \"))\n",
        "n4 = float(input(\"Digite o quarto nº: \"))\n",
        "n5 = float(input(\"Digite o quinto nº: \"))\n",
        "\n",
        "lista = (n1,n2,n3,n4,n5)\n",
        "\n",
        "print(\"\\n\",lista)"
      ],
      "execution_count": null,
      "outputs": [
        {
          "name": "stdout",
          "output_type": "stream",
          "text": [
            "Digite o primeiro nº: 1\n",
            "Digite o segundo nº: 2\n",
            "Digite o terceiro nº: 3\n",
            "Digite o quarto nº: 4\n",
            "Digite o quinto nº: 5\n",
            "\n",
            " (1.0, 2.0, 3.0, 4.0, 5.0)\n"
          ]
        }
      ]
    },
    {
      "cell_type": "code",
      "metadata": {
        "colab": {
          "base_uri": "https://localhost:8080/"
        },
        "id": "3879YNdkxhf0",
        "outputId": "e6f127d4-a824-444b-cb78-aacfa6dc8d2f"
      },
      "source": [
        "lista = []\n",
        "for _ in range(5):\n",
        "  numero = float(input(\"Digite um número: \"))\n",
        "  lista.append(numero)\n",
        "print(f\"{lista}\")"
      ],
      "execution_count": null,
      "outputs": [
        {
          "output_type": "stream",
          "name": "stdout",
          "text": [
            "Digite um número: 1\n",
            "Digite um número: 2\n",
            "Digite um número: 3\n",
            "Digite um número: 4\n",
            "Digite um número: 5\n",
            "[1.0, 2.0, 3.0, 4.0, 5.0]\n"
          ]
        }
      ]
    },
    {
      "cell_type": "code",
      "metadata": {
        "id": "Hxq_AMhiyY4R"
      },
      "source": [
        ""
      ],
      "execution_count": null,
      "outputs": []
    },
    {
      "cell_type": "markdown",
      "metadata": {
        "id": "UVQcyVfB0l1U"
      },
      "source": [
        "2. Faça um Programa que leia um vetor de 10 números reais e mostre-os na ordem inversa."
      ]
    },
    {
      "cell_type": "code",
      "metadata": {
        "colab": {
          "base_uri": "https://localhost:8080/"
        },
        "id": "_m_5EThB0nyh",
        "outputId": "523aa590-0f53-4cd7-be78-9f7fef99ae1d"
      },
      "source": [
        "lista = []\n",
        "for _ in range(10):\n",
        "  numero = int(input(\"Digite um número: \"))\n",
        "  lista.append(numero)\n",
        "lista.reverse()\n",
        "print(lista)"
      ],
      "execution_count": null,
      "outputs": [
        {
          "name": "stdout",
          "output_type": "stream",
          "text": [
            "Digite um número: 1\n",
            "Digite um número: 2\n",
            "Digite um número: 3\n",
            "Digite um número: 4\n",
            "Digite um número: 5\n",
            "Digite um número: 6\n",
            "Digite um número: 7\n",
            "Digite um número: 8\n",
            "Digite um número: 9\n",
            "Digite um número: 10\n",
            "[10, 9, 8, 7, 6, 5, 4, 3, 2, 1]\n"
          ]
        }
      ]
    },
    {
      "cell_type": "markdown",
      "metadata": {
        "id": "NWotkY1Sxjr2"
      },
      "source": [
        "3. Faça um Programa que leia 4 notas, mostre as notas e a média na tela."
      ]
    },
    {
      "cell_type": "code",
      "metadata": {
        "colab": {
          "base_uri": "https://localhost:8080/"
        },
        "id": "6mbbwc862E3I",
        "outputId": "84b6a7a2-2a26-4679-e7c7-954af02621e9"
      },
      "source": [
        "lista = []\n",
        "for _ in range(4):\n",
        "  numero = int(input(\"Digite uma nota: \"))\n",
        "  lista.append(numero)\n",
        "  media = sum(lista) / len(lista)\n",
        "print(f\"As notas digitadas são: {lista}.\")\n",
        "print(f\"A média das notas é: {media}.\")"
      ],
      "execution_count": null,
      "outputs": [
        {
          "name": "stdout",
          "output_type": "stream",
          "text": [
            "Digite uma nota: 1\n",
            "Digite uma nota: 2\n",
            "Digite uma nota: 3\n",
            "Digite uma nota: 1\n",
            "As notas digitadas são: [1, 2, 3, 1].\n",
            "A média das notas é: 1.75.\n"
          ]
        }
      ]
    },
    {
      "cell_type": "markdown",
      "metadata": {
        "id": "HY93U7vqy70D"
      },
      "source": [
        "4. Faça um Programa que leia um vetor de 10 caracteres, e diga quantas consoantes foram lidas. Imprima as consoantes."
      ]
    },
    {
      "cell_type": "code",
      "metadata": {
        "colab": {
          "base_uri": "https://localhost:8080/"
        },
        "id": "xkKwvn-Wy0Ie",
        "outputId": "31a77821-213d-4502-a5d0-883cd8169d54"
      },
      "source": [
        "lista = []\n",
        "for _ in range(10):\n",
        "  letra = str(input(\"Digite uma letra: \"))\n",
        "  lista.append(letra)\n",
        "  for letra in lista:\n",
        "    if letra == \"a\" or letra == \"e\" or letra == \"i\" or letra == \"o\" or letra == \"u\":\n",
        "      lista.remove(letra)\n",
        "print(f\"Qtde de consoantes digitadas: {len(lista)}.\")\n",
        "print(f\"As consoantes digitadas são: {lista}.\")"
      ],
      "execution_count": null,
      "outputs": [
        {
          "name": "stdout",
          "output_type": "stream",
          "text": [
            "Digite uma letra: a\n",
            "Digite uma letra: b\n",
            "Digite uma letra: c\n",
            "Digite uma letra: d\n",
            "Digite uma letra: e\n",
            "Digite uma letra: f\n",
            "Digite uma letra: g\n",
            "Digite uma letra: h\n",
            "Digite uma letra: i\n",
            "Digite uma letra: j\n",
            "Qtde de consoantes digitadas: 7.\n",
            "As consoantes digitadas são: ['b', 'c', 'd', 'f', 'g', 'h', 'j'].\n"
          ]
        }
      ]
    },
    {
      "cell_type": "markdown",
      "metadata": {
        "id": "Ym98CSQT2Wus"
      },
      "source": [
        "5. Faça um Programa que leia 20 números inteiros e armazene-os num vetor. Armazene os números pares no vetor PAR e os números IMPARES no vetor impar. Imprima os três vetores.\n"
      ]
    },
    {
      "cell_type": "code",
      "metadata": {
        "colab": {
          "base_uri": "https://localhost:8080/"
        },
        "id": "xDYs34c705fP",
        "outputId": "ba75678b-a581-4599-bd6f-01f51d4779fa"
      },
      "source": [
        "lista = []\n",
        "lista_par = []\n",
        "lista_imp = []\n",
        "for _ in range(20):\n",
        "  numero = int(input(\"Digite um número: \"))\n",
        "  lista.append(numero)\n",
        "  if numero % 2 == 0:\n",
        "    lista_par.append(numero)\n",
        "  else:\n",
        "    lista_imp.append(numero)\n",
        "\n",
        "print(f\"\\nOs números digitados foram: {lista}.\")\n",
        "print(f\"Os números pares digitados foram: {lista_par}.\")\n",
        "print(f\"Os números ímpares digitados foram: {lista_imp}.\")"
      ],
      "execution_count": null,
      "outputs": [
        {
          "name": "stdout",
          "output_type": "stream",
          "text": [
            "Digite um número: 1\n",
            "Digite um número: 2\n",
            "Digite um número: 3\n",
            "Digite um número: 4\n",
            "Digite um número: 90\n",
            "Digite um número: 10\n",
            "Digite um número: 2\n",
            "Digite um número: 4\n",
            "Digite um número: 6\n",
            "Digite um número: 8\n",
            "Digite um número: 9\n",
            "Digite um número: 10\n",
            "Digite um número: 12\n",
            "Digite um número: 14\n",
            "Digite um número: 25\n",
            "Digite um número: 320\n",
            "Digite um número: 100\n",
            "Digite um número: 1090\n",
            "Digite um número: 20\n",
            "Digite um número: 12\n",
            "\n",
            "Os números digitados foram: [1, 2, 3, 4, 90, 10, 2, 4, 6, 8, 9, 10, 12, 14, 25, 320, 100, 1090, 20, 12].\n",
            "Os números pares digitados foram: [2, 4, 90, 10, 2, 4, 6, 8, 10, 12, 14, 320, 100, 1090, 20, 12].\n",
            "Os números ímpares digitados foram: [1, 3, 9, 25].\n"
          ]
        }
      ]
    },
    {
      "cell_type": "markdown",
      "metadata": {
        "id": "KOT1SGH-8UAn"
      },
      "source": [
        "6. Faça um Programa que peça as quatro notas de 10 alunos, calcule e armazene num vetor a média de cada aluno, imprima o número de alunos com média maior ou igual a 7.0"
      ]
    },
    {
      "cell_type": "code",
      "metadata": {
        "colab": {
          "base_uri": "https://localhost:8080/"
        },
        "id": "r5sA0S4Q3YJI",
        "outputId": "d5ca9918-426d-4303-dd4a-e94e0a2a47f4"
      },
      "source": [
        "ficha = list()\n",
        "while True:\n",
        "  nome = str(input(\"Digite o nome do Aluno: \"))\n",
        "  n1 = float(input(\"Digite a primeira nota: \"))\n",
        "  n2 = float(input(\"Digite a segunda nota: \"))\n",
        "  n3 = float(input(\"Digite a terceira nota: \"))\n",
        "  n4 = float(input(\"Digite a quarta nota: \"))\n",
        "  media = (n1+n2+n3+n4)/4\n",
        "  ficha.append([nome, [n1,n2,n3,n4], media ])\n",
        "  resp = str(input(\"Quer continuar inserido notas? [S/N] \"))\n",
        "  if resp ==\"N\" or resp == \"n\":\n",
        "    break\n",
        "print('-=' * 30)\n",
        "print(f'{\"No.\":<4}{\"NOME\":<10}{\"MÉDIA\":>8}')\n",
        "print('-=' * 30)\n",
        "for i, a in enumerate(ficha):\n",
        "  print(f'{i:<4}{a[0]:<10}{a[2]:>8.1f}')\n",
        "  resp2 = str(input(\"Mostrar alunos com média maior do que 7? [S/N] \"))\n",
        "  if resp ==\"N\" or resp == \"n\":\n",
        "    print(\"Programa finalizado! Obrigado\")\n",
        "    break\n",
        "  else:\n"
      ],
      "execution_count": null,
      "outputs": [
        {
          "name": "stdout",
          "output_type": "stream",
          "text": [
            "Digite o nome do Aluno: Pedro\n",
            "Digite a primeira nota: 8\n",
            "Digite a segunda nota: 7\n",
            "Digite a terceira nota: 6\n",
            "Digite a quarta nota: 9\n",
            "Quer continuar inserido notas? [S/N] s\n",
            "Digite o nome do Aluno: Ana\n",
            "Digite a primeira nota: 10\n",
            "Digite a segunda nota: 9\n",
            "Digite a terceira nota: 5\n",
            "Digite a quarta nota: 1\n",
            "Quer continuar inserido notas? [S/N] n\n",
            "-=-=-=-=-=-=-=-=-=-=-=-=-=-=-=-=-=-=-=-=-=-=-=-=-=-=-=-=-=-=\n",
            "No. NOME         MÉDIA\n",
            "-=-=-=-=-=-=-=-=-=-=-=-=-=-=-=-=-=-=-=-=-=-=-=-=-=-=-=-=-=-=\n",
            "0   Pedro          7.5\n",
            "1   Ana            6.2\n"
          ]
        }
      ]
    },
    {
      "cell_type": "code",
      "metadata": {
        "colab": {
          "base_uri": "https://localhost:8080/"
        },
        "id": "DIAIe7i8FBIe",
        "outputId": "d591d01b-5d32-4c93-b067-6d5a8cdc0cdd"
      },
      "source": [
        "notas = []\n",
        "for i in range(0, 3):\n",
        "    notasAluno = []\n",
        "    for j in range(0, 4):\n",
        "        notasAluno.append(\n",
        "            float(input('Informe a nota do aluno %.d: ' % (i + 1))))\n",
        "    notas.append(notasAluno)\n",
        "\n",
        "alunosMedia = 0\n",
        "for notasAluno in notas:\n",
        "    somaNotas = 0\n",
        "    for nota in notasAluno:\n",
        "        somaNotas += nota\n",
        "    if ((somaNotas / 4.0) >= 7.0):\n",
        "        alunosMedia += 1\n",
        "\n",
        "print(\"%d alunos ficaram acima da media\", alunosMedia)"
      ],
      "execution_count": null,
      "outputs": [
        {
          "name": "stdout",
          "output_type": "stream",
          "text": [
            "Informe a nota do aluno 1: 1\n",
            "Informe a nota do aluno 1: 25\n",
            "Informe a nota do aluno 1: 5\n",
            "Informe a nota do aluno 1: 85\n",
            "Informe a nota do aluno 2: 5\n",
            "Informe a nota do aluno 2: 64\n",
            "Informe a nota do aluno 2: 48\n",
            "Informe a nota do aluno 2: 10\n",
            "Informe a nota do aluno 3: 5\n",
            "Informe a nota do aluno 3: 8\n",
            "Informe a nota do aluno 3: 1\n",
            "Informe a nota do aluno 3: 6\n",
            "%d alunos ficaram acima da media 2\n"
          ]
        }
      ]
    },
    {
      "cell_type": "code",
      "metadata": {
        "id": "3_GoQx1VC9Qx"
      },
      "source": [
        ""
      ],
      "execution_count": null,
      "outputs": []
    },
    {
      "cell_type": "markdown",
      "metadata": {
        "id": "y6NpLgyYZdMm"
      },
      "source": [
        "7. Faça um Programa que leia um vetor de 5 números inteiros, mostre a soma, a multiplicação e os números."
      ]
    },
    {
      "cell_type": "code",
      "metadata": {
        "colab": {
          "base_uri": "https://localhost:8080/"
        },
        "id": "uadOspiVZgNK",
        "outputId": "5d6ead40-6107-47f4-c903-6a9db9705112"
      },
      "source": [
        "lista = []\n",
        "for _ in range(5):\n",
        "  numero = int(input(\"Digite um número: \"))\n",
        "  lista.append(numero)\n",
        "\n",
        "soma = 0\n",
        "multi = 1\n",
        "for i in lista:\n",
        "  soma += i\n",
        "  multi *= i\n",
        "\n",
        "print(lista)\n",
        "print(f\"A soma dos números é: {soma}.\")\n",
        "print(f\"A multiplicação dos números é: {multi}.\")"
      ],
      "execution_count": null,
      "outputs": [
        {
          "name": "stdout",
          "output_type": "stream",
          "text": [
            "Digite um número: 1\n",
            "Digite um número: 2\n",
            "Digite um número: 3\n",
            "Digite um número: 4\n",
            "Digite um número: 5\n",
            "[1, 2, 3, 4, 5]\n",
            "A soma dos números é: 15.\n",
            "A multiplicação dos números é: 120.\n"
          ]
        }
      ]
    },
    {
      "cell_type": "code",
      "metadata": {
        "id": "UesdaHTzZ4ht"
      },
      "source": [
        ""
      ],
      "execution_count": null,
      "outputs": []
    },
    {
      "cell_type": "markdown",
      "metadata": {
        "id": "PpA2BL4fd6pn"
      },
      "source": [
        "8. Faça um Programa que peça a idade e a altura de 5 pessoas, armazene cada informação no seu respectivo vetor. Imprima a idade e a altura na ordem inversa a ordem lida."
      ]
    },
    {
      "cell_type": "code",
      "metadata": {
        "colab": {
          "base_uri": "https://localhost:8080/"
        },
        "id": "Hcs0HELbd9YF",
        "outputId": "067e6610-4d1a-4584-d5b2-0a420a33331c"
      },
      "source": [
        "ficha = []\n",
        "for _ in range(5):\n",
        "  nome = str(input(\"Digite o nome da pessoa: \"))\n",
        "  idade = int(input(\"Digite a idade da pessoa: \"))\n",
        "  ficha.append([idade, nome])\n",
        "print(ficha)"
      ],
      "execution_count": null,
      "outputs": [
        {
          "name": "stdout",
          "output_type": "stream",
          "text": [
            "Digite o nome da pessoa: Pedro\n",
            "Digite a idade da pessoa: 32\n",
            "Digite o nome da pessoa: Camila\n",
            "Digite a idade da pessoa: 12\n",
            "Digite o nome da pessoa: Marcos\n",
            "Digite a idade da pessoa: 33\n",
            "Digite o nome da pessoa: Melissa\n",
            "Digite a idade da pessoa: 27\n",
            "Digite o nome da pessoa: Leonardo\n",
            "Digite a idade da pessoa: 25\n",
            "[[32, 'Pedro'], [12, 'Camila'], [33, 'Marcos'], [27, 'Melissa'], [25, 'Leonardo']]\n"
          ]
        }
      ]
    },
    {
      "cell_type": "markdown",
      "metadata": {
        "id": "DJoIVzSogMpj"
      },
      "source": [
        "9. Faça um Programa que leia um vetor A com 10 números inteiros, calcule e mostre a soma dos quadrados dos elementos do vetor.\n"
      ]
    },
    {
      "cell_type": "code",
      "metadata": {
        "colab": {
          "base_uri": "https://localhost:8080/"
        },
        "id": "73LZbnVze2lu",
        "outputId": "2e74fcde-dbbb-4aba-bcb3-8d0c1495e22d"
      },
      "source": [
        "A = []\n",
        "for _ in range(10):\n",
        "  n = int(input(\"Digite um número: \"))\n",
        "  A.append(n)\n",
        "\n",
        "somaQ = 0\n",
        "for n in A:\n",
        "  somaQ += (n*n)\n",
        "\n",
        "print(somaQ)"
      ],
      "execution_count": null,
      "outputs": [
        {
          "name": "stdout",
          "output_type": "stream",
          "text": [
            "Digite um número: 1\n",
            "Digite um número: 2\n",
            "Digite um número: 3\n",
            "Digite um número: 4\n",
            "Digite um número: 5\n",
            "Digite um número: 6\n",
            "Digite um número: 7\n",
            "Digite um número: 8\n",
            "Digite um número: 9\n",
            "Digite um número: 10\n",
            "385\n"
          ]
        }
      ]
    },
    {
      "cell_type": "code",
      "metadata": {
        "id": "H97lSb9hgPDh"
      },
      "source": [
        ""
      ],
      "execution_count": null,
      "outputs": []
    },
    {
      "cell_type": "markdown",
      "metadata": {
        "id": "6aJJRlD7kwGK"
      },
      "source": [
        "10. Faça um Programa que leia dois vetores com 10 elementos cada. Gere um terceiro vetor de 20 elementos, cujos valores deverão ser compostos pelos elementos intercalados dos dois outros vetores."
      ]
    },
    {
      "cell_type": "code",
      "metadata": {
        "colab": {
          "base_uri": "https://localhost:8080/"
        },
        "id": "rYBtHpiOkxoX",
        "outputId": "552a5c85-b2da-498c-f6f7-7255afa0e777"
      },
      "source": [
        "A = []\n",
        "B = []\n",
        "C = []\n",
        "for _ in range(10):\n",
        "  n1 = int(input(\"Digite um numero para o vetor A: \"))\n",
        "  A.append(n1)\n",
        "\n",
        "for _ in range(10):\n",
        "  n2 = int(input(\"Digite um numero para o vetor B: \"))\n",
        "  B.append(n2)\n",
        "\n",
        "for i in range(10):\n",
        "  C.append(A[i])\n",
        "  C.append(B[i])\n",
        "\n",
        "print(A)\n",
        "print(B)\n",
        "print(C)\n"
      ],
      "execution_count": null,
      "outputs": [
        {
          "name": "stdout",
          "output_type": "stream",
          "text": [
            "Digite um numero para o vetor A: 1\n",
            "Digite um numero para o vetor A: 2\n",
            "Digite um numero para o vetor A: 3\n",
            "Digite um numero para o vetor A: 4\n",
            "Digite um numero para o vetor A: 5\n",
            "Digite um numero para o vetor B: 10\n",
            "Digite um numero para o vetor B: 11\n",
            "Digite um numero para o vetor B: 12\n",
            "Digite um numero para o vetor B: 13\n",
            "Digite um numero para o vetor B: 14\n",
            "[1, 2, 3, 4, 5]\n",
            "[10, 11, 12, 13, 14]\n",
            "[1, 10, 2, 11, 3, 12, 4, 13, 5, 14]\n"
          ]
        }
      ]
    },
    {
      "cell_type": "markdown",
      "metadata": {
        "id": "alrqmqMAp7E8"
      },
      "source": [
        "11. Altere o programa anterior, intercalando 3 vetores de 10 elementos cada."
      ]
    },
    {
      "cell_type": "code",
      "metadata": {
        "colab": {
          "base_uri": "https://localhost:8080/"
        },
        "id": "wxk5Oowyl9vn",
        "outputId": "b3039712-5b6d-42db-cc28-ff71935a3e39"
      },
      "source": [
        "A = []\n",
        "B = []\n",
        "C = []\n",
        "D = []\n",
        "\n",
        "for _ in range(5):\n",
        "  n1 = int(input(\"Digite um numero para o vetor A: \"))\n",
        "  A.append(n1)\n",
        "\n",
        "for _ in range(5):\n",
        "  n2 = int(input(\"Digite um numero para o vetor B: \"))\n",
        "  B.append(n2)\n",
        "\n",
        "for _ in range(5):\n",
        "  n3 = int(input(\"Digite um numero para o vetor C: \"))\n",
        "  C.append(n3)\n",
        "  \n",
        "for i in range(5):\n",
        "  D.append(A[i])\n",
        "  D.append(B[i])\n",
        "  D.append(C[i])\n",
        "\n",
        "print(A)\n",
        "print(B)\n",
        "print(C)\n",
        "print(D)\n",
        "\n",
        "\n"
      ],
      "execution_count": null,
      "outputs": [
        {
          "name": "stdout",
          "output_type": "stream",
          "text": [
            "Digite um numero para o vetor A: 1\n",
            "Digite um numero para o vetor A: 2\n",
            "Digite um numero para o vetor A: 3\n",
            "Digite um numero para o vetor A: 4\n",
            "Digite um numero para o vetor A: 5\n",
            "Digite um numero para o vetor B: 11\n",
            "Digite um numero para o vetor B: 12\n",
            "Digite um numero para o vetor B: 13\n",
            "Digite um numero para o vetor B: 14\n",
            "Digite um numero para o vetor B: 15\n",
            "Digite um numero para o vetor C: 21\n",
            "Digite um numero para o vetor C: 22\n",
            "Digite um numero para o vetor C: 23\n",
            "Digite um numero para o vetor C: 24\n",
            "Digite um numero para o vetor C: 25\n",
            "[1, 2, 3, 4, 5]\n",
            "[11, 12, 13, 14, 15]\n",
            "[21, 22, 23, 24, 25]\n",
            "[1, 11, 21, 2, 12, 22, 3, 13, 23, 4, 14, 24, 5, 15, 25]\n"
          ]
        }
      ]
    },
    {
      "cell_type": "markdown",
      "metadata": {
        "id": "6r0iq5Qfrr4s"
      },
      "source": [
        "12. Foram anotadas as idades e alturas de 30 alunos. Faça um Programa que determine quantos alunos com mais de 13 anos possuem altura inferior à média de altura desses alunos."
      ]
    },
    {
      "cell_type": "code",
      "metadata": {
        "colab": {
          "base_uri": "https://localhost:8080/",
          "height": 731
        },
        "id": "1yMofx-mrrjB",
        "outputId": "e7d0feb8-231f-4e22-887b-daeeddda9f96"
      },
      "source": [
        "ficha = list()\n",
        "while True:\n",
        "  nome = str(input(\"Digite o nome do aluno: \"))\n",
        "  idade = int(input(\"Digite a idade do aluno: \"))\n",
        "  altura = float(input(\"Digite a altura do aluno: \"))\n",
        "  ficha.append([nome, idade, altura])\n",
        "  resp = str(input(\"Quer continuar inserindo dados? [S/N] \"))\n",
        "  if resp ==\"N\" or resp == \"n\":\n",
        "    break\n",
        "print('-=' * 30)\n",
        "print(f'{\"No.\":<4}{\"NOME\":<10}{\"MÉDIA\":>8}')\n",
        "print('-=' * 30)\n",
        "for i, a in enumerate(ficha):\n",
        "  print(f'{i:<4}{a[0]:<10}{a[2]:>8.1f}')\n",
        "  resp2 = str(input(\"Mostrar alunos com média maior do que 7? [S/N] \"))\n",
        "  if resp ==\"N\" or resp == \"n\":\n",
        "    print(\"Programa finalizado! Obrigado\")\n",
        "    break"
      ],
      "execution_count": null,
      "outputs": [
        {
          "name": "stdout",
          "output_type": "stream",
          "text": [
            "Digite o nome do aluno: Pedro\n",
            "Digite a idade do aluno: 32\n",
            "Digite a altura do aluno: 1.81\n",
            "Quer continuar inserindo dados? [S/N] s\n",
            "Digite o nome do aluno: Melissa\n",
            "Digite a idade do aluno: 27\n",
            "Digite a altura do aluno: 1.65\n",
            "Quer continuar inserindo dados? [S/N] n\n",
            "-=-=-=-=-=-=-=-=-=-=-=-=-=-=-=-=-=-=-=-=-=-=-=-=-=-=-=-=-=-=\n",
            "No. NOME         MÉDIA\n",
            "-=-=-=-=-=-=-=-=-=-=-=-=-=-=-=-=-=-=-=-=-=-=-=-=-=-=-=-=-=-=\n",
            "0   Pedro          1.8\n"
          ]
        },
        {
          "ename": "KeyboardInterrupt",
          "evalue": "ignored",
          "output_type": "error",
          "traceback": [
            "\u001b[0;31m---------------------------------------------------------------------------\u001b[0m",
            "\u001b[0;31mKeyboardInterrupt\u001b[0m                         Traceback (most recent call last)",
            "\u001b[0;32m/usr/local/lib/python3.7/dist-packages/ipykernel/kernelbase.py\u001b[0m in \u001b[0;36m_input_request\u001b[0;34m(self, prompt, ident, parent, password)\u001b[0m\n\u001b[1;32m    728\u001b[0m             \u001b[0;32mtry\u001b[0m\u001b[0;34m:\u001b[0m\u001b[0;34m\u001b[0m\u001b[0;34m\u001b[0m\u001b[0m\n\u001b[0;32m--> 729\u001b[0;31m                 \u001b[0mident\u001b[0m\u001b[0;34m,\u001b[0m \u001b[0mreply\u001b[0m \u001b[0;34m=\u001b[0m \u001b[0mself\u001b[0m\u001b[0;34m.\u001b[0m\u001b[0msession\u001b[0m\u001b[0;34m.\u001b[0m\u001b[0mrecv\u001b[0m\u001b[0;34m(\u001b[0m\u001b[0mself\u001b[0m\u001b[0;34m.\u001b[0m\u001b[0mstdin_socket\u001b[0m\u001b[0;34m,\u001b[0m \u001b[0;36m0\u001b[0m\u001b[0;34m)\u001b[0m\u001b[0;34m\u001b[0m\u001b[0;34m\u001b[0m\u001b[0m\n\u001b[0m\u001b[1;32m    730\u001b[0m             \u001b[0;32mexcept\u001b[0m \u001b[0mException\u001b[0m\u001b[0;34m:\u001b[0m\u001b[0;34m\u001b[0m\u001b[0;34m\u001b[0m\u001b[0m\n",
            "\u001b[0;32m/usr/local/lib/python3.7/dist-packages/jupyter_client/session.py\u001b[0m in \u001b[0;36mrecv\u001b[0;34m(self, socket, mode, content, copy)\u001b[0m\n\u001b[1;32m    802\u001b[0m         \u001b[0;32mtry\u001b[0m\u001b[0;34m:\u001b[0m\u001b[0;34m\u001b[0m\u001b[0;34m\u001b[0m\u001b[0m\n\u001b[0;32m--> 803\u001b[0;31m             \u001b[0mmsg_list\u001b[0m \u001b[0;34m=\u001b[0m \u001b[0msocket\u001b[0m\u001b[0;34m.\u001b[0m\u001b[0mrecv_multipart\u001b[0m\u001b[0;34m(\u001b[0m\u001b[0mmode\u001b[0m\u001b[0;34m,\u001b[0m \u001b[0mcopy\u001b[0m\u001b[0;34m=\u001b[0m\u001b[0mcopy\u001b[0m\u001b[0;34m)\u001b[0m\u001b[0;34m\u001b[0m\u001b[0;34m\u001b[0m\u001b[0m\n\u001b[0m\u001b[1;32m    804\u001b[0m         \u001b[0;32mexcept\u001b[0m \u001b[0mzmq\u001b[0m\u001b[0;34m.\u001b[0m\u001b[0mZMQError\u001b[0m \u001b[0;32mas\u001b[0m \u001b[0me\u001b[0m\u001b[0;34m:\u001b[0m\u001b[0;34m\u001b[0m\u001b[0;34m\u001b[0m\u001b[0m\n",
            "\u001b[0;32m/usr/local/lib/python3.7/dist-packages/zmq/sugar/socket.py\u001b[0m in \u001b[0;36mrecv_multipart\u001b[0;34m(self, flags, copy, track)\u001b[0m\n\u001b[1;32m    624\u001b[0m         \"\"\"\n\u001b[0;32m--> 625\u001b[0;31m         \u001b[0mparts\u001b[0m \u001b[0;34m=\u001b[0m \u001b[0;34m[\u001b[0m\u001b[0mself\u001b[0m\u001b[0;34m.\u001b[0m\u001b[0mrecv\u001b[0m\u001b[0;34m(\u001b[0m\u001b[0mflags\u001b[0m\u001b[0;34m,\u001b[0m \u001b[0mcopy\u001b[0m\u001b[0;34m=\u001b[0m\u001b[0mcopy\u001b[0m\u001b[0;34m,\u001b[0m \u001b[0mtrack\u001b[0m\u001b[0;34m=\u001b[0m\u001b[0mtrack\u001b[0m\u001b[0;34m)\u001b[0m\u001b[0;34m]\u001b[0m\u001b[0;34m\u001b[0m\u001b[0;34m\u001b[0m\u001b[0m\n\u001b[0m\u001b[1;32m    626\u001b[0m         \u001b[0;31m# have first part already, only loop while more to receive\u001b[0m\u001b[0;34m\u001b[0m\u001b[0;34m\u001b[0m\u001b[0;34m\u001b[0m\u001b[0m\n",
            "\u001b[0;32mzmq/backend/cython/socket.pyx\u001b[0m in \u001b[0;36mzmq.backend.cython.socket.Socket.recv\u001b[0;34m()\u001b[0m\n",
            "\u001b[0;32mzmq/backend/cython/socket.pyx\u001b[0m in \u001b[0;36mzmq.backend.cython.socket.Socket.recv\u001b[0;34m()\u001b[0m\n",
            "\u001b[0;32mzmq/backend/cython/socket.pyx\u001b[0m in \u001b[0;36mzmq.backend.cython.socket._recv_copy\u001b[0;34m()\u001b[0m\n",
            "\u001b[0;32m/usr/local/lib/python3.7/dist-packages/zmq/backend/cython/checkrc.pxd\u001b[0m in \u001b[0;36mzmq.backend.cython.checkrc._check_rc\u001b[0;34m()\u001b[0m\n",
            "\u001b[0;31mKeyboardInterrupt\u001b[0m: ",
            "\nDuring handling of the above exception, another exception occurred:\n",
            "\u001b[0;31mKeyboardInterrupt\u001b[0m                         Traceback (most recent call last)",
            "\u001b[0;32m<ipython-input-38-b64ab86f2f7b>\u001b[0m in \u001b[0;36m<module>\u001b[0;34m()\u001b[0m\n\u001b[1;32m     13\u001b[0m \u001b[0;32mfor\u001b[0m \u001b[0mi\u001b[0m\u001b[0;34m,\u001b[0m \u001b[0ma\u001b[0m \u001b[0;32min\u001b[0m \u001b[0menumerate\u001b[0m\u001b[0;34m(\u001b[0m\u001b[0mficha\u001b[0m\u001b[0;34m)\u001b[0m\u001b[0;34m:\u001b[0m\u001b[0;34m\u001b[0m\u001b[0;34m\u001b[0m\u001b[0m\n\u001b[1;32m     14\u001b[0m   \u001b[0mprint\u001b[0m\u001b[0;34m(\u001b[0m\u001b[0;34mf'{i:<4}{a[0]:<10}{a[2]:>8.1f}'\u001b[0m\u001b[0;34m)\u001b[0m\u001b[0;34m\u001b[0m\u001b[0;34m\u001b[0m\u001b[0m\n\u001b[0;32m---> 15\u001b[0;31m   \u001b[0mresp2\u001b[0m \u001b[0;34m=\u001b[0m \u001b[0mstr\u001b[0m\u001b[0;34m(\u001b[0m\u001b[0minput\u001b[0m\u001b[0;34m(\u001b[0m\u001b[0;34m\"Mostrar alunos com média maior do que 7? [S/N] \"\u001b[0m\u001b[0;34m)\u001b[0m\u001b[0;34m)\u001b[0m\u001b[0;34m\u001b[0m\u001b[0;34m\u001b[0m\u001b[0m\n\u001b[0m\u001b[1;32m     16\u001b[0m   \u001b[0;32mif\u001b[0m \u001b[0mresp\u001b[0m \u001b[0;34m==\u001b[0m\u001b[0;34m\"N\"\u001b[0m \u001b[0;32mor\u001b[0m \u001b[0mresp\u001b[0m \u001b[0;34m==\u001b[0m \u001b[0;34m\"n\"\u001b[0m\u001b[0;34m:\u001b[0m\u001b[0;34m\u001b[0m\u001b[0;34m\u001b[0m\u001b[0m\n\u001b[1;32m     17\u001b[0m     \u001b[0mprint\u001b[0m\u001b[0;34m(\u001b[0m\u001b[0;34m\"Programa finalizado! Obrigado\"\u001b[0m\u001b[0;34m)\u001b[0m\u001b[0;34m\u001b[0m\u001b[0;34m\u001b[0m\u001b[0m\n",
            "\u001b[0;32m/usr/local/lib/python3.7/dist-packages/ipykernel/kernelbase.py\u001b[0m in \u001b[0;36mraw_input\u001b[0;34m(self, prompt)\u001b[0m\n\u001b[1;32m    702\u001b[0m             \u001b[0mself\u001b[0m\u001b[0;34m.\u001b[0m\u001b[0m_parent_ident\u001b[0m\u001b[0;34m,\u001b[0m\u001b[0;34m\u001b[0m\u001b[0;34m\u001b[0m\u001b[0m\n\u001b[1;32m    703\u001b[0m             \u001b[0mself\u001b[0m\u001b[0;34m.\u001b[0m\u001b[0m_parent_header\u001b[0m\u001b[0;34m,\u001b[0m\u001b[0;34m\u001b[0m\u001b[0;34m\u001b[0m\u001b[0m\n\u001b[0;32m--> 704\u001b[0;31m             \u001b[0mpassword\u001b[0m\u001b[0;34m=\u001b[0m\u001b[0;32mFalse\u001b[0m\u001b[0;34m,\u001b[0m\u001b[0;34m\u001b[0m\u001b[0;34m\u001b[0m\u001b[0m\n\u001b[0m\u001b[1;32m    705\u001b[0m         )\n\u001b[1;32m    706\u001b[0m \u001b[0;34m\u001b[0m\u001b[0m\n",
            "\u001b[0;32m/usr/local/lib/python3.7/dist-packages/ipykernel/kernelbase.py\u001b[0m in \u001b[0;36m_input_request\u001b[0;34m(self, prompt, ident, parent, password)\u001b[0m\n\u001b[1;32m    732\u001b[0m             \u001b[0;32mexcept\u001b[0m \u001b[0mKeyboardInterrupt\u001b[0m\u001b[0;34m:\u001b[0m\u001b[0;34m\u001b[0m\u001b[0;34m\u001b[0m\u001b[0m\n\u001b[1;32m    733\u001b[0m                 \u001b[0;31m# re-raise KeyboardInterrupt, to truncate traceback\u001b[0m\u001b[0;34m\u001b[0m\u001b[0;34m\u001b[0m\u001b[0;34m\u001b[0m\u001b[0m\n\u001b[0;32m--> 734\u001b[0;31m                 \u001b[0;32mraise\u001b[0m \u001b[0mKeyboardInterrupt\u001b[0m\u001b[0;34m\u001b[0m\u001b[0;34m\u001b[0m\u001b[0m\n\u001b[0m\u001b[1;32m    735\u001b[0m             \u001b[0;32melse\u001b[0m\u001b[0;34m:\u001b[0m\u001b[0;34m\u001b[0m\u001b[0;34m\u001b[0m\u001b[0m\n\u001b[1;32m    736\u001b[0m                 \u001b[0;32mbreak\u001b[0m\u001b[0;34m\u001b[0m\u001b[0;34m\u001b[0m\u001b[0m\n",
            "\u001b[0;31mKeyboardInterrupt\u001b[0m: "
          ]
        }
      ]
    },
    {
      "cell_type": "code",
      "metadata": {
        "colab": {
          "base_uri": "https://localhost:8080/"
        },
        "id": "XJxS0yH7rV1W",
        "outputId": "acac78d1-7b5c-419f-e1f5-42baf2d8f69e"
      },
      "source": [
        "alunos = []\n",
        "totAlunos = 5\n",
        "\n",
        "for i in range(0, totAlunos):\n",
        "    aluno = []\n",
        "    aluno.append(int(input(\"Informe a idade do aluno: \")))\n",
        "    aluno.append(float(input(\"Informe a altura do aluno: \")))\n",
        "    alunos.append(aluno)\n",
        "\n",
        "somaAltura = 0.0\n",
        "for aluno in alunos:\n",
        "    somaAltura += aluno[1]\n",
        "\n",
        "mediaAltura = somaAltura / float(totAlunos)\n",
        "\n",
        "totAlunosAltos = 0\n",
        "for aluno in alunos:\n",
        "    if (aluno[0] >= 13) and (aluno[1] >= mediaAltura):\n",
        "        totAlunosAltos += 1\n",
        "\n",
        "print(f\"Existem {len(alunos)} com mais de 13 anos acima da media de altura {totAlunosAltos}.\")"
      ],
      "execution_count": null,
      "outputs": [
        {
          "name": "stdout",
          "output_type": "stream",
          "text": [
            "Informe a idade do aluno: 12\n",
            "Informe a altura do aluno: 1.81\n",
            "Informe a idade do aluno: 40\n",
            "Informe a altura do aluno: 1.65\n",
            "Informe a idade do aluno: 15\n",
            "Informe a altura do aluno: 1.67\n",
            "Informe a idade do aluno: 90\n",
            "Informe a altura do aluno: 1.81\n",
            "Informe a idade do aluno: 25\n",
            "Informe a altura do aluno: 1.70\n",
            "Existem [[12, 1.81], [40, 1.65], [15, 1.67], [90, 1.81], [25, 1.7]] com mais de 13 anos acima da media de altura 1.\n"
          ]
        }
      ]
    },
    {
      "cell_type": "markdown",
      "metadata": {
        "id": "rGL1wnFh3EDO"
      },
      "source": [
        "**Funções**"
      ]
    },
    {
      "cell_type": "markdown",
      "metadata": {
        "id": "NPypcdln3PtS"
      },
      "source": [
        "![image.png](data:image/png;base64,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)"
      ]
    },
    {
      "cell_type": "code",
      "metadata": {
        "colab": {
          "base_uri": "https://localhost:8080/"
        },
        "id": "NZaDFDUjxgnK",
        "outputId": "5288d606-e35a-486d-88fc-18d758ce857b"
      },
      "source": [
        "n = int(input(\"Digite um número: \"))\n",
        "def imp_numeros (n: int):\n",
        "  for i in range (1, n + 1):\n",
        "    for _ in range(i):\n",
        "      print(i, end=\"   \")\n",
        "    print(\"\")\n",
        "\n",
        "imp_numeros(n)"
      ],
      "execution_count": null,
      "outputs": [
        {
          "name": "stdout",
          "output_type": "stream",
          "text": [
            "Digite um número: 3\n",
            "1   \n",
            "2   2   \n",
            "3   3   3   \n"
          ]
        }
      ]
    },
    {
      "cell_type": "markdown",
      "metadata": {
        "id": "4MZ18sDW5ZW5"
      },
      "source": [
        "![image.png](data:image/png;base64,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)"
      ]
    },
    {
      "cell_type": "code",
      "metadata": {
        "colab": {
          "base_uri": "https://localhost:8080/"
        },
        "id": "d_4Dp--y4hUE",
        "outputId": "edc28619-1594-4e1a-ec5f-54807762495f"
      },
      "source": [
        "n = int(input(\"Digite um número: \"))\n",
        "def imp_numeros (n: int):\n",
        "  for i in range (1, n + 1):\n",
        "    for j in range(1, i + 1):\n",
        "      print(j, end=\"   \")\n",
        "    print(\"\")\n",
        "\n",
        "imp_numeros(n)"
      ],
      "execution_count": null,
      "outputs": [
        {
          "name": "stdout",
          "output_type": "stream",
          "text": [
            "Digite um número: 3\n",
            "1   \n",
            "1   2   \n",
            "1   2   3   \n"
          ]
        }
      ]
    },
    {
      "cell_type": "code",
      "metadata": {
        "id": "ukTV_UR35c0w"
      },
      "source": [
        ""
      ],
      "execution_count": null,
      "outputs": []
    },
    {
      "cell_type": "code",
      "metadata": {
        "colab": {
          "base_uri": "https://localhost:8080/"
        },
        "id": "9C1XSTWR5BBg",
        "outputId": "9b5486e8-f799-4138-98cc-06879d0a4166"
      },
      "source": [
        "class Cadastro:\n",
        "  olhos=2\n",
        "  def __init__(self, nome=None, idade=25):\n",
        "    self.idade = idade\n",
        "    self.nome = nome\n",
        "\n",
        "if __name__ == \"__main__\":\n",
        "  pedro = Cadastro(nome=\"Pedro\")\n",
        "  luciano = Cadastro(nome=\"Luciano\")\n",
        "  print(luciano.__dict__)\n",
        "  print(Cadastro.olhos)\n",
        "  print(pedro.olhos)\n",
        "  print(pedro.__dict__)"
      ],
      "execution_count": 8,
      "outputs": [
        {
          "output_type": "stream",
          "name": "stdout",
          "text": [
            "{'idade': 25, 'nome': 'Luciano'}\n",
            "2\n",
            "2\n",
            "{'idade': 25, 'nome': 'Pedro'}\n"
          ]
        }
      ]
    },
    {
      "cell_type": "code",
      "metadata": {
        "id": "ih9ySnwg57Tz"
      },
      "source": [
        ""
      ],
      "execution_count": null,
      "outputs": []
    }
  ]
}